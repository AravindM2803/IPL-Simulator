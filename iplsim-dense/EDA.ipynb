{
 "cells": [
  {
   "cell_type": "code",
   "execution_count": 2,
   "metadata": {},
   "outputs": [],
   "source": [
    "import pandas as pd\n",
    "import matplotlib.pyplot as plt\n",
    "from tqdm import tqdm\n",
    "import statistics\n",
    "import plotly.offline as py\n",
    "import plotly.graph_objs as go\n",
    "from Utils.helper import res_to_string"
   ]
  },
  {
   "cell_type": "code",
   "execution_count": 3,
   "metadata": {},
   "outputs": [
    {
     "data": {
      "text/plain": [
       "(Index(['id', 'season', 'city', 'date', 'team1', 'team2', 'toss_winner',\n",
       "        'toss_decision', 'result', 'dl_applied', 'winner', 'win_by_runs',\n",
       "        'win_by_wickets', 'player_of_match', 'venue', 'umpire1', 'umpire2'],\n",
       "       dtype='object'),\n",
       " Index(['match_id', 'inning', 'batting_team', 'bowling_team', 'over', 'ball',\n",
       "        'batsman', 'non_striker', 'bowler', 'is_super_over', 'wide_runs',\n",
       "        'bye_runs', 'legbye_runs', 'noball_runs', 'penalty_runs',\n",
       "        'batsman_runs', 'extra_runs', 'total_runs', 'player_dismissed',\n",
       "        'dismissal_kind', 'fielder'],\n",
       "       dtype='object'))"
      ]
     },
     "execution_count": 3,
     "metadata": {},
     "output_type": "execute_result"
    }
   ],
   "source": [
    "matches = pd.read_csv(\"Data/matches2008-2020.csv\")\n",
    "deliveries = pd.read_csv(\"Data/deliveries2008-2020.csv\")\n",
    "matches.replace(['Rising Pune Supergiants'], ['Rising Pune Supergiant'],inplace=True)\n",
    "matches.columns, deliveries.columns"
   ]
  },
  {
   "cell_type": "code",
   "execution_count": 9,
   "metadata": {},
   "outputs": [
    {
     "name": "stdout",
     "output_type": "stream",
     "text": [
      "<class 'pandas.core.frame.DataFrame'>\n",
      "RangeIndex: 816 entries, 0 to 815\n",
      "Data columns (total 17 columns):\n",
      " #   Column           Non-Null Count  Dtype \n",
      "---  ------           --------------  ----- \n",
      " 0   id               816 non-null    int64 \n",
      " 1   season           816 non-null    object\n",
      " 2   city             816 non-null    object\n",
      " 3   date             816 non-null    object\n",
      " 4   team1            816 non-null    object\n",
      " 5   team2            816 non-null    object\n",
      " 6   toss_winner      816 non-null    object\n",
      " 7   toss_decision    816 non-null    object\n",
      " 8   result           816 non-null    object\n",
      " 9   dl_applied       816 non-null    int64 \n",
      " 10  winner           812 non-null    object\n",
      " 11  win_by_runs      816 non-null    int64 \n",
      " 12  win_by_wickets   816 non-null    int64 \n",
      " 13  player_of_match  812 non-null    object\n",
      " 14  venue            816 non-null    object\n",
      " 15  umpire1          815 non-null    object\n",
      " 16  umpire2          815 non-null    object\n",
      "dtypes: int64(4), object(13)\n",
      "memory usage: 108.5+ KB\n"
     ]
    }
   ],
   "source": [
    "matches.info()"
   ]
  },
  {
   "cell_type": "code",
   "execution_count": 10,
   "metadata": {},
   "outputs": [
    {
     "name": "stdout",
     "output_type": "stream",
     "text": [
      "<class 'pandas.core.frame.DataFrame'>\n",
      "RangeIndex: 193404 entries, 0 to 193403\n",
      "Data columns (total 21 columns):\n",
      " #   Column            Non-Null Count   Dtype \n",
      "---  ------            --------------   ----- \n",
      " 0   match_id          193404 non-null  int64 \n",
      " 1   inning            193404 non-null  int64 \n",
      " 2   batting_team      193404 non-null  object\n",
      " 3   bowling_team      193404 non-null  object\n",
      " 4   over              193404 non-null  int64 \n",
      " 5   ball              193404 non-null  int64 \n",
      " 6   batsman           193404 non-null  object\n",
      " 7   non_striker       193398 non-null  object\n",
      " 8   bowler            193404 non-null  object\n",
      " 9   is_super_over     193404 non-null  int64 \n",
      " 10  wide_runs         193404 non-null  int64 \n",
      " 11  bye_runs          193404 non-null  int64 \n",
      " 12  legbye_runs       193404 non-null  int64 \n",
      " 13  noball_runs       193404 non-null  int64 \n",
      " 14  penalty_runs      193404 non-null  int64 \n",
      " 15  batsman_runs      193404 non-null  int64 \n",
      " 16  extra_runs        193404 non-null  int64 \n",
      " 17  total_runs        193404 non-null  int64 \n",
      " 18  player_dismissed  9047 non-null    object\n",
      " 19  dismissal_kind    9047 non-null    object\n",
      " 20  fielder           6498 non-null    object\n",
      "dtypes: int64(13), object(8)\n",
      "memory usage: 31.0+ MB\n"
     ]
    }
   ],
   "source": [
    "deliveries.info()"
   ]
  },
  {
   "cell_type": "code",
   "execution_count": 3,
   "metadata": {},
   "outputs": [
    {
     "data": {
      "text/plain": [
       "418"
      ]
     },
     "execution_count": 3,
     "metadata": {},
     "output_type": "execute_result"
    }
   ],
   "source": [
    "matches[(matches[\"toss_winner\"] == matches[\"winner\"])].shape[0]"
   ]
  },
  {
   "cell_type": "code",
   "execution_count": 4,
   "metadata": {},
   "outputs": [],
   "source": [
    "start_season_indices = []\n",
    "for season in (matches[\"season\"].unique()):\n",
    "    start_index = list(matches[\"season\"]).index(season)\n",
    "    start_season_indices.append(start_index)\n",
    "start_season_indices.append(len(list(matches[\"season\"])))\n",
    "important_match_indices = []\n",
    "for i in start_season_indices[1:]:\n",
    "    important_match_indices.extend(list(range(i-4, i)))\n",
    "important_match_indices = set(important_match_indices)"
   ]
  },
  {
   "cell_type": "code",
   "execution_count": 5,
   "metadata": {},
   "outputs": [],
   "source": [
    "all_matches = [0, 0]\n",
    "qualifiers = [0, 0]\n",
    "labels = [\"Win\", \"Lose\"]\n",
    "for ind, row in matches.iterrows():\n",
    "    if row[\"winner\"] == \"NA\":\n",
    "        continue\n",
    "    elif row[\"toss_winner\"] == row[\"winner\"]:\n",
    "        all_matches[0] += 1\n",
    "    else:\n",
    "        all_matches[1] += 1\n",
    "    if ind in important_match_indices:\n",
    "        if row[\"winner\"] == \"NA\":\n",
    "            continue\n",
    "        if row[\"toss_winner\"] == row[\"winner\"]:\n",
    "            qualifiers[0] += 1\n",
    "        else:\n",
    "            qualifiers[1] += 1"
   ]
  },
  {
   "cell_type": "code",
   "execution_count": 6,
   "metadata": {},
   "outputs": [
    {
     "data": {
      "text/plain": [
       "([418, 398], [31, 21])"
      ]
     },
     "execution_count": 6,
     "metadata": {},
     "output_type": "execute_result"
    }
   ],
   "source": [
    "all_matches, qualifiers"
   ]
  },
  {
   "cell_type": "code",
   "execution_count": 7,
   "metadata": {},
   "outputs": [
    {
     "data": {
      "image/png": "[encoded data removed]",
      "text/plain": [
       "<Figure size 432x288 with 1 Axes>"
      ]
     },
     "metadata": {},
     "output_type": "display_data"
    },
    {
     "data": {
      "image/png": "[encoded data removed]",
      "text/plain": [
       "<Figure size 432x288 with 1 Axes>"
      ]
     },
     "metadata": {},
     "output_type": "display_data"
    }
   ],
   "source": [
    "plt.pie(all_matches, labels=labels, autopct=\"%.2f\")\n",
    "plt.title(\"Match outcome of the toss winner in all matches\")\n",
    "plt.show()\n",
    "plt.pie(qualifiers, labels=labels, autopct=\"%.2f\")\n",
    "plt.title(\"Match outcome of the toss winner in the qualifiers\")\n",
    "plt.show()"
   ]
  },
  {
   "cell_type": "code",
   "execution_count": 8,
   "metadata": {},
   "outputs": [
    {
     "name": "stdout",
     "output_type": "stream",
     "text": [
      "{'Sunrisers Hyderabad': 'Hyderabad', 'Royal Challengers Bangalore': 'Bangalore', 'Mumbai Indians': 'Mumbai', 'Rising Pune Supergiant': 'Pune', 'Gujarat Lions': 'Rajkot', 'Kolkata Knight Riders': 'Kolkata', 'Kings XI Punjab': 'Chandigarh', 'Delhi Capitals': 'Delhi', 'Chennai Super Kings': 'Chennai', 'Rajasthan Royals': 'Jaipur', 'Deccan Chargers': 'Hyderabad', 'Kochi Tuskers Kerala': 'Kochi', 'Pune Warriors': 'Pune', 'Punjab Kings': 'Chandigarh'}\n"
     ]
    }
   ],
   "source": [
    "home_team = {}\n",
    "for index,row in matches.iterrows():\n",
    "  if (not pd.isna(row['city']) and not pd.isna(row['team1']) and not pd.isna(row['team2'])):\n",
    "    #print(row['season'])\n",
    "    try:\n",
    "      home_team[row['team1']].append(row['city'])\n",
    "    except :\n",
    "      home_team[row['team1']] = [row['city']] \n",
    "    try:\n",
    "      home_team[row['team2']].append(row['city'])\n",
    "    except:\n",
    "      home_team[row['team2']] = [row['city']]\n",
    "for i in home_team.keys():\n",
    "  home_team[i] = statistics.mode(home_team[i])\n",
    "  # print(i,home_team[i])\n",
    "home_team[\"Punjab Kings\"] = \"Chandigarh\"\n",
    "print(home_team)"
   ]
  },
  {
   "cell_type": "code",
   "execution_count": 9,
   "metadata": {},
   "outputs": [
    {
     "name": "stdout",
     "output_type": "stream",
     "text": [
      "{'htw': 300, 'atw': 238}\n"
     ]
    },
    {
     "data": {
      "image/png": "[encoded data removed]",
      "text/plain": [
       "<Figure size 432x288 with 1 Axes>"
      ]
     },
     "metadata": {},
     "output_type": "display_data"
    }
   ],
   "source": [
    "home_team_adv={'htw':0,'atw':0}\n",
    "count=0\n",
    "for index, row in matches.iterrows():\n",
    "  count+=1\n",
    "  if((row['city']==home_team[row['team1']]) and (row['winner']==row['team1'])):\n",
    "    home_team_adv['htw']+=1\n",
    "  elif((row['city']==home_team[row['team1']]) and (row['winner']==row['team2'])):\n",
    "    home_team_adv['atw']+=1\n",
    "  elif((row['city']==home_team[row['team2']]) and (row['winner']==row['team2'])):\n",
    "    home_team_adv['htw']+=1\n",
    "  elif((row['city']==home_team[row['team2']]) and (row['winner']==row['team1'])):\n",
    "    home_team_adv['atw']+=1\n",
    "print(home_team_adv)\n",
    "plt.pie([float(v) for v in home_team_adv.values()], labels=[\"Home Team Wins\", \"Away Team Wins\"],\n",
    "           autopct='%1.1f%%')\n",
    "plt.title(\"Win distribution based on venue\")\n",
    "plt.axis('equal')\n",
    "plt.show()"
   ]
  },
  {
   "cell_type": "code",
   "execution_count": 10,
   "metadata": {},
   "outputs": [],
   "source": [
    "mom={'highest_mom':0,'not_highest_mom':0}\n",
    "for index, row in matches.iterrows():\n",
    "  a=deliveries[deliveries['match_id'] == row['id']]\n",
    "  a1=a[a['batting_team']==row['winner']]\n",
    "  xyz=a1.groupby(['batsman','batting_team'])[\"total_runs\"].sum().reset_index()\n",
    "  xyz=xyz.sort_values(by=['total_runs'],ascending=False).reset_index()\n",
    "  xyz.drop(['index'],axis=1,inplace=True)\n",
    "  try:\n",
    "    if xyz['batsman'][0] == row['player_of_match']:\n",
    "      mom['highest_mom']+=1\n",
    "    else:\n",
    "      mom['not_highest_mom']+=1\n",
    "  except:\n",
    "    pass"
   ]
  },
  {
   "cell_type": "code",
   "execution_count": 11,
   "metadata": {},
   "outputs": [
    {
     "name": "stdout",
     "output_type": "stream",
     "text": [
      "{'highest_mom': 467, 'not_highest_mom': 345}\n"
     ]
    },
    {
     "data": {
      "image/png": "[encoded data removed]",
      "text/plain": [
       "<Figure size 432x288 with 1 Axes>"
      ]
     },
     "metadata": {},
     "output_type": "display_data"
    }
   ],
   "source": [
    "print(mom)\n",
    "plt.pie([float(v) for v in mom.values()], labels=[k for k in mom.keys()],\n",
    "           autopct='%1.1f%%')\n",
    "plt.axis('equal')\n",
    "plt.show()"
   ]
  },
  {
   "cell_type": "code",
   "execution_count": null,
   "metadata": {},
   "outputs": [],
   "source": [
    "batsmen = matches[['id','season']].merge(deliveries, left_on = 'id', right_on = 'match_id', how = 'left').drop('id', axis = 1)\n",
    "max_runs=deliveries.groupby(['batsman'])['batsman_runs'].sum()\n",
    "\n",
    "a=batsmen.groupby(['batsman','batsman_runs'])['total_runs'].count().reset_index()\n",
    "b=max_runs.sort_values(ascending=False)[:15].reset_index()\n",
    "c=b.merge(a,left_on='batsman',right_on='batsman',how='left')\n",
    "c.drop('batsman_runs_x',axis=1,inplace=True)\n",
    "c.set_index('batsman',inplace=True)\n",
    "c.columns=['type','count']\n",
    "c=c[(c['type']==0)|(c['type']==1)|(c['type']==2)|(c['type']==4)|(c['type']==6)]\n",
    "cols=['type','count']\n",
    "c.reset_index(inplace=True)\n",
    "c=c.pivot('batsman','type','count')"
   ]
  },
  {
   "cell_type": "code",
   "execution_count": null,
   "metadata": {},
   "outputs": [],
   "source": [
    "# for batter in c.index:\n",
    "#     print(batter)\n",
    "#     plt.pie([c[col][batter] for col in c.columns], labels=[\"Dot\", \"1\", \"2\", \"4\", \"6\"], autopct=\"%1.1f%%\")\n",
    "#     plt.title(f\"{batter} outcome distribution\")\n",
    "#     fig = plt.gcf()\n",
    "#     fig.set_size_inches(7, 7)\n",
    "#     plt.show()"
   ]
  },
  {
   "cell_type": "code",
   "execution_count": 1,
   "metadata": {},
   "outputs": [
    {
     "name": "stdout",
     "output_type": "stream",
     "text": [
      "  0 & Retired hurt \\\\ \n",
      "  \\hline\n",
      "  1 & Dot ball \\\\ \n",
      "  \\hline\n",
      "  2 & 1 run \\\\ \n",
      "  \\hline\n",
      "  3 & 2 runs \\\\ \n",
      "  \\hline\n",
      "  4 & 3 runs \\\\ \n",
      "  \\hline\n",
      "  5 & 4 runs \\\\ \n",
      "  \\hline\n",
      "  6 & 5 runs \\\\ \n",
      "  \\hline\n",
      "  7 & 6 runs \\\\ \n",
      "  \\hline\n",
      "  8 & Wkt bowled \\\\ \n",
      "  \\hline\n",
      "  9 & Wkt caught \\\\ \n",
      "  \\hline\n",
      "  10 & Wkt LBW \\\\ \n",
      "  \\hline\n",
      "  11 & Wkt stump \\\\ \n",
      "  \\hline\n",
      "  12 & Wkt hit wicket \\\\ \n",
      "  \\hline\n",
      "  13 & Wkt obstructing the field \\\\ \n",
      "  \\hline\n",
      "  14 & Wkt runout non striker 0 runs \\\\ \n",
      "  \\hline\n",
      "  15 & Wkt run out striker 0 runs \\\\ \n",
      "  \\hline\n",
      "  16 & Wkt run out non striker 1 run \\\\ \n",
      "  \\hline\n",
      "  17 & Wkt run out striker 1 run \\\\ \n",
      "  \\hline\n",
      "  18 & Wkt run out non striker 2 runs \\\\ \n",
      "  \\hline\n",
      "  19 & Wkt run out striker 2 runs \\\\ \n",
      "  \\hline\n",
      "  20 & Wkt run out non striker 3 runs \\\\ \n",
      "  \\hline\n",
      "  21 & Wkt run out striker 3 runs \\\\ \n",
      "  \\hline\n",
      "  22 & Wkt run out no ball non striker total 2 runs \\\\ \n",
      "  \\hline\n",
      "  23 & Wkt run out no ball striker total 2 runs \\\\ \n",
      "  \\hline\n",
      "  24 & Wkt run out non striker 1 run (extras) \\\\ \n",
      "  \\hline\n",
      "  25 & Wkt run out striker 1 run (extras) \\\\ \n",
      "  \\hline\n",
      "  26 & Wkt run out non striker 2 runs (extras) \\\\ \n",
      "  \\hline\n",
      "  27 & Wkt run out striker 2 runs (extras) \\\\ \n",
      "  \\hline\n",
      "  28 & Wkt run out non striker 3 runs (extras) \\\\ \n",
      "  \\hline\n",
      "  29 & Wkt run out striker 3 runs (extras) \\\\ \n",
      "  \\hline\n",
      "  30 & Wkt run out (wide) non striker total 1 run (1 run for wide) \\\\ \n",
      "  \\hline\n",
      "  31 & Wkt run out (wide) striker total 1 run (1 run for wide) \\\\ \n",
      "  \\hline\n",
      "  32 & Wkt run out (wide) non striker total 2 runs (1 for wide and 1 by running) \\\\ \n",
      "  \\hline\n",
      "  33 & Wkt run out (wide) striker total 2 runs (1 for wide and 1 by running) \\\\ \n",
      "  \\hline\n",
      "  34 & Wkt stump (wide) total 1 run \\\\ \n",
      "  \\hline\n",
      "  35 & Wkt stump (no ball) total 1 run \\\\ \n",
      "  \\hline\n",
      "  36 & LB/byes 1 run \\\\ \n",
      "  \\hline\n",
      "  37 & LB/byes 2 runs \\\\ \n",
      "  \\hline\n",
      "  38 & LB/byes 3 runs \\\\ \n",
      "  \\hline\n",
      "  39 & LB/byes 4 runs \\\\ \n",
      "  \\hline\n",
      "  40 & No ball + 0 runs \\\\ \n",
      "  \\hline\n",
      "  41 & No ball + 1 run \\\\ \n",
      "  \\hline\n",
      "  42 & No ball + 2 runs \\\\ \n",
      "  \\hline\n",
      "  43 & No ball + 3 runs \\\\ \n",
      "  \\hline\n",
      "  44 & No ball + 4 runs \\\\ \n",
      "  \\hline\n",
      "  45 & No ball + 6 runs \\\\ \n",
      "  \\hline\n",
      "  46 & No ball + 1 run (extras) \\\\ \n",
      "  \\hline\n",
      "  47 & No ball + 2 runs (extras) \\\\ \n",
      "  \\hline\n",
      "  48 & No ball + 3 runs (extras) \\\\ \n",
      "  \\hline\n",
      "  49 & No ball + 4 runs (extras) \\\\ \n",
      "  \\hline\n",
      "  50 & Wide + 0 runs \\\\ \n",
      "  \\hline\n",
      "  51 & Wide + 1 run \\\\ \n",
      "  \\hline\n",
      "  52 & Wide + 2 runs \\\\ \n",
      "  \\hline\n",
      "  53 & Wide + 3 runs \\\\ \n",
      "  \\hline\n",
      "  54 & Wide + 4 runs \\\\ \n",
      "  \\hline\n",
      "  55 & Wkt runout noball non striker total 1 run \\\\ \n",
      "  \\hline\n",
      "  56 & Wkt runout noball striker total 1 run \\\\ \n",
      "  \\hline\n"
     ]
    }
   ],
   "source": [
    "# cell1 dummy text dummy text dummy text& cell2 & cell3 \\\\ \n",
    "#   \\hline\n",
    "from Utils.helper import res_to_string\n",
    "for ind, result in enumerate(res_to_string):\n",
    "    print(f\"  {ind} & {result} \\\\\\\\ \\n  \\\\hline\")"
   ]
  },
  {
   "cell_type": "code",
   "execution_count": null,
   "metadata": {},
   "outputs": [],
   "source": []
  }
 ],
 "metadata": {
  "kernelspec": {
   "display_name": "Python 3.8.13 ('me')",
   "language": "python",
   "name": "python3"
  },
  "language_info": {
   "codemirror_mode": {
    "name": "ipython",
    "version": 3
   },
   "file_extension": ".py",
   "mimetype": "text/x-python",
   "name": "python",
   "nbconvert_exporter": "python",
   "pygments_lexer": "ipython3",
   "version": "3.8.13"
  },
  "orig_nbformat": 4,
  "vscode": {
   "interpreter": {
    "hash": "372c8c9ca1f7ac13786fc6e8ee4eb7b6465b3c04469c5db0e016662c28f51aad"
   }
  }
 },
 "nbformat": 4,
 "nbformat_minor": 2
}
