{
 "cells": [
  {
   "cell_type": "code",
   "execution_count": 1,
   "metadata": {},
   "outputs": [],
   "source": [
    "#importing libraries\n",
    "import pandas as pd\n",
    "import numpy as np\n",
    "import tensorflow as tf\n",
    "import pickle\n",
    "import matplotlib.pyplot as plt\n",
    "import numpy as np\n",
    "from tqdm import tqdm\n",
    "import pickle\n",
    "import json\n",
    "from Utils.evaluation import EvaluationMetrics, ActualStats\n",
    "from Utils.helper import *\n",
    "from Utils.sample_squads import *"
   ]
  },
  {
   "cell_type": "markdown",
   "metadata": {},
   "source": [
    "## Initialize"
   ]
  },
  {
   "cell_type": "code",
   "execution_count": 2,
   "metadata": {},
   "outputs": [],
   "source": [
    "model_inn1 = tf.keras.models.load_model('Models\\Inn1-HeavyDense-ep20to50\\cp-0029.h5')\n",
    "model_inn2 = tf.keras.models.load_model('Models\\Inn2-HeavyDenseRequired-ep30to50\\cp-0016.h5')"
   ]
  },
  {
   "cell_type": "code",
   "execution_count": 3,
   "metadata": {},
   "outputs": [],
   "source": [
    "evaluator = EvaluationMetrics(model_inn1, model_inn2,\n",
    "                              )\n",
    "                            #   \"Evaluation/tournament1.pkl\")"
   ]
  },
  {
   "cell_type": "code",
   "execution_count": 4,
   "metadata": {},
   "outputs": [],
   "source": [
    "# set_bs = set(BS_Cols)\n",
    "# for i in evaluator.teams:\n",
    "#     (batting, bowling), venue = i\n",
    "#     for name in batting[1:]:\n",
    "#         if \"Striker_\"+name not in set_bs:\n",
    "#             print(\"Striker_\"+name)\n",
    "#         if \"Non_Striker_\"+name not in set_bs:\n",
    "#             print(\"Non_Striker_\"+name)\n",
    "#         if \"Bowler_\"+name not in set_bs:\n",
    "#             print(\"Bowler_\"+name)\n",
    "#     for name in bowling[1:]:\n",
    "#         if \"Striker_\"+name not in set_bs:\n",
    "#             print(\"Striker_\"+name)\n",
    "#         if \"Non_Striker_\"+name not in set_bs:\n",
    "#             print(\"Non_Striker_\"+name)\n",
    "#         if \"Bowler_\"+name not in set_bs:\n",
    "#             print(\"Bowler_\"+name)\n",
    "#     if \"Venue_\"+venue not in set_bs:\n",
    "#         print(\"Venue_\"+venue)\n",
    "#     if \"Batting_Team_\"+batting[0] not in set_bs:\n",
    "#         print(\"Batting_Team_\"+batting[0])\n",
    "#     if \"Batting_Team_\"+bowling[0] not in set_bs:\n",
    "#         print(\"Batting_Team_\"+bowling[0])\n",
    "#     if \"Toss_\"+batting[0] not in set_bs:\n",
    "#         print(\"Toss_\"+batting[0])\n",
    "#     if \"Toss_\"+bowling[0] not in set_bs:\n",
    "#         print(\"Toss_\"+bowling[0])\n",
    "#     if \"Bowling_Team_\"+batting[0] not in set_bs:\n",
    "#         print(\"Bowling_Team_\"+batting[0])\n",
    "#     if \"Bowling_Team_\"+bowling[0] not in set_bs:\n",
    "#         print(\"Bowling_Team_\"+bowling[0])"
   ]
  },
  {
   "cell_type": "code",
   "execution_count": 5,
   "metadata": {},
   "outputs": [
    {
     "name": "stdout",
     "output_type": "stream",
     "text": [
      "Tournament 1/5:\n"
     ]
    },
    {
     "name": "stderr",
     "output_type": "stream",
     "text": [
      "100%|███████████████████████████████████████████| 56/56 [23:19<00:00, 24.99s/it]\n"
     ]
    },
    {
     "data": {
      "text/html": [
       "<div>\n",
       "<style scoped>\n",
       "    .dataframe tbody tr th:only-of-type {\n",
       "        vertical-align: middle;\n",
       "    }\n",
       "\n",
       "    .dataframe tbody tr th {\n",
       "        vertical-align: top;\n",
       "    }\n",
       "\n",
       "    .dataframe thead th {\n",
       "        text-align: right;\n",
       "    }\n",
       "</style>\n",
       "<table border=\"1\" class=\"dataframe\">\n",
       "  <thead>\n",
       "    <tr style=\"text-align: right;\">\n",
       "      <th></th>\n",
       "      <th>Played</th>\n",
       "      <th>Wins</th>\n",
       "      <th>Losses</th>\n",
       "      <th>Points</th>\n",
       "      <th>NRR</th>\n",
       "    </tr>\n",
       "  </thead>\n",
       "  <tbody>\n",
       "    <tr>\n",
       "      <th>Mumbai Indians</th>\n",
       "      <td>14</td>\n",
       "      <td>10</td>\n",
       "      <td>4</td>\n",
       "      <td>20</td>\n",
       "      <td>1.133229</td>\n",
       "    </tr>\n",
       "    <tr>\n",
       "      <th>Rajasthan Royals</th>\n",
       "      <td>14</td>\n",
       "      <td>9</td>\n",
       "      <td>4</td>\n",
       "      <td>19</td>\n",
       "      <td>0.557884</td>\n",
       "    </tr>\n",
       "    <tr>\n",
       "      <th>Royal Challengers Bangalore</th>\n",
       "      <td>14</td>\n",
       "      <td>7</td>\n",
       "      <td>6</td>\n",
       "      <td>15</td>\n",
       "      <td>-0.092851</td>\n",
       "    </tr>\n",
       "    <tr>\n",
       "      <th>Kolkata Knight Riders</th>\n",
       "      <td>14</td>\n",
       "      <td>7</td>\n",
       "      <td>7</td>\n",
       "      <td>14</td>\n",
       "      <td>-0.146535</td>\n",
       "    </tr>\n",
       "    <tr>\n",
       "      <th>Chennai Super Kings</th>\n",
       "      <td>14</td>\n",
       "      <td>6</td>\n",
       "      <td>8</td>\n",
       "      <td>12</td>\n",
       "      <td>-0.149355</td>\n",
       "    </tr>\n",
       "    <tr>\n",
       "      <th>Sunrisers Hyderabad</th>\n",
       "      <td>14</td>\n",
       "      <td>6</td>\n",
       "      <td>8</td>\n",
       "      <td>12</td>\n",
       "      <td>-0.453456</td>\n",
       "    </tr>\n",
       "    <tr>\n",
       "      <th>Delhi Capitals</th>\n",
       "      <td>14</td>\n",
       "      <td>5</td>\n",
       "      <td>9</td>\n",
       "      <td>10</td>\n",
       "      <td>-0.299090</td>\n",
       "    </tr>\n",
       "    <tr>\n",
       "      <th>Kings XI Punjab</th>\n",
       "      <td>14</td>\n",
       "      <td>5</td>\n",
       "      <td>9</td>\n",
       "      <td>10</td>\n",
       "      <td>-0.509668</td>\n",
       "    </tr>\n",
       "  </tbody>\n",
       "</table>\n",
       "</div>"
      ],
      "text/plain": [
       "                             Played  Wins  Losses  Points       NRR\n",
       "Mumbai Indians                   14    10       4      20  1.133229\n",
       "Rajasthan Royals                 14     9       4      19  0.557884\n",
       "Royal Challengers Bangalore      14     7       6      15 -0.092851\n",
       "Kolkata Knight Riders            14     7       7      14 -0.146535\n",
       "Chennai Super Kings              14     6       8      12 -0.149355\n",
       "Sunrisers Hyderabad              14     6       8      12 -0.453456\n",
       "Delhi Capitals                   14     5       9      10 -0.299090\n",
       "Kings XI Punjab                  14     5       9      10 -0.509668"
      ]
     },
     "metadata": {},
     "output_type": "display_data"
    },
    {
     "name": "stdout",
     "output_type": "stream",
     "text": [
      "Tournament 2/5:\n"
     ]
    },
    {
     "name": "stderr",
     "output_type": "stream",
     "text": [
      "100%|███████████████████████████████████████████| 56/56 [20:35<00:00, 22.06s/it]\n"
     ]
    },
    {
     "data": {
      "text/html": [
       "<div>\n",
       "<style scoped>\n",
       "    .dataframe tbody tr th:only-of-type {\n",
       "        vertical-align: middle;\n",
       "    }\n",
       "\n",
       "    .dataframe tbody tr th {\n",
       "        vertical-align: top;\n",
       "    }\n",
       "\n",
       "    .dataframe thead th {\n",
       "        text-align: right;\n",
       "    }\n",
       "</style>\n",
       "<table border=\"1\" class=\"dataframe\">\n",
       "  <thead>\n",
       "    <tr style=\"text-align: right;\">\n",
       "      <th></th>\n",
       "      <th>Played</th>\n",
       "      <th>Wins</th>\n",
       "      <th>Losses</th>\n",
       "      <th>Points</th>\n",
       "      <th>NRR</th>\n",
       "    </tr>\n",
       "  </thead>\n",
       "  <tbody>\n",
       "    <tr>\n",
       "      <th>Mumbai Indians</th>\n",
       "      <td>14</td>\n",
       "      <td>10</td>\n",
       "      <td>3</td>\n",
       "      <td>21</td>\n",
       "      <td>0.575382</td>\n",
       "    </tr>\n",
       "    <tr>\n",
       "      <th>Royal Challengers Bangalore</th>\n",
       "      <td>14</td>\n",
       "      <td>9</td>\n",
       "      <td>5</td>\n",
       "      <td>18</td>\n",
       "      <td>0.647303</td>\n",
       "    </tr>\n",
       "    <tr>\n",
       "      <th>Kings XI Punjab</th>\n",
       "      <td>14</td>\n",
       "      <td>9</td>\n",
       "      <td>5</td>\n",
       "      <td>18</td>\n",
       "      <td>-0.004901</td>\n",
       "    </tr>\n",
       "    <tr>\n",
       "      <th>Kolkata Knight Riders</th>\n",
       "      <td>14</td>\n",
       "      <td>7</td>\n",
       "      <td>6</td>\n",
       "      <td>15</td>\n",
       "      <td>0.422942</td>\n",
       "    </tr>\n",
       "    <tr>\n",
       "      <th>Chennai Super Kings</th>\n",
       "      <td>14</td>\n",
       "      <td>6</td>\n",
       "      <td>7</td>\n",
       "      <td>13</td>\n",
       "      <td>-0.188990</td>\n",
       "    </tr>\n",
       "    <tr>\n",
       "      <th>Sunrisers Hyderabad</th>\n",
       "      <td>14</td>\n",
       "      <td>5</td>\n",
       "      <td>9</td>\n",
       "      <td>10</td>\n",
       "      <td>-0.231598</td>\n",
       "    </tr>\n",
       "    <tr>\n",
       "      <th>Delhi Capitals</th>\n",
       "      <td>14</td>\n",
       "      <td>4</td>\n",
       "      <td>9</td>\n",
       "      <td>9</td>\n",
       "      <td>-0.326759</td>\n",
       "    </tr>\n",
       "    <tr>\n",
       "      <th>Rajasthan Royals</th>\n",
       "      <td>14</td>\n",
       "      <td>4</td>\n",
       "      <td>10</td>\n",
       "      <td>8</td>\n",
       "      <td>-0.869406</td>\n",
       "    </tr>\n",
       "  </tbody>\n",
       "</table>\n",
       "</div>"
      ],
      "text/plain": [
       "                             Played  Wins  Losses  Points       NRR\n",
       "Mumbai Indians                   14    10       3      21  0.575382\n",
       "Royal Challengers Bangalore      14     9       5      18  0.647303\n",
       "Kings XI Punjab                  14     9       5      18 -0.004901\n",
       "Kolkata Knight Riders            14     7       6      15  0.422942\n",
       "Chennai Super Kings              14     6       7      13 -0.188990\n",
       "Sunrisers Hyderabad              14     5       9      10 -0.231598\n",
       "Delhi Capitals                   14     4       9       9 -0.326759\n",
       "Rajasthan Royals                 14     4      10       8 -0.869406"
      ]
     },
     "metadata": {},
     "output_type": "display_data"
    },
    {
     "name": "stdout",
     "output_type": "stream",
     "text": [
      "Tournament 3/5:\n"
     ]
    },
    {
     "name": "stderr",
     "output_type": "stream",
     "text": [
      "100%|███████████████████████████████████████████| 56/56 [19:51<00:00, 21.28s/it]\n"
     ]
    },
    {
     "data": {
      "text/html": [
       "<div>\n",
       "<style scoped>\n",
       "    .dataframe tbody tr th:only-of-type {\n",
       "        vertical-align: middle;\n",
       "    }\n",
       "\n",
       "    .dataframe tbody tr th {\n",
       "        vertical-align: top;\n",
       "    }\n",
       "\n",
       "    .dataframe thead th {\n",
       "        text-align: right;\n",
       "    }\n",
       "</style>\n",
       "<table border=\"1\" class=\"dataframe\">\n",
       "  <thead>\n",
       "    <tr style=\"text-align: right;\">\n",
       "      <th></th>\n",
       "      <th>Played</th>\n",
       "      <th>Wins</th>\n",
       "      <th>Losses</th>\n",
       "      <th>Points</th>\n",
       "      <th>NRR</th>\n",
       "    </tr>\n",
       "  </thead>\n",
       "  <tbody>\n",
       "    <tr>\n",
       "      <th>Delhi Capitals</th>\n",
       "      <td>14</td>\n",
       "      <td>10</td>\n",
       "      <td>4</td>\n",
       "      <td>20</td>\n",
       "      <td>-0.096568</td>\n",
       "    </tr>\n",
       "    <tr>\n",
       "      <th>Royal Challengers Bangalore</th>\n",
       "      <td>14</td>\n",
       "      <td>8</td>\n",
       "      <td>6</td>\n",
       "      <td>16</td>\n",
       "      <td>0.486552</td>\n",
       "    </tr>\n",
       "    <tr>\n",
       "      <th>Chennai Super Kings</th>\n",
       "      <td>14</td>\n",
       "      <td>8</td>\n",
       "      <td>6</td>\n",
       "      <td>16</td>\n",
       "      <td>0.259143</td>\n",
       "    </tr>\n",
       "    <tr>\n",
       "      <th>Rajasthan Royals</th>\n",
       "      <td>14</td>\n",
       "      <td>8</td>\n",
       "      <td>6</td>\n",
       "      <td>16</td>\n",
       "      <td>0.213781</td>\n",
       "    </tr>\n",
       "    <tr>\n",
       "      <th>Mumbai Indians</th>\n",
       "      <td>14</td>\n",
       "      <td>7</td>\n",
       "      <td>7</td>\n",
       "      <td>14</td>\n",
       "      <td>-0.622111</td>\n",
       "    </tr>\n",
       "    <tr>\n",
       "      <th>Sunrisers Hyderabad</th>\n",
       "      <td>14</td>\n",
       "      <td>6</td>\n",
       "      <td>8</td>\n",
       "      <td>12</td>\n",
       "      <td>0.293612</td>\n",
       "    </tr>\n",
       "    <tr>\n",
       "      <th>Kings XI Punjab</th>\n",
       "      <td>14</td>\n",
       "      <td>6</td>\n",
       "      <td>8</td>\n",
       "      <td>12</td>\n",
       "      <td>0.045755</td>\n",
       "    </tr>\n",
       "    <tr>\n",
       "      <th>Kolkata Knight Riders</th>\n",
       "      <td>14</td>\n",
       "      <td>3</td>\n",
       "      <td>11</td>\n",
       "      <td>6</td>\n",
       "      <td>-0.622346</td>\n",
       "    </tr>\n",
       "  </tbody>\n",
       "</table>\n",
       "</div>"
      ],
      "text/plain": [
       "                             Played  Wins  Losses  Points       NRR\n",
       "Delhi Capitals                   14    10       4      20 -0.096568\n",
       "Royal Challengers Bangalore      14     8       6      16  0.486552\n",
       "Chennai Super Kings              14     8       6      16  0.259143\n",
       "Rajasthan Royals                 14     8       6      16  0.213781\n",
       "Mumbai Indians                   14     7       7      14 -0.622111\n",
       "Sunrisers Hyderabad              14     6       8      12  0.293612\n",
       "Kings XI Punjab                  14     6       8      12  0.045755\n",
       "Kolkata Knight Riders            14     3      11       6 -0.622346"
      ]
     },
     "metadata": {},
     "output_type": "display_data"
    },
    {
     "name": "stdout",
     "output_type": "stream",
     "text": [
      "Tournament 4/5:\n"
     ]
    },
    {
     "name": "stderr",
     "output_type": "stream",
     "text": [
      "100%|███████████████████████████████████████████| 56/56 [20:30<00:00, 21.97s/it]\n"
     ]
    },
    {
     "data": {
      "text/html": [
       "<div>\n",
       "<style scoped>\n",
       "    .dataframe tbody tr th:only-of-type {\n",
       "        vertical-align: middle;\n",
       "    }\n",
       "\n",
       "    .dataframe tbody tr th {\n",
       "        vertical-align: top;\n",
       "    }\n",
       "\n",
       "    .dataframe thead th {\n",
       "        text-align: right;\n",
       "    }\n",
       "</style>\n",
       "<table border=\"1\" class=\"dataframe\">\n",
       "  <thead>\n",
       "    <tr style=\"text-align: right;\">\n",
       "      <th></th>\n",
       "      <th>Played</th>\n",
       "      <th>Wins</th>\n",
       "      <th>Losses</th>\n",
       "      <th>Points</th>\n",
       "      <th>NRR</th>\n",
       "    </tr>\n",
       "  </thead>\n",
       "  <tbody>\n",
       "    <tr>\n",
       "      <th>Kolkata Knight Riders</th>\n",
       "      <td>14</td>\n",
       "      <td>9</td>\n",
       "      <td>5</td>\n",
       "      <td>18</td>\n",
       "      <td>0.809242</td>\n",
       "    </tr>\n",
       "    <tr>\n",
       "      <th>Delhi Capitals</th>\n",
       "      <td>14</td>\n",
       "      <td>9</td>\n",
       "      <td>5</td>\n",
       "      <td>18</td>\n",
       "      <td>0.376771</td>\n",
       "    </tr>\n",
       "    <tr>\n",
       "      <th>Mumbai Indians</th>\n",
       "      <td>14</td>\n",
       "      <td>7</td>\n",
       "      <td>5</td>\n",
       "      <td>16</td>\n",
       "      <td>0.739964</td>\n",
       "    </tr>\n",
       "    <tr>\n",
       "      <th>Chennai Super Kings</th>\n",
       "      <td>14</td>\n",
       "      <td>7</td>\n",
       "      <td>7</td>\n",
       "      <td>14</td>\n",
       "      <td>0.332421</td>\n",
       "    </tr>\n",
       "    <tr>\n",
       "      <th>Kings XI Punjab</th>\n",
       "      <td>14</td>\n",
       "      <td>7</td>\n",
       "      <td>7</td>\n",
       "      <td>14</td>\n",
       "      <td>-0.460041</td>\n",
       "    </tr>\n",
       "    <tr>\n",
       "      <th>Sunrisers Hyderabad</th>\n",
       "      <td>14</td>\n",
       "      <td>6</td>\n",
       "      <td>7</td>\n",
       "      <td>13</td>\n",
       "      <td>-0.362041</td>\n",
       "    </tr>\n",
       "    <tr>\n",
       "      <th>Royal Challengers Bangalore</th>\n",
       "      <td>14</td>\n",
       "      <td>5</td>\n",
       "      <td>8</td>\n",
       "      <td>11</td>\n",
       "      <td>-0.830935</td>\n",
       "    </tr>\n",
       "    <tr>\n",
       "      <th>Rajasthan Royals</th>\n",
       "      <td>14</td>\n",
       "      <td>4</td>\n",
       "      <td>10</td>\n",
       "      <td>8</td>\n",
       "      <td>-0.653436</td>\n",
       "    </tr>\n",
       "  </tbody>\n",
       "</table>\n",
       "</div>"
      ],
      "text/plain": [
       "                             Played  Wins  Losses  Points       NRR\n",
       "Kolkata Knight Riders            14     9       5      18  0.809242\n",
       "Delhi Capitals                   14     9       5      18  0.376771\n",
       "Mumbai Indians                   14     7       5      16  0.739964\n",
       "Chennai Super Kings              14     7       7      14  0.332421\n",
       "Kings XI Punjab                  14     7       7      14 -0.460041\n",
       "Sunrisers Hyderabad              14     6       7      13 -0.362041\n",
       "Royal Challengers Bangalore      14     5       8      11 -0.830935\n",
       "Rajasthan Royals                 14     4      10       8 -0.653436"
      ]
     },
     "metadata": {},
     "output_type": "display_data"
    },
    {
     "name": "stdout",
     "output_type": "stream",
     "text": [
      "Tournament 5/5:\n"
     ]
    },
    {
     "name": "stderr",
     "output_type": "stream",
     "text": [
      "100%|███████████████████████████████████████████| 56/56 [20:16<00:00, 21.71s/it]\n"
     ]
    },
    {
     "data": {
      "text/html": [
       "<div>\n",
       "<style scoped>\n",
       "    .dataframe tbody tr th:only-of-type {\n",
       "        vertical-align: middle;\n",
       "    }\n",
       "\n",
       "    .dataframe tbody tr th {\n",
       "        vertical-align: top;\n",
       "    }\n",
       "\n",
       "    .dataframe thead th {\n",
       "        text-align: right;\n",
       "    }\n",
       "</style>\n",
       "<table border=\"1\" class=\"dataframe\">\n",
       "  <thead>\n",
       "    <tr style=\"text-align: right;\">\n",
       "      <th></th>\n",
       "      <th>Played</th>\n",
       "      <th>Wins</th>\n",
       "      <th>Losses</th>\n",
       "      <th>Points</th>\n",
       "      <th>NRR</th>\n",
       "    </tr>\n",
       "  </thead>\n",
       "  <tbody>\n",
       "    <tr>\n",
       "      <th>Mumbai Indians</th>\n",
       "      <td>14</td>\n",
       "      <td>10</td>\n",
       "      <td>4</td>\n",
       "      <td>20</td>\n",
       "      <td>0.402260</td>\n",
       "    </tr>\n",
       "    <tr>\n",
       "      <th>Rajasthan Royals</th>\n",
       "      <td>14</td>\n",
       "      <td>8</td>\n",
       "      <td>6</td>\n",
       "      <td>16</td>\n",
       "      <td>0.497872</td>\n",
       "    </tr>\n",
       "    <tr>\n",
       "      <th>Kolkata Knight Riders</th>\n",
       "      <td>14</td>\n",
       "      <td>8</td>\n",
       "      <td>6</td>\n",
       "      <td>16</td>\n",
       "      <td>0.282577</td>\n",
       "    </tr>\n",
       "    <tr>\n",
       "      <th>Royal Challengers Bangalore</th>\n",
       "      <td>14</td>\n",
       "      <td>8</td>\n",
       "      <td>6</td>\n",
       "      <td>16</td>\n",
       "      <td>0.187900</td>\n",
       "    </tr>\n",
       "    <tr>\n",
       "      <th>Sunrisers Hyderabad</th>\n",
       "      <td>14</td>\n",
       "      <td>8</td>\n",
       "      <td>6</td>\n",
       "      <td>16</td>\n",
       "      <td>-0.041527</td>\n",
       "    </tr>\n",
       "    <tr>\n",
       "      <th>Kings XI Punjab</th>\n",
       "      <td>14</td>\n",
       "      <td>6</td>\n",
       "      <td>8</td>\n",
       "      <td>12</td>\n",
       "      <td>-0.416454</td>\n",
       "    </tr>\n",
       "    <tr>\n",
       "      <th>Delhi Capitals</th>\n",
       "      <td>14</td>\n",
       "      <td>5</td>\n",
       "      <td>9</td>\n",
       "      <td>10</td>\n",
       "      <td>-0.124402</td>\n",
       "    </tr>\n",
       "    <tr>\n",
       "      <th>Chennai Super Kings</th>\n",
       "      <td>14</td>\n",
       "      <td>3</td>\n",
       "      <td>11</td>\n",
       "      <td>6</td>\n",
       "      <td>-0.814148</td>\n",
       "    </tr>\n",
       "  </tbody>\n",
       "</table>\n",
       "</div>"
      ],
      "text/plain": [
       "                             Played  Wins  Losses  Points       NRR\n",
       "Mumbai Indians                   14    10       4      20  0.402260\n",
       "Rajasthan Royals                 14     8       6      16  0.497872\n",
       "Kolkata Knight Riders            14     8       6      16  0.282577\n",
       "Royal Challengers Bangalore      14     8       6      16  0.187900\n",
       "Sunrisers Hyderabad              14     8       6      16 -0.041527\n",
       "Kings XI Punjab                  14     6       8      12 -0.416454\n",
       "Delhi Capitals                   14     5       9      10 -0.124402\n",
       "Chennai Super Kings              14     3      11       6 -0.814148"
      ]
     },
     "metadata": {},
     "output_type": "display_data"
    }
   ],
   "source": [
    "num_tournaments = 5\n",
    "verbose = 0\n",
    "for t in range(num_tournaments):\n",
    "    print(f\"Tournament {t+1}/{num_tournaments}:\")\n",
    "    evaluator.reinitialize_tournament()\n",
    "    for _ in tqdm(range(56), ncols=80, disable=True if verbose!=0 else False):\n",
    "        if verbose != 0:\n",
    "            print(f\"\\n\\nMatch number: {evaluator.match_count+1}\")   \n",
    "        evaluator.simulate_match(verbose)   \n",
    "    evaluator.display_table()\n",
    "    evaluator.save_object(\"Evaluation/tournament3_1.pkl\")"
   ]
  },
  {
   "cell_type": "code",
   "execution_count": 6,
   "metadata": {},
   "outputs": [
    {
     "data": {
      "text/plain": [
       "True"
      ]
     },
     "execution_count": 6,
     "metadata": {},
     "output_type": "execute_result"
    }
   ],
   "source": [
    "\"Required_Runs\" in (BS_Cols)\n"
   ]
  },
  {
   "cell_type": "code",
   "execution_count": 7,
   "metadata": {},
   "outputs": [],
   "source": [
    "actualstat = ActualStats(\"Evaluation/actual.pkl\")\n",
    "# actualstat = ActualStats()\n",
    "# actualstat.run_df(1, True)\n",
    "# actualstat.run_df(2, True)\n",
    "# actualstat.save_object(\"Evaluation/actual.pkl\")   "
   ]
  },
  {
   "cell_type": "code",
   "execution_count": 8,
   "metadata": {},
   "outputs": [
    {
     "data": {
      "text/plain": [
       "(795, 796)"
      ]
     },
     "execution_count": 8,
     "metadata": {},
     "output_type": "execute_result"
    }
   ],
   "source": [
    "len(actualstat.chasing_stat), len(actualstat.total_stat)"
   ]
  },
  {
   "cell_type": "markdown",
   "metadata": {},
   "source": [
    "## First Innings Target Evaluation"
   ]
  },
  {
   "cell_type": "code",
   "execution_count": 9,
   "metadata": {},
   "outputs": [
    {
     "data": {
      "text/plain": [
       "KstestResult(statistic=0.036486001435750176, pvalue=0.933793526744867)"
      ]
     },
     "execution_count": 9,
     "metadata": {},
     "output_type": "execute_result"
    }
   ],
   "source": [
    "from scipy import stats\n",
    "# stats.ttest_ind(evaluator.total_stat[::2], actualstat.total_stat, equal_var=False)\n",
    "stats.ks_2samp(evaluator.total_stat, actualstat.total_stat)\n"
   ]
  },
  {
   "cell_type": "code",
   "execution_count": 10,
   "metadata": {},
   "outputs": [
    {
     "data": {
      "text/plain": [
       "(280, 796)"
      ]
     },
     "execution_count": 10,
     "metadata": {},
     "output_type": "execute_result"
    }
   ],
   "source": [
    "len(evaluator.total_stat), len(actualstat.total_stat)"
   ]
  },
  {
   "cell_type": "code",
   "execution_count": 11,
   "metadata": {},
   "outputs": [
    {
     "data": {
      "image/png": "[encoded data removed]",
      "text/plain": [
       "<Figure size 1080x576 with 1 Axes>"
      ]
     },
     "metadata": {
      "needs_background": "light"
     },
     "output_type": "display_data"
    }
   ],
   "source": [
    "import matplotlib.pyplot as plt\n",
    "plt.hist([evaluator.total_stat, actualstat.total_stat], density=True, bins=30, label=[\"Our Simulation\", \"Actual Matches\"])\n",
    "plt.legend()\n",
    "plt.xlabel(\"First Innings Total\")\n",
    "plt.ylabel(\"Relative Frequency\")\n",
    "fig = plt.gcf()\n",
    "fig.set_size_inches(15, 8)\n",
    "plt.show()"
   ]
  },
  {
   "cell_type": "code",
   "execution_count": 12,
   "metadata": {},
   "outputs": [
    {
     "name": "stdout",
     "output_type": "stream",
     "text": [
      "0.006341691325247162\n"
     ]
    }
   ],
   "source": [
    "import statistics\n",
    "import math\n",
    "mean_sim = statistics.mean(evaluator.total_stat)\n",
    "variance_sim = statistics.variance(evaluator.total_stat)\n",
    "mean_actual = statistics.mean(actualstat.total_stat)\n",
    "variance_actual = statistics.variance(actualstat.total_stat)\n",
    "z = abs(mean_actual - mean_sim)/(math.sqrt(variance_actual+variance_sim))\n",
    "print(z)"
   ]
  },
  {
   "cell_type": "code",
   "execution_count": 13,
   "metadata": {},
   "outputs": [
    {
     "data": {
      "text/plain": [
       "(162.44095477386935, 162.71428571428572, 917.474496697323, 940.1904761904761)"
      ]
     },
     "execution_count": 13,
     "metadata": {},
     "output_type": "execute_result"
    }
   ],
   "source": [
    "mean_actual, mean_sim,variance_actual, variance_sim"
   ]
  },
  {
   "cell_type": "markdown",
   "metadata": {},
   "source": [
    "## Second Innings Evaluation"
   ]
  },
  {
   "cell_type": "code",
   "execution_count": null,
   "metadata": {},
   "outputs": [],
   "source": []
  },
  {
   "cell_type": "markdown",
   "metadata": {},
   "source": [
    "## Progression Evaluation"
   ]
  },
  {
   "cell_type": "code",
   "execution_count": 11,
   "metadata": {},
   "outputs": [
    {
     "data": {
      "image/png": "[encoded data removed]",
      "text/plain": [
       "<Figure size 576x288 with 1 Axes>"
      ]
     },
     "metadata": {
      "needs_background": "light"
     },
     "output_type": "display_data"
    },
    {
     "data": {
      "image/png": "[encoded data removed]",
      "text/plain": [
       "<Figure size 576x288 with 1 Axes>"
      ]
     },
     "metadata": {
      "needs_background": "light"
     },
     "output_type": "display_data"
    },
    {
     "data": {
      "image/png": "[encoded data removed]",
      "text/plain": [
       "<Figure size 576x288 with 1 Axes>"
      ]
     },
     "metadata": {
      "needs_background": "light"
     },
     "output_type": "display_data"
    },
    {
     "data": {
      "image/png": "[encoded data removed]",
      "text/plain": [
       "<Figure size 576x288 with 1 Axes>"
      ]
     },
     "metadata": {
      "needs_background": "light"
     },
     "output_type": "display_data"
    },
    {
     "data": {
      "image/png": "[encoded data removed]",
      "text/plain": [
       "<Figure size 576x288 with 1 Axes>"
      ]
     },
     "metadata": {
      "needs_background": "light"
     },
     "output_type": "display_data"
    },
    {
     "data": {
      "image/png": "[encoded data removed]",
      "text/plain": [
       "<Figure size 576x288 with 1 Axes>"
      ]
     },
     "metadata": {
      "needs_background": "light"
     },
     "output_type": "display_data"
    },
    {
     "data": {
      "image/png": "[encoded data removed]",
      "text/plain": [
       "<Figure size 576x288 with 1 Axes>"
      ]
     },
     "metadata": {
      "needs_background": "light"
     },
     "output_type": "display_data"
    },
    {
     "data": {
      "image/png": "[encoded data removed]",
      "text/plain": [
       "<Figure size 576x288 with 1 Axes>"
      ]
     },
     "metadata": {
      "needs_background": "light"
     },
     "output_type": "display_data"
    }
   ],
   "source": [
    "import matplotlib.pyplot as plt\n",
    "for key in [\"runs\", \"wickets\"]:\n",
    "    for i in range(4):\n",
    "        plt.hist([[k for k in evaluator.progression_stat[key][i] if k!=0], [k for k in actualstat.progression_stat[key][i] if k!=0]],\n",
    "                 density=True, bins=10, label=[\"Our Simulation\", \"Actual Matches\"])\n",
    "        plt.legend()\n",
    "        plt.xlabel(f\"{key.title()} scored in {i*5+1}-{i*5+5}\")\n",
    "        plt.ylabel(\"Relative Frequency\")\n",
    "        fig = plt.gcf()\n",
    "        fig.set_size_inches(8, 4)\n",
    "        plt.show()"
   ]
  },
  {
   "cell_type": "markdown",
   "metadata": {},
   "source": [
    "## Batsmen Statistics"
   ]
  },
  {
   "cell_type": "code",
   "execution_count": 17,
   "metadata": {},
   "outputs": [
    {
     "data": {
      "text/html": [
       "<div>\n",
       "<style scoped>\n",
       "    .dataframe tbody tr th:only-of-type {\n",
       "        vertical-align: middle;\n",
       "    }\n",
       "\n",
       "    .dataframe tbody tr th {\n",
       "        vertical-align: top;\n",
       "    }\n",
       "\n",
       "    .dataframe thead th {\n",
       "        text-align: right;\n",
       "    }\n",
       "</style>\n",
       "<table border=\"1\" class=\"dataframe\">\n",
       "  <thead>\n",
       "    <tr style=\"text-align: right;\">\n",
       "      <th></th>\n",
       "      <th>Innings</th>\n",
       "      <th>Runs</th>\n",
       "      <th>Balls</th>\n",
       "      <th>Fours</th>\n",
       "      <th>Sixes</th>\n",
       "      <th>High Score</th>\n",
       "      <th>Average</th>\n",
       "      <th>Strike Rate</th>\n",
       "      <th>Boundry Percent</th>\n",
       "    </tr>\n",
       "  </thead>\n",
       "  <tbody>\n",
       "    <tr>\n",
       "      <th>F du Plessis</th>\n",
       "      <td>56</td>\n",
       "      <td>1939</td>\n",
       "      <td>1384</td>\n",
       "      <td>177</td>\n",
       "      <td>83</td>\n",
       "      <td>134*</td>\n",
       "      <td>36.584906</td>\n",
       "      <td>140.101156</td>\n",
       "      <td>62.197009</td>\n",
       "    </tr>\n",
       "    <tr>\n",
       "      <th>P Shaw</th>\n",
       "      <td>56</td>\n",
       "      <td>1919</td>\n",
       "      <td>1454</td>\n",
       "      <td>215</td>\n",
       "      <td>60</td>\n",
       "      <td>128*</td>\n",
       "      <td>36.903846</td>\n",
       "      <td>131.980743</td>\n",
       "      <td>63.574779</td>\n",
       "    </tr>\n",
       "    <tr>\n",
       "      <th>J Bairstow</th>\n",
       "      <td>56</td>\n",
       "      <td>1896</td>\n",
       "      <td>1334</td>\n",
       "      <td>200</td>\n",
       "      <td>79</td>\n",
       "      <td>195*</td>\n",
       "      <td>37.176471</td>\n",
       "      <td>142.128936</td>\n",
       "      <td>67.194093</td>\n",
       "    </tr>\n",
       "    <tr>\n",
       "      <th>CA Lynn</th>\n",
       "      <td>56</td>\n",
       "      <td>1889</td>\n",
       "      <td>1411</td>\n",
       "      <td>205</td>\n",
       "      <td>65</td>\n",
       "      <td>97*</td>\n",
       "      <td>36.326923</td>\n",
       "      <td>133.876683</td>\n",
       "      <td>64.055056</td>\n",
       "    </tr>\n",
       "    <tr>\n",
       "      <th>CH Gayle</th>\n",
       "      <td>56</td>\n",
       "      <td>1884</td>\n",
       "      <td>1426</td>\n",
       "      <td>206</td>\n",
       "      <td>69</td>\n",
       "      <td>92*</td>\n",
       "      <td>37.680000</td>\n",
       "      <td>132.117812</td>\n",
       "      <td>65.711253</td>\n",
       "    </tr>\n",
       "    <tr>\n",
       "      <th>KL Rahul</th>\n",
       "      <td>56</td>\n",
       "      <td>1836</td>\n",
       "      <td>1465</td>\n",
       "      <td>187</td>\n",
       "      <td>61</td>\n",
       "      <td>124*</td>\n",
       "      <td>36.720000</td>\n",
       "      <td>125.324232</td>\n",
       "      <td>60.675381</td>\n",
       "    </tr>\n",
       "    <tr>\n",
       "      <th>PA Patel</th>\n",
       "      <td>56</td>\n",
       "      <td>1834</td>\n",
       "      <td>1338</td>\n",
       "      <td>197</td>\n",
       "      <td>64</td>\n",
       "      <td>119*</td>\n",
       "      <td>35.269231</td>\n",
       "      <td>137.070254</td>\n",
       "      <td>63.904035</td>\n",
       "    </tr>\n",
       "    <tr>\n",
       "      <th>S Gill</th>\n",
       "      <td>56</td>\n",
       "      <td>1755</td>\n",
       "      <td>1338</td>\n",
       "      <td>210</td>\n",
       "      <td>51</td>\n",
       "      <td>156*</td>\n",
       "      <td>33.750000</td>\n",
       "      <td>131.165919</td>\n",
       "      <td>65.299145</td>\n",
       "    </tr>\n",
       "    <tr>\n",
       "      <th>RG Sharma</th>\n",
       "      <td>56</td>\n",
       "      <td>1698</td>\n",
       "      <td>1343</td>\n",
       "      <td>167</td>\n",
       "      <td>57</td>\n",
       "      <td>113*</td>\n",
       "      <td>31.444444</td>\n",
       "      <td>126.433358</td>\n",
       "      <td>59.481743</td>\n",
       "    </tr>\n",
       "    <tr>\n",
       "      <th>SR Watson</th>\n",
       "      <td>56</td>\n",
       "      <td>1671</td>\n",
       "      <td>1337</td>\n",
       "      <td>158</td>\n",
       "      <td>68</td>\n",
       "      <td>108*</td>\n",
       "      <td>31.528302</td>\n",
       "      <td>124.981301</td>\n",
       "      <td>62.238181</td>\n",
       "    </tr>\n",
       "    <tr>\n",
       "      <th>DA Warner</th>\n",
       "      <td>56</td>\n",
       "      <td>1664</td>\n",
       "      <td>1201</td>\n",
       "      <td>188</td>\n",
       "      <td>58</td>\n",
       "      <td>142*</td>\n",
       "      <td>32.000000</td>\n",
       "      <td>138.551207</td>\n",
       "      <td>66.105769</td>\n",
       "    </tr>\n",
       "    <tr>\n",
       "      <th>JC Buttler</th>\n",
       "      <td>56</td>\n",
       "      <td>1645</td>\n",
       "      <td>1264</td>\n",
       "      <td>168</td>\n",
       "      <td>60</td>\n",
       "      <td>102*</td>\n",
       "      <td>31.634615</td>\n",
       "      <td>130.142405</td>\n",
       "      <td>62.735562</td>\n",
       "    </tr>\n",
       "    <tr>\n",
       "      <th>RV Uthappa</th>\n",
       "      <td>55</td>\n",
       "      <td>1611</td>\n",
       "      <td>1184</td>\n",
       "      <td>165</td>\n",
       "      <td>48</td>\n",
       "      <td>93*</td>\n",
       "      <td>39.292683</td>\n",
       "      <td>136.064189</td>\n",
       "      <td>58.845438</td>\n",
       "    </tr>\n",
       "    <tr>\n",
       "      <th>V Kohli</th>\n",
       "      <td>56</td>\n",
       "      <td>1584</td>\n",
       "      <td>1302</td>\n",
       "      <td>175</td>\n",
       "      <td>39</td>\n",
       "      <td>86*</td>\n",
       "      <td>30.461538</td>\n",
       "      <td>121.658986</td>\n",
       "      <td>58.964646</td>\n",
       "    </tr>\n",
       "    <tr>\n",
       "      <th>S Dhawan</th>\n",
       "      <td>56</td>\n",
       "      <td>1509</td>\n",
       "      <td>1275</td>\n",
       "      <td>170</td>\n",
       "      <td>34</td>\n",
       "      <td>98*</td>\n",
       "      <td>30.180000</td>\n",
       "      <td>118.352941</td>\n",
       "      <td>58.581842</td>\n",
       "    </tr>\n",
       "    <tr>\n",
       "      <th>SS Iyer</th>\n",
       "      <td>55</td>\n",
       "      <td>1478</td>\n",
       "      <td>1144</td>\n",
       "      <td>143</td>\n",
       "      <td>52</td>\n",
       "      <td>108*</td>\n",
       "      <td>28.980392</td>\n",
       "      <td>129.195804</td>\n",
       "      <td>59.810555</td>\n",
       "    </tr>\n",
       "    <tr>\n",
       "      <th>SK Raina</th>\n",
       "      <td>56</td>\n",
       "      <td>1471</td>\n",
       "      <td>1116</td>\n",
       "      <td>143</td>\n",
       "      <td>50</td>\n",
       "      <td>86*</td>\n",
       "      <td>30.645833</td>\n",
       "      <td>131.810036</td>\n",
       "      <td>59.279402</td>\n",
       "    </tr>\n",
       "    <tr>\n",
       "      <th>MA Agarwal</th>\n",
       "      <td>55</td>\n",
       "      <td>1459</td>\n",
       "      <td>1049</td>\n",
       "      <td>129</td>\n",
       "      <td>65</td>\n",
       "      <td>94*</td>\n",
       "      <td>29.775510</td>\n",
       "      <td>139.084843</td>\n",
       "      <td>62.097327</td>\n",
       "    </tr>\n",
       "    <tr>\n",
       "      <th>SV Samson</th>\n",
       "      <td>56</td>\n",
       "      <td>1448</td>\n",
       "      <td>1126</td>\n",
       "      <td>156</td>\n",
       "      <td>45</td>\n",
       "      <td>79*</td>\n",
       "      <td>27.846154</td>\n",
       "      <td>128.596803</td>\n",
       "      <td>61.740331</td>\n",
       "    </tr>\n",
       "    <tr>\n",
       "      <th>AM Rahane</th>\n",
       "      <td>56</td>\n",
       "      <td>1438</td>\n",
       "      <td>1137</td>\n",
       "      <td>157</td>\n",
       "      <td>43</td>\n",
       "      <td>119*</td>\n",
       "      <td>27.132075</td>\n",
       "      <td>126.473175</td>\n",
       "      <td>61.613352</td>\n",
       "    </tr>\n",
       "  </tbody>\n",
       "</table>\n",
       "</div>"
      ],
      "text/plain": [
       "              Innings  Runs  Balls  Fours  Sixes High Score    Average  \\\n",
       "F du Plessis       56  1939   1384    177     83       134*  36.584906   \n",
       "P Shaw             56  1919   1454    215     60       128*  36.903846   \n",
       "J Bairstow         56  1896   1334    200     79       195*  37.176471   \n",
       "CA Lynn            56  1889   1411    205     65        97*  36.326923   \n",
       "CH Gayle           56  1884   1426    206     69        92*  37.680000   \n",
       "KL Rahul           56  1836   1465    187     61       124*  36.720000   \n",
       "PA Patel           56  1834   1338    197     64       119*  35.269231   \n",
       "S Gill             56  1755   1338    210     51       156*  33.750000   \n",
       "RG Sharma          56  1698   1343    167     57       113*  31.444444   \n",
       "SR Watson          56  1671   1337    158     68       108*  31.528302   \n",
       "DA Warner          56  1664   1201    188     58       142*  32.000000   \n",
       "JC Buttler         56  1645   1264    168     60       102*  31.634615   \n",
       "RV Uthappa         55  1611   1184    165     48        93*  39.292683   \n",
       "V Kohli            56  1584   1302    175     39        86*  30.461538   \n",
       "S Dhawan           56  1509   1275    170     34        98*  30.180000   \n",
       "SS Iyer            55  1478   1144    143     52       108*  28.980392   \n",
       "SK Raina           56  1471   1116    143     50        86*  30.645833   \n",
       "MA Agarwal         55  1459   1049    129     65        94*  29.775510   \n",
       "SV Samson          56  1448   1126    156     45        79*  27.846154   \n",
       "AM Rahane          56  1438   1137    157     43       119*  27.132075   \n",
       "\n",
       "              Strike Rate  Boundry Percent  \n",
       "F du Plessis   140.101156        62.197009  \n",
       "P Shaw         131.980743        63.574779  \n",
       "J Bairstow     142.128936        67.194093  \n",
       "CA Lynn        133.876683        64.055056  \n",
       "CH Gayle       132.117812        65.711253  \n",
       "KL Rahul       125.324232        60.675381  \n",
       "PA Patel       137.070254        63.904035  \n",
       "S Gill         131.165919        65.299145  \n",
       "RG Sharma      126.433358        59.481743  \n",
       "SR Watson      124.981301        62.238181  \n",
       "DA Warner      138.551207        66.105769  \n",
       "JC Buttler     130.142405        62.735562  \n",
       "RV Uthappa     136.064189        58.845438  \n",
       "V Kohli        121.658986        58.964646  \n",
       "S Dhawan       118.352941        58.581842  \n",
       "SS Iyer        129.195804        59.810555  \n",
       "SK Raina       131.810036        59.279402  \n",
       "MA Agarwal     139.084843        62.097327  \n",
       "SV Samson      128.596803        61.740331  \n",
       "AM Rahane      126.473175        61.613352  "
      ]
     },
     "execution_count": 17,
     "metadata": {},
     "output_type": "execute_result"
    }
   ],
   "source": [
    "batsmen_result_dic = {}\n",
    "bat_stat = evaluator.batsmen_stat\n",
    "for batsman in bat_stat:\n",
    "    tot_runs = 0\n",
    "    tot_balls = 0\n",
    "    num_4 = 0\n",
    "    num_6 = 0\n",
    "    num_inn = 0\n",
    "    num_out = 0\n",
    "    hs = [0, \"\"]\n",
    "    dismissal_type = []\n",
    "    dismissed_by = []\n",
    "    for i in bat_stat[batsman]:\n",
    "        num_inn += 1\n",
    "        tot_runs += i[\"Runs\"]\n",
    "        if i[\"Runs\"] > hs[0] or (i[\"Runs\"] == hs[0] and hs[1] == \"\"):\n",
    "            hs[0] = i[\"Runs\"]\n",
    "            if i[\"Dismissal Type\"] != \"Not Out\":\n",
    "                hs[1] = \"*\"\n",
    "        tot_balls += i[\"Balls Faced\"]\n",
    "        num_4 += i[\"Fours\"]\n",
    "        num_6 += i[\"Sixes\"]\n",
    "        if i[\"Dismissal Type\"] != \"Not Out\":\n",
    "            num_out += 1\n",
    "        dismissal_type.append(i[\"Dismissal Type\"])\n",
    "        dismissed_by.append(i[\"Dismissed By\"])\n",
    "    batsmen_result_dic[batsman] = {\n",
    "        \"Innings\": num_inn,\n",
    "        \"Runs\": tot_runs,\n",
    "        \"Balls\": tot_balls,\n",
    "        \"Fours\": num_4,\n",
    "        \"Sixes\": num_6,\n",
    "        \"High Score\": \"\".join([str(i) for i in hs]),\n",
    "        \"Average\": tot_runs/num_out if num_out!=0 else tot_runs,\n",
    "        \"Strike Rate\": tot_runs/tot_balls*100 if tot_balls!=0 else 0,\n",
    "        \"Boundry Percent\": (6*num_6+4*num_4)/tot_runs*100 if tot_runs!=0 else 0,\n",
    "        }\n",
    "batsmen_stat_df = pd.DataFrame.from_dict(batsmen_result_dic, orient='index')\n",
    "save_df = batsmen_stat_df.sort_values(by=[\"Runs\", \"Balls\"], ascending=False)\n",
    "save_df.to_csv(\"Evaluation/Evaluate_Batsmen.csv\")\n",
    "save_df.head(20)"
   ]
  },
  {
   "cell_type": "markdown",
   "metadata": {},
   "source": [
    "## Bowler Statistics"
   ]
  },
  {
   "cell_type": "code",
   "execution_count": 110,
   "metadata": {},
   "outputs": [],
   "source": [
    "bowler_result_dic = {}\n",
    "bowler_stat = evaluator.bowler_stat\n",
    "for bowler in bowler_stat:\n",
    "    tot_runs = 0\n",
    "    tot_balls = 0\n",
    "    tot_wickets = 0\n",
    "    for i in bowler_stat[bowler]:\n",
    "        tot_runs += i[\"Runs Conceded\"]\n",
    "        tot_balls += i[\"Balls\"]\n",
    "        tot_wickets += i[\"Wickets Taken\"]\n",
    "    bowler_result_dic[bowler] = {\n",
    "        \"Runs Conceded\": tot_runs,\n",
    "        \"Overs\": f\"{tot_balls//6}.{tot_balls%6}\",\n",
    "        \"Wickets\": tot_wickets,\n",
    "        \"Economy\": tot_runs/tot_balls*6 if tot_balls != 0 else 0,\n",
    "        }\n",
    "bowler_stat_df = pd.DataFrame.from_dict(bowler_result_dic, orient='index')\n",
    "save_df = bowler_stat_df.sort_values(by=[\"Wickets\", \"Economy\"], ascending=[False, True])\n",
    "save_df.to_csv(\"Evaluation/Evaluate_Bowler.csv\")\n",
    "save_df.head(20)"
   ]
  },
  {
   "cell_type": "markdown",
   "metadata": {},
   "source": [
    "## Players Matchwise Evaluation "
   ]
  },
  {
   "cell_type": "code",
   "execution_count": 12,
   "metadata": {},
   "outputs": [],
   "source": [
    "actual_batsmen_df = pd.read_csv(\"Evaluation/Actual_Batsmen.csv\")\n",
    "evaluate_batsmen_df = pd.read_csv(\"Evaluation/Evaluate_Batsmen.csv\")\n",
    "actual_bowler_df = pd.read_csv(\"Evaluation/Actual_Bowler.csv\")\n",
    "evaluate_bowler_df = pd.read_csv(\"Evaluation/Evaluate_Bowler.csv\")"
   ]
  },
  {
   "cell_type": "code",
   "execution_count": 13,
   "metadata": {},
   "outputs": [
    {
     "data": {
      "image/png": "[encoded data removed]",
      "text/plain": [
       "<Figure size 576x288 with 1 Axes>"
      ]
     },
     "metadata": {
      "needs_background": "light"
     },
     "output_type": "display_data"
    },
    {
     "data": {
      "image/png": "[encoded data removed]",
      "text/plain": [
       "<Figure size 576x288 with 1 Axes>"
      ]
     },
     "metadata": {
      "needs_background": "light"
     },
     "output_type": "display_data"
    },
    {
     "data": {
      "image/png": "[encoded data removed]",
      "text/plain": [
       "<Figure size 576x288 with 1 Axes>"
      ]
     },
     "metadata": {
      "needs_background": "light"
     },
     "output_type": "display_data"
    },
    {
     "data": {
      "image/png": "[encoded data removed]",
      "text/plain": [
       "<Figure size 576x288 with 1 Axes>"
      ]
     },
     "metadata": {
      "needs_background": "light"
     },
     "output_type": "display_data"
    },
    {
     "data": {
      "image/png": "[encoded data removed]",
      "text/plain": [
       "<Figure size 576x288 with 1 Axes>"
      ]
     },
     "metadata": {
      "needs_background": "light"
     },
     "output_type": "display_data"
    }
   ],
   "source": [
    "for player in list(actual_batsmen_df[\"Unnamed: 0\"])[:5]: \n",
    "    if player not in evaluator.batsmen_stat:\n",
    "        continue\n",
    "    player_actual = [i[\"Runs\"] for i in actualstat.batsmen_stat[player]]\n",
    "    player_evaluator = [i[\"Runs\"] for i in evaluator.batsmen_stat[player]]\n",
    "    plt.hist([player_evaluator, player_actual], \n",
    "            density=True, bins=10,\n",
    "            label=[\"Our Simulation\", \"Actual Matches\"])\n",
    "    plt.legend()\n",
    "    plt.xlabel(f\"{player} scores\")\n",
    "    plt.ylabel(\"Relative Frequency\")\n",
    "    fig = plt.gcf()\n",
    "    fig.set_size_inches(8, 4)\n",
    "    plt.show()"
   ]
  },
  {
   "cell_type": "code",
   "execution_count": 14,
   "metadata": {},
   "outputs": [
    {
     "data": {
      "image/png": "[encoded data removed]",
      "text/plain": [
       "<Figure size 576x288 with 1 Axes>"
      ]
     },
     "metadata": {
      "needs_background": "light"
     },
     "output_type": "display_data"
    },
    {
     "data": {
      "image/png": "[encoded data removed]",
      "text/plain": [
       "<Figure size 576x288 with 1 Axes>"
      ]
     },
     "metadata": {
      "needs_background": "light"
     },
     "output_type": "display_data"
    },
    {
     "data": {
      "image/png": "[encoded data removed]",
      "text/plain": [
       "<Figure size 576x288 with 1 Axes>"
      ]
     },
     "metadata": {
      "needs_background": "light"
     },
     "output_type": "display_data"
    },
    {
     "data": {
      "image/png": "[encoded data removed]",
      "text/plain": [
       "<Figure size 576x288 with 1 Axes>"
      ]
     },
     "metadata": {
      "needs_background": "light"
     },
     "output_type": "display_data"
    }
   ],
   "source": [
    "for player in list(actual_bowler_df[\"Unnamed: 0\"])[:5]: \n",
    "    if player not in evaluator.bowler_stat:\n",
    "        continue\n",
    "    player_actual = [i[\"Wickets Taken\"] for i in actualstat.bowler_stat[player]]\n",
    "    player_evaluator = [i[\"Wickets Taken\"] for i in evaluator.bowler_stat[player]]\n",
    "    plt.hist([player_evaluator, player_actual], \n",
    "            density=True, bins=10,\n",
    "            label=[\"Our Simulation\", \"Actual Matches\"])\n",
    "    plt.legend()\n",
    "    plt.xlabel(f\"{player} wickets\")\n",
    "    plt.ylabel(\"Relative Frequency\")\n",
    "    fig = plt.gcf()\n",
    "    fig.set_size_inches(8, 4)\n",
    "    plt.show()"
   ]
  },
  {
   "cell_type": "code",
   "execution_count": null,
   "metadata": {},
   "outputs": [],
   "source": []
  }
 ],
 "metadata": {
  "interpreter": {
   "hash": "372c8c9ca1f7ac13786fc6e8ee4eb7b6465b3c04469c5db0e016662c28f51aad"
  },
  "kernelspec": {
   "display_name": "Python 3.8.13 ('me')",
   "language": "python",
   "name": "python3"
  },
  "language_info": {
   "codemirror_mode": {
    "name": "ipython",
    "version": 3
   },
   "file_extension": ".py",
   "mimetype": "text/x-python",
   "name": "python",
   "nbconvert_exporter": "python",
   "pygments_lexer": "ipython3",
   "version": "3.8.13"
  },
  "orig_nbformat": 4
 },
 "nbformat": 4,
 "nbformat_minor": 2
}
