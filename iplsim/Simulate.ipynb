{
 "cells": [
  {
   "cell_type": "code",
   "execution_count": null,
   "metadata": {},
   "outputs": [],
   "source": [
    "#importing libraries\n",
    "import pandas as pd\n",
    "import numpy as np\n",
    "import tensorflow as tf\n",
    "import random\n",
    "import functools\n",
    "import math\n",
    "import livelossplot\n",
    "import pickle\n",
    "from Utils.helper import *\n",
    "from Utils.sample_squads import *"
   ]
  },
  {
   "cell_type": "code",
   "execution_count": null,
   "metadata": {},
   "outputs": [],
   "source": [
    "model_inn_1 = tf.keras.models.load_model('Models/Inn1_SimpleRNN_10.h5')\n",
    "# model_inn_2 = tf.keras.models.load_model('Models/Inn2_SimpleRNN_10.h5')"
   ]
  },
  {
   "cell_type": "code",
   "execution_count": null,
   "metadata": {},
   "outputs": [],
   "source": [
    "inn1_df = pd.DataFrame(columns=BF_Cols)\n",
    "inn1 = Innings(RCB_Squad[0], CSK_Squad[1], CSK_Squad[0][0], RCB_Pitch, 1, inn1_df)\n",
    "inn1.simulate_inning(model_inn_1)\n",
    "display_batting_table(inn1)"
   ]
  },
  {
   "cell_type": "code",
   "execution_count": null,
   "metadata": {},
   "outputs": [],
   "source": [
    "inn1.inn_progress_df"
   ]
  },
  {
   "cell_type": "code",
   "execution_count": null,
   "metadata": {},
   "outputs": [],
   "source": [
    "print(\"Simulating First Match\")\n",
    "match_sim2 = Match(CSK_Squad, MI_Squad, MI_Pitch, model_inn_1, model_inn_2, Display=1)"
   ]
  },
  {
   "cell_type": "code",
   "execution_count": null,
   "metadata": {},
   "outputs": [],
   "source": []
  }
 ],
 "metadata": {
  "interpreter": {
   "hash": "27738a0b10e47a24e133634e38ad87b2cb08c361bed93feb1b4cdbb868cad83b"
  },
  "kernelspec": {
   "display_name": "Python 3.8.12 ('me')",
   "language": "python",
   "name": "python3"
  },
  "language_info": {
   "codemirror_mode": {
    "name": "ipython",
    "version": 3
   },
   "file_extension": ".py",
   "mimetype": "text/x-python",
   "name": "python",
   "nbconvert_exporter": "python",
   "pygments_lexer": "ipython3",
   "version": "3.8.13"
  },
  "orig_nbformat": 4
 },
 "nbformat": 4,
 "nbformat_minor": 2
}
