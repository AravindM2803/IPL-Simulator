{
  "cells": [
    {
      "cell_type": "code",
      "execution_count": 1,
      "metadata": {
        "id": "Ubn0aDXMpTeG"
      },
      "outputs": [],
      "source": [
        "#importing libraries\n",
        "import pandas as pd\n",
        "import numpy as np\n",
        "import tensorflow as tf\n",
        "import random\n",
        "from livelossplot import PlotLossesKeras\n",
        "import matplotlib.pyplot as plt\n",
        "import math\n",
        "import pickle\n",
        "from Utils.validation_callback import AdditionalValidationSets"
      ]
    },
    {
      "cell_type": "code",
      "execution_count": 2,
      "metadata": {},
      "outputs": [],
      "source": [
        "with open ('Data/Players', 'rb') as fp:\n",
        "    players = pickle.load(fp)\n",
        "with open ('Data/Venue', 'rb') as fp:\n",
        "    venue = pickle.load(fp)\n",
        "with open ('Data/Teams', 'rb') as fp:\n",
        "    teams = pickle.load(fp)\n",
        "# with open ('Data/BF_Cols', 'rb') as fp:\n",
        "#     BF_Cols = pickle.load(fp)\n",
        "# with open ('Data/BS_Cols', 'rb') as fp:\n",
        "#     BS_Cols = pickle.load(fp)"
      ]
    },
    {
      "cell_type": "code",
      "execution_count": 3,
      "metadata": {},
      "outputs": [],
      "source": [
        "def get_onehot(df):\n",
        "    # df1=pd.get_dummies(df.Toss, prefix=\"Toss\")\n",
        "    # col = \"Toss_\"\n",
        "    # df_columns = set(df[col[:-1]])\n",
        "    # not_there = list(set(teams)-df_columns)\n",
        "    # data = np.zeros((df.shape[0], len(not_there)))\n",
        "    # df_add = pd.DataFrame(data=data, columns=[col+i for i in not_there])\n",
        "    # df1 = pd.concat([df1, df_add], axis=1)\n",
        "\n",
        "    df2=pd.get_dummies(df.Venue,prefix=\"Venue\")\n",
        "    col = \"Venue_\"\n",
        "    df_columns = set(df[col[:-1]])\n",
        "    not_there = list(set(venue)-df_columns)\n",
        "    data = np.zeros((df.shape[0], len(not_there)))\n",
        "    df_add = pd.DataFrame(data=data, columns=[col+i for i in not_there])\n",
        "    df2 = pd.concat([df2, df_add], axis=1)\n",
        "\n",
        "    df3=pd.get_dummies(df.Batting_Team, prefix=\"Batting_Team\")\n",
        "    col = \"Batting_Team_\"\n",
        "    df_columns = set(df[col[:-1]])\n",
        "    not_there = list(set(teams)-df_columns)\n",
        "    data = np.zeros((df.shape[0], len(not_there)))\n",
        "    df_add = pd.DataFrame(data=data, columns=[col+i for i in not_there])\n",
        "    df3 = pd.concat([df3, df_add], axis=1)\n",
        "\n",
        "    df4=pd.get_dummies(df.Bowling_Team, prefix=\"Bowling_Team\")\n",
        "    col = \"Bowling_Team_\"\n",
        "    df_columns = set(df[col[:-1]])\n",
        "    not_there = list(set(teams)-df_columns)\n",
        "    data = np.zeros((df.shape[0], len(not_there)))\n",
        "    df_add = pd.DataFrame(data=data, columns=[col+i for i in not_there])\n",
        "    df4 = pd.concat([df4, df_add], axis=1)\n",
        "\n",
        "    df5=pd.get_dummies(df.Striker, prefix=\"Striker\")\n",
        "    df5_columns = set(df[\"Striker\"])\n",
        "    never_striker= list(set(players)-df5_columns)\n",
        "    data = np.zeros((df.shape[0], len(never_striker)))\n",
        "    df5_add = pd.DataFrame(data=data, columns=[\"Striker_\"+i for i in never_striker])\n",
        "    df5 = pd.concat([df5, df5_add], axis=1)\n",
        "\n",
        "    df6=pd.get_dummies(df.Non_Striker, prefix=\"Non_Striker\")\n",
        "    df6_columns = set(df[\"Non_Striker\"])\n",
        "    never_non_striker= list(set(players)-df6_columns)\n",
        "    data = np.zeros((df.shape[0], len(never_non_striker)))\n",
        "    df6_add = pd.DataFrame(data=data, columns=[\"Non_Striker_\"+i for i in never_non_striker])\n",
        "    df6 = pd.concat([df6, df6_add], axis=1)\n",
        "\n",
        "    df7=pd.get_dummies(df.Bowler, prefix=\"Bowler\")\n",
        "    df7_columns = set(df[\"Bowler\"])\n",
        "    never_bowler= list(set(players)-df7_columns)\n",
        "    data = np.zeros((df.shape[0], len(never_bowler)))\n",
        "    df7_add = pd.DataFrame(data=data, columns=[\"Bowler_\"+i for i in never_bowler])\n",
        "    df7 = pd.concat([df7, df7_add], axis=1)\n",
        "\n",
        "    df_one_hot=df.copy(deep=True)\n",
        "    # df_one_hot=pd.concat([df,df1,df2,df3,df4,df5,df6,df7], axis=1)\n",
        "    df_one_hot=pd.concat([df,df2,df3,df4,df5,df6,df7], axis=1)\n",
        "    df_result=pd.DataFrame(df_one_hot[\"Result\"])\n",
        "    # df_one_hot=df_one_hot.drop(columns=[\"Toss\",\"Venue\",\"Batting_Team\",\"Bowling_Team\",\"Striker\",\"Non_Striker\",\"Bowler\",\"Result\"])\n",
        "    df_one_hot=df_one_hot.drop(columns=[\"Venue\",\"Batting_Team\",\"Bowling_Team\",\"Striker\",\"Non_Striker\",\"Bowler\",\"Result\"])\n",
        "    return df_one_hot, df_result"
      ]
    },
    {
      "cell_type": "code",
      "execution_count": 4,
      "metadata": {},
      "outputs": [],
      "source": [
        "def get_cont_ids(df):\n",
        "    prev = None\n",
        "    start = 0\n",
        "    cont_ids = []\n",
        "    for ind, row in df.iterrows():\n",
        "        # curr = [[row['Toss'], row['Venue'], row['Batting_Team'], row['Bowling_Team']]]\n",
        "        curr = [[row['Venue'], row['Batting_Team'], row['Bowling_Team']]]\n",
        "        if curr != prev and prev!=None:\n",
        "            cont_ids.append([start, ind])\n",
        "            start = ind\n",
        "        prev = curr\n",
        "    cont_ids.append([start, df.shape[0]])\n",
        "    return cont_ids\n",
        "\n",
        "def get_df_split(df):\n",
        "    df_list = []\n",
        "    for start, end in get_cont_ids(df):\n",
        "        df_list.append(df[start:end].reset_index(drop=True))\n",
        "    return df_list"
      ]
    },
    {
      "cell_type": "code",
      "execution_count": 5,
      "metadata": {},
      "outputs": [],
      "source": [
        "class DataGenerator(tf.keras.utils.Sequence):\n",
        "    def __init__(self,\n",
        "            df: pd.DataFrame,\n",
        "            window: int = 6,\n",
        "            batch_size: int = 64,\n",
        "            shuffle: bool = True,\n",
        "            validate: bool = False,\n",
        "            overs_start: int = None,\n",
        "            overs_end: int = None,\n",
        "            ):\n",
        "        self.df = df\n",
        "        self.overs_start = overs_start\n",
        "        self.overs_end = overs_end\n",
        "        self.window = window\n",
        "        self.batch_size = batch_size\n",
        "        self.inp_cols = None\n",
        "        self.out_cols = None\n",
        "        self.validate = validate\n",
        "        self.batches = self.__fill_batches()\n",
        "        self.len_dataset = len(self.batches)\n",
        "        self.shuffle = shuffle\n",
        "        self.on_epoch_end()\n",
        "\n",
        "\n",
        "    def __shuffle(self):\n",
        "        for key in self.batches:\n",
        "            random.shuffle(self.batches[key])\n",
        "\n",
        "\n",
        "    def __fill_getitem_batches(self):\n",
        "        self.getitem_batches = []\n",
        "        for key in self.batches:\n",
        "            curr_size_list = self.batches[key]\n",
        "            num_items = math.ceil(len(curr_size_list)/self.batch_size)\n",
        "            for i in range(1, num_items + 1):\n",
        "                temp = curr_size_list[(i-1)*self.batch_size: i*self.batch_size]\n",
        "                inp_batch = np.array([x[0] for x in temp])\n",
        "                out_batch = np.array([x[1] for x in temp])\n",
        "                self.getitem_batches.append((inp_batch, out_batch))\n",
        "        if self.shuffle:\n",
        "            random.shuffle(self.getitem_batches)\n",
        "\n",
        "\n",
        "    def __fill_batches(self):\n",
        "        df_list = get_df_split(self.df)\n",
        "        if self.validate:\n",
        "            if self.overs_start is not None and self.overs_end is not None:\n",
        "                # filter_1 = [df[df[\"Overs\"] <= self.overs_end] for df in df_list[math.floor(0.80*len(df_list)):]]\n",
        "                # filter_2 = [df[df[\"Overs\"] >= self.overs_start] for df in filter_1]\n",
        "                one_hot_lis = [get_onehot(df[np.logical_and(df[\"Overs\"] <= self.overs_end,\n",
        "                                   df[\"Overs\"] >= self.overs_start)].reset_index(drop=True)) for df in df_list[math.floor(0.80*len(df_list)):]]\n",
        "            else:\n",
        "                one_hot_lis = [get_onehot(df) for df in df_list[math.floor(0.80*len(df_list)):]]\n",
        "        else:\n",
        "            one_hot_lis = [get_onehot(df) for df in df_list[:math.floor(0.80*len(df_list))]]\n",
        "        one_hot_lis = [(inp.reindex(sorted(inp.columns), axis=1), out) for inp, out in one_hot_lis]\n",
        "        batches = {}\n",
        "        for i in range(1, self.window + 1):\n",
        "            batches[i] = []\n",
        "        for inp, out in one_hot_lis:\n",
        "            inp_numpy, out_numpy = inp.values, out.values\n",
        "            for end in range(inp.shape[0]):\n",
        "                start = max(end - self.window + 1, 0)\n",
        "                size = end - start + 1\n",
        "                batches[size].append((inp_numpy[start: end + 1], out_numpy[end]))\n",
        "        self.inp_cols = inp.columns.to_list()\n",
        "        self.out_cols = out.columns.to_list()\n",
        "        return batches\n",
        "\n",
        "\n",
        "    def __len__(self):\n",
        "        return len(self.getitem_batches)\n",
        "\n",
        "\n",
        "    def __getitem__(self, index):\n",
        "        x, y = self.getitem_batches[index]\n",
        "        return x, np.reshape(y, (-1, ))\n",
        "\n",
        "\n",
        "    def on_epoch_end(self):\n",
        "        if self.shuffle:\n",
        "            self.__shuffle()\n",
        "        self.__fill_getitem_batches()"
      ]
    },
    {
      "cell_type": "code",
      "execution_count": 6,
      "metadata": {},
      "outputs": [],
      "source": [
        "def create_validation_sets(df, start_ends, window_size=6, batch_size=64):\n",
        "    validation_sets = []\n",
        "    for (start, end) in start_ends:\n",
        "        validation_sets.append(\n",
        "            (DataGenerator(df, window_size, batch_size,\n",
        "                          validate=True,\n",
        "                          overs_start=start,\n",
        "                          overs_end=end), f\"Overs: {start}-{end}\"))\n",
        "    return validation_sets"
      ]
    },
    {
      "cell_type": "markdown",
      "metadata": {},
      "source": [
        "## Batting First"
      ]
    },
    {
      "cell_type": "code",
      "execution_count": 7,
      "metadata": {},
      "outputs": [
        {
          "name": "stdout",
          "output_type": "stream",
          "text": [
            "Index(['Venue', 'Batting_Team', 'Bowling_Team', 'Current_Score', 'Wickets',\n",
            "       'Overs', 'Balls', 'Striker', 'Non_Striker', 'Bowler', 'Free_Hit',\n",
            "       'Result'],\n",
            "      dtype='object')\n"
          ]
        }
      ],
      "source": [
        "BF = pd.read_csv(\"Data/Batting_First.csv\")\n",
        "BF_clean = BF.drop(columns=[\"Toss\", \"Striker_Runs\", \"Striker_Balls\", \"Non_Striker_Runs\", \"Non_Striker_Balls\",\n",
        "                            \"Bowler_Runs\", \"Bowler_Runs\", \"Bowler_Overs\", \"Bowler_Balls\", \"Bowler_Wickets\"])\n",
        "print(BF_clean.columns)\n"
      ]
    },
    {
      "cell_type": "code",
      "execution_count": 8,
      "metadata": {},
      "outputs": [],
      "source": [
        "# BF = pd.read_csv(\"Data/Batting_First.csv\")\n",
        "window_size = 12\n",
        "batch_size = 8\n",
        "bf_train_gen = DataGenerator(BF_clean, window_size, batch_size)\n",
        "bf_test_gen = DataGenerator(BF_clean, window_size, batch_size, validate=True)\n",
        "validation_sets = create_validation_sets(BF_clean, ((1, 5), (6, 10), (11, 15), (16, 20)),\n",
        "                                         window_size=window_size,\n",
        "                                         batch_size=batch_size)"
      ]
    },
    {
      "cell_type": "code",
      "execution_count": 9,
      "metadata": {},
      "outputs": [],
      "source": [
        "# with open('Data\\BF_Cols.pkl', 'wb') as f:\n",
        "#     pickle.dump(bf_train_gen.inp_cols, f)"
      ]
    },
    {
      "cell_type": "code",
      "execution_count": 11,
      "metadata": {
        "id": "B0i5CvjbNz9I"
      },
      "outputs": [
        {
          "name": "stdout",
          "output_type": "stream",
          "text": [
            "Model: \"sequential\"\n",
            "_________________________________________________________________\n",
            " Layer (type)                Output Shape              Param #   \n",
            "=================================================================\n",
            " lstm (LSTM)                 (None, None, 512)         4227072   \n",
            "                                                                 \n",
            " dropout (Dropout)           (None, None, 512)         0         \n",
            "                                                                 \n",
            " lstm_1 (LSTM)               (None, None, 256)         787456    \n",
            "                                                                 \n",
            " dropout_1 (Dropout)         (None, None, 256)         0         \n",
            "                                                                 \n",
            " lstm_2 (LSTM)               (None, 64)                82176     \n",
            "                                                                 \n",
            " dropout_2 (Dropout)         (None, 64)                0         \n",
            "                                                                 \n",
            " dense (Dense)               (None, 57)                3705      \n",
            "                                                                 \n",
            "=================================================================\n",
            "Total params: 5,100,409\n",
            "Trainable params: 5,100,409\n",
            "Non-trainable params: 0\n",
            "_________________________________________________________________\n"
          ]
        }
      ],
      "source": [
        "model_inn_1 = tf.keras.Sequential([\n",
        "  tf.keras.layers.LSTM(512, return_sequences=True, input_shape=(None, bf_test_gen[0][0].shape[-1])),\n",
        "  tf.keras.layers.Dropout(0.2),\n",
        "  tf.keras.layers.LSTM(256, return_sequences=True),\n",
        "  tf.keras.layers.Dropout(0.2),\n",
        "  tf.keras.layers.LSTM(64, return_sequences=False),\n",
        "  tf.keras.layers.Dropout(0.2),\n",
        "  tf.keras.layers.Dense(57, activation='softmax')\n",
        "])\n",
        "model_inn_1.summary()"
      ]
    },
    {
      "cell_type": "code",
      "execution_count": 12,
      "metadata": {},
      "outputs": [],
      "source": [
        "# model_inn_1 = tf.keras.models.load_model('Models\\\\Inn1_SimpleRNN_10.h5')"
      ]
    },
    {
      "cell_type": "code",
      "execution_count": 13,
      "metadata": {},
      "outputs": [
        {
          "name": "stdout",
          "output_type": "stream",
          "text": [
            "Epoch 1/10\n",
            "488/488 [==============================] - 10s 21ms/step - loss: 1.6427 - accuracy: 0.4331\n",
            "487/487 [==============================] - 11s 22ms/step - loss: 1.6507 - accuracy: 0.4101\n",
            "478/478 [==============================] - 9s 19ms/step - loss: 1.6863 - accuracy: 0.4367\n",
            "481/481 [==============================] - 9s 19ms/step - loss: 1.9961 - accuracy: 0.3753\n",
            "7638/7638 [==============================] - 475s 61ms/step - loss: 1.7628 - accuracy: 0.4165 - val_loss: 1.7320 - val_accuracy: 0.4160\n",
            "Epoch 2/10\n",
            "488/488 [==============================] - 11s 22ms/step - loss: 1.6426 - accuracy: 0.4349\n",
            "487/487 [==============================] - 11s 22ms/step - loss: 1.6505 - accuracy: 0.4117\n",
            "478/478 [==============================] - 15s 31ms/step - loss: 1.6782 - accuracy: 0.4367\n",
            "481/481 [==============================] - 15s 30ms/step - loss: 1.9859 - accuracy: 0.3753\n",
            "7638/7638 [==============================] - 376s 49ms/step - loss: 1.7396 - accuracy: 0.4234 - val_loss: 1.7304 - val_accuracy: 0.4171\n",
            "Epoch 3/10\n",
            "488/488 [==============================] - 11s 21ms/step - loss: 1.6481 - accuracy: 0.4351\n",
            "487/487 [==============================] - 11s 23ms/step - loss: 1.6451 - accuracy: 0.4120\n",
            "478/478 [==============================] - 12s 24ms/step - loss: 1.6739 - accuracy: 0.4367\n",
            "481/481 [==============================] - 9s 19ms/step - loss: 1.9891 - accuracy: 0.3753\n",
            "7638/7638 [==============================] - 310s 41ms/step - loss: 1.7361 - accuracy: 0.4241 - val_loss: 1.7340 - val_accuracy: 0.4182\n",
            "Epoch 4/10\n",
            "488/488 [==============================] - 18s 37ms/step - loss: 1.6421 - accuracy: 0.4325\n",
            "487/487 [==============================] - 13s 26ms/step - loss: 1.6514 - accuracy: 0.4120\n",
            "478/478 [==============================] - 12s 25ms/step - loss: 1.6774 - accuracy: 0.4370\n",
            "481/481 [==============================] - 12s 24ms/step - loss: 2.0076 - accuracy: 0.3753\n",
            "7638/7638 [==============================] - 410s 54ms/step - loss: 1.7308 - accuracy: 0.4269 - val_loss: 1.7373 - val_accuracy: 0.4131\n",
            "Epoch 5/10\n",
            "488/488 [==============================] - 11s 21ms/step - loss: 1.6429 - accuracy: 0.4273\n",
            "487/487 [==============================] - 12s 23ms/step - loss: 1.6473 - accuracy: 0.4143\n",
            "478/478 [==============================] - 13s 27ms/step - loss: 1.6713 - accuracy: 0.4367\n",
            "481/481 [==============================] - 13s 26ms/step - loss: 1.9796 - accuracy: 0.3753\n",
            "7638/7638 [==============================] - 518s 68ms/step - loss: 1.7260 - accuracy: 0.4282 - val_loss: 1.7295 - val_accuracy: 0.4150\n",
            "Epoch 6/10\n",
            "488/488 [==============================] - 19s 38ms/step - loss: 1.6443 - accuracy: 0.4281\n",
            "487/487 [==============================] - 19s 38ms/step - loss: 1.6452 - accuracy: 0.4088\n",
            "478/478 [==============================] - 14s 30ms/step - loss: 1.6661 - accuracy: 0.4367\n",
            "481/481 [==============================] - 14s 28ms/step - loss: 1.9784 - accuracy: 0.3753\n",
            "7638/7638 [==============================] - 611s 80ms/step - loss: 1.7230 - accuracy: 0.4298 - val_loss: 1.7265 - val_accuracy: 0.4145\n",
            "Epoch 7/10\n",
            "488/488 [==============================] - 18s 37ms/step - loss: 1.6544 - accuracy: 0.4240\n",
            "487/487 [==============================] - 15s 30ms/step - loss: 1.6454 - accuracy: 0.4101\n",
            "478/478 [==============================] - 11s 22ms/step - loss: 1.6634 - accuracy: 0.4372\n",
            "481/481 [==============================] - 11s 22ms/step - loss: 1.9815 - accuracy: 0.3753\n",
            "7638/7638 [==============================] - 621s 81ms/step - loss: 1.7185 - accuracy: 0.4297 - val_loss: 1.7311 - val_accuracy: 0.4115\n",
            "Epoch 8/10\n",
            "488/488 [==============================] - 19s 38ms/step - loss: 1.6666 - accuracy: 0.4250\n",
            "487/487 [==============================] - 18s 37ms/step - loss: 1.6525 - accuracy: 0.4125\n",
            "478/478 [==============================] - 15s 32ms/step - loss: 1.6668 - accuracy: 0.4370\n",
            "481/481 [==============================] - 13s 26ms/step - loss: 1.9864 - accuracy: 0.3753\n",
            "7638/7638 [==============================] - 607s 79ms/step - loss: 1.7130 - accuracy: 0.4322 - val_loss: 1.7377 - val_accuracy: 0.4150\n",
            "Epoch 9/10\n",
            "488/488 [==============================] - 18s 36ms/step - loss: 1.6638 - accuracy: 0.4250\n",
            "487/487 [==============================] - 18s 36ms/step - loss: 1.6424 - accuracy: 0.4140\n",
            "478/478 [==============================] - 17s 36ms/step - loss: 1.6667 - accuracy: 0.4377\n",
            "481/481 [==============================] - 16s 32ms/step - loss: 1.9734 - accuracy: 0.3756\n",
            "7638/7638 [==============================] - 609s 80ms/step - loss: 1.7062 - accuracy: 0.4331 - val_loss: 1.7309 - val_accuracy: 0.4126\n",
            "Epoch 10/10\n",
            "488/488 [==============================] - 19s 39ms/step - loss: 1.6767 - accuracy: 0.4224\n",
            "487/487 [==============================] - 15s 31ms/step - loss: 1.6509 - accuracy: 0.4117\n",
            "478/478 [==============================] - 14s 28ms/step - loss: 1.6645 - accuracy: 0.4370\n",
            "481/481 [==============================] - 12s 25ms/step - loss: 1.9689 - accuracy: 0.3753\n",
            "7638/7638 [==============================] - 654s 86ms/step - loss: 1.7017 - accuracy: 0.4357 - val_loss: 1.7327 - val_accuracy: 0.4131\n"
          ]
        }
      ],
      "source": [
        "start = 0\n",
        "epochs = 10\n",
        "validation_callback = AdditionalValidationSets(validation_sets)\n",
        "model_inn_1.compile(\n",
        "              loss=tf.keras.losses.SparseCategoricalCrossentropy(),\n",
        "              metrics=['accuracy'],\n",
        "              optimizer=tf.keras.optimizers.Adam())\n",
        "history = model_inn_1.fit(bf_train_gen,\n",
        "                validation_data=bf_test_gen,\n",
        "                epochs=epochs,\n",
        "                callbacks=[AdditionalValidationSets(validation_sets)] # , PlotLossesKeras()]\n",
        "                )"
      ]
    },
    {
      "cell_type": "code",
      "execution_count": 15,
      "metadata": {},
      "outputs": [
        {
          "data": {
            "image/png": "[encoded data removed]",
            "text/plain": [
              "<Figure size 432x288 with 1 Axes>"
            ]
          },
          "metadata": {
            "needs_background": "light"
          },
          "output_type": "display_data"
        },
        {
          "data": {
            "image/png": "[encoded data removed]",
            "text/plain": [
              "<Figure size 432x288 with 1 Axes>"
            ]
          },
          "metadata": {
            "needs_background": "light"
          },
          "output_type": "display_data"
        }
      ],
      "source": [
        "history_val_callback = history.history\n",
        "for key in sorted([i for i in history_val_callback if i.split(\"_\")[0]!=\"val\"]):\n",
        "    plt.plot(history_val_callback[key])\n",
        "    plt.plot(history_val_callback[\"val_\"+key])\n",
        "    plt.xlabel('epoch')\n",
        "    plt.ylabel(key)\n",
        "    plt.title(key)\n",
        "    plt.show()"
      ]
    },
    {
      "cell_type": "code",
      "execution_count": 14,
      "metadata": {},
      "outputs": [],
      "source": [
        "model_inn_1.save('Models/Inn1_LSTM_10.h5')"
      ]
    },
    {
      "cell_type": "markdown",
      "metadata": {},
      "source": [
        "## Chasing"
      ]
    },
    {
      "cell_type": "code",
      "execution_count": 7,
      "metadata": {},
      "outputs": [
        {
          "name": "stdout",
          "output_type": "stream",
          "text": [
            "Index(['Venue', 'Batting_Team', 'Bowling_Team', 'Current_Score', 'Wickets',\n",
            "       'Overs', 'Balls', 'Striker', 'Non_Striker', 'Bowler', 'Free_Hit',\n",
            "       'Target', 'Result'],\n",
            "      dtype='object')\n"
          ]
        }
      ],
      "source": [
        "# del bf_train_gen, bf_test_gen\n",
        "BS = pd.read_csv(\"Data/Chasing.csv\")\n",
        "BS_clean = BS.drop(columns=[\"Toss\", \"Striker_Runs\", \"Striker_Balls\", \"Non_Striker_Runs\", \"Non_Striker_Balls\",\n",
        "                            \"Bowler_Runs\", \"Bowler_Runs\", \"Bowler_Overs\", \"Bowler_Balls\", \"Bowler_Wickets\"])\n",
        "print(BS_clean.columns)"
      ]
    },
    {
      "cell_type": "code",
      "execution_count": 8,
      "metadata": {},
      "outputs": [],
      "source": [
        "# BF = pd.read_csv(\"Data/Batting_First.csv\")\n",
        "window_size = 12\n",
        "batch_size = 8\n",
        "bs_train_gen = DataGenerator(BS_clean, window_size, batch_size)\n",
        "bs_test_gen = DataGenerator(BS_clean, window_size, batch_size, validate=True)\n",
        "validation_sets = create_validation_sets(BS_clean, ((1, 5), (6, 10), (11, 15), (16, 20)),\n",
        "                                         window_size=window_size,\n",
        "                                         batch_size=batch_size)"
      ]
    },
    {
      "cell_type": "code",
      "execution_count": 9,
      "metadata": {},
      "outputs": [
        {
          "name": "stdout",
          "output_type": "stream",
          "text": [
            "Model: \"sequential\"\n",
            "_________________________________________________________________\n",
            " Layer (type)                Output Shape              Param #   \n",
            "=================================================================\n",
            " dense (Dense)               (None, None, 512)         795136    \n",
            "                                                                 \n",
            " dropout (Dropout)           (None, None, 512)         0         \n",
            "                                                                 \n",
            " simple_rnn (SimpleRNN)      (None, None, 256)         196864    \n",
            "                                                                 \n",
            " dropout_1 (Dropout)         (None, None, 256)         0         \n",
            "                                                                 \n",
            " simple_rnn_1 (SimpleRNN)    (None, None, 64)          20544     \n",
            "                                                                 \n",
            " dropout_2 (Dropout)         (None, None, 64)          0         \n",
            "                                                                 \n",
            " simple_rnn_2 (SimpleRNN)    (None, 57)                6954      \n",
            "                                                                 \n",
            "=================================================================\n",
            "Total params: 1,019,498\n",
            "Trainable params: 1,019,498\n",
            "Non-trainable params: 0\n",
            "_________________________________________________________________\n"
          ]
        }
      ],
      "source": [
        "model_inn_2= tf.keras.Sequential([\n",
        "  # tf.keras.layers.SimpleRNN(512, return_sequences=True, input_shape=(None, bs_test_gen[0][0].shape[-1])),\n",
        "  tf.keras.layers.Dense(512, input_shape=(None, bs_test_gen[0][0].shape[-1])),\n",
        "  tf.keras.layers.Dropout(0.2),\n",
        "  tf.keras.layers.SimpleRNN(256, return_sequences=True),\n",
        "  tf.keras.layers.Dropout(0.2),\n",
        "  tf.keras.layers.SimpleRNN(64, return_sequences=True),\n",
        "  tf.keras.layers.Dropout(0.2),\n",
        "  tf.keras.layers.SimpleRNN(57, return_sequences=False, activation=\"softmax\"),\n",
        "])\n",
        "model_inn_2.summary()"
      ]
    },
    {
      "cell_type": "code",
      "execution_count": 10,
      "metadata": {},
      "outputs": [
        {
          "name": "stdout",
          "output_type": "stream",
          "text": [
            "Epoch 1/10\n",
            "487/487 [==============================] - 74s 153ms/step - loss: 1.7184 - accuracy: 0.4024\n",
            "484/484 [==============================] - 122s 253ms/step - loss: 1.6720 - accuracy: 0.3943\n",
            "458/458 [==============================] - 79s 173ms/step - loss: 1.7249 - accuracy: 0.4312\n",
            "367/367 [==============================] - 7s 18ms/step - loss: 2.0555 - accuracy: 0.3585\n",
            "7151/7151 [==============================] - 1023s 143ms/step - loss: 1.7968 - accuracy: 0.3498 - val_loss: 1.7758 - val_accuracy: 0.4014\n",
            "Epoch 2/10\n",
            "487/487 [==============================] - 15s 32ms/step - loss: 1.7014 - accuracy: 0.4030\n",
            "484/484 [==============================] - 14s 28ms/step - loss: 1.6998 - accuracy: 0.2973\n",
            "458/458 [==============================] - 42s 91ms/step - loss: 1.7565 - accuracy: 0.2439\n",
            "367/367 [==============================] - 7s 18ms/step - loss: 2.0784 - accuracy: 0.1900\n",
            "7151/7151 [==============================] - 984s 138ms/step - loss: 1.7634 - accuracy: 0.3769 - val_loss: 1.7914 - val_accuracy: 0.2904\n",
            "Epoch 3/10\n",
            "487/487 [==============================] - 10s 21ms/step - loss: 1.6990 - accuracy: 0.4024\n",
            "484/484 [==============================] - 9s 19ms/step - loss: 1.6808 - accuracy: 0.4300\n",
            "458/458 [==============================] - 6s 12ms/step - loss: 1.7084 - accuracy: 0.4321\n",
            "367/367 [==============================] - 5s 13ms/step - loss: 1.9982 - accuracy: 0.3585\n",
            "7151/7151 [==============================] - 980s 137ms/step - loss: 1.7537 - accuracy: 0.3907 - val_loss: 1.7574 - val_accuracy: 0.4110\n",
            "Epoch 4/10\n",
            "487/487 [==============================] - 7s 15ms/step - loss: 1.6958 - accuracy: 0.4030\n",
            "484/484 [==============================] - 6s 13ms/step - loss: 1.7030 - accuracy: 0.2973\n",
            "458/458 [==============================] - 15s 32ms/step - loss: 1.7429 - accuracy: 0.2439\n",
            "367/367 [==============================] - 24s 65ms/step - loss: 2.0533 - accuracy: 0.1900\n",
            "7151/7151 [==============================] - 1081s 151ms/step - loss: 1.7531 - accuracy: 0.3942 - val_loss: 1.7812 - val_accuracy: 0.2904\n",
            "Epoch 5/10\n",
            "  23/7151 [..............................] - ETA: 38:46 - loss: 1.9768 - accuracy: 0.3478"
          ]
        }
      ],
      "source": [
        "start = 0\n",
        "epochs = 10\n",
        "validation_callback = AdditionalValidationSets(validation_sets)\n",
        "model_inn_2.compile(\n",
        "              loss=tf.keras.losses.SparseCategoricalCrossentropy(),\n",
        "              metrics=['accuracy'],\n",
        "              optimizer=tf.keras.optimizers.Adam())\n",
        "history = model_inn_2.fit(bs_train_gen,\n",
        "                validation_data=bs_test_gen,\n",
        "                epochs=epochs,\n",
        "                callbacks=[AdditionalValidationSets(validation_sets)] # , PlotLossesKeras()]\n",
        "                )"
      ]
    },
    {
      "cell_type": "code",
      "execution_count": 26,
      "metadata": {},
      "outputs": [],
      "source": [
        "model_inn_2.save('Models/Inn2_SimpleRNN_10.h5')"
      ]
    },
    {
      "cell_type": "code",
      "execution_count": 7,
      "metadata": {},
      "outputs": [],
      "source": [
        "model_inn_1 = tf.keras.models.load_model('Models/Inn1_SimpleRNN_10.h5')\n",
        "model_inn_2 = tf.keras.models.load_model('Models/Inn2_SimpleRNN_10.h5')"
      ]
    }
  ],
  "metadata": {
    "accelerator": "GPU",
    "colab": {
      "collapsed_sections": [],
      "name": "IPL_Test_Simulator.ipynb",
      "provenance": []
    },
    "interpreter": {
      "hash": "617e2090b34b21d2056b5327d757b72c007bf58af971eb9fd82adb30549d6c62"
    },
    "kernelspec": {
      "display_name": "Python 3.8.8 64-bit ('TensorFlow': conda)",
      "language": "python",
      "name": "python3"
    },
    "language_info": {
      "codemirror_mode": {
        "name": "ipython",
        "version": 3
      },
      "file_extension": ".py",
      "mimetype": "text/x-python",
      "name": "python",
      "nbconvert_exporter": "python",
      "pygments_lexer": "ipython3",
      "version": "3.8.13"
    }
  },
  "nbformat": 4,
  "nbformat_minor": 0
}
