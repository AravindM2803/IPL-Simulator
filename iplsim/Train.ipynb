{
  "cells": [
    {
      "cell_type": "code",
      "execution_count": 1,
      "metadata": {
        "id": "Ubn0aDXMpTeG"
      },
      "outputs": [],
      "source": [
        "#importing libraries\n",
        "import pandas as pd\n",
        "import numpy as np\n",
        "import tensorflow as tf\n",
        "import random\n",
        "import livelossplot\n",
        "import math\n",
        "import pickle"
      ]
    },
    {
      "cell_type": "code",
      "execution_count": 2,
      "metadata": {},
      "outputs": [],
      "source": [
        "with open ('Data/Players', 'rb') as fp:\n",
        "    players = pickle.load(fp)\n",
        "with open ('Data/Venue', 'rb') as fp:\n",
        "    venue = pickle.load(fp)\n",
        "with open ('Data/Teams', 'rb') as fp:\n",
        "    teams = pickle.load(fp)\n",
        "with open ('Data/BF_Cols', 'rb') as fp:\n",
        "    BF_Cols = pickle.load(fp)\n",
        "with open ('Data/BS_Cols', 'rb') as fp:\n",
        "    BS_Cols = pickle.load(fp)"
      ]
    },
    {
      "cell_type": "code",
      "execution_count": 3,
      "metadata": {},
      "outputs": [],
      "source": [
        "def get_onehot(df):\n",
        "    df1=pd.get_dummies(df.Toss, prefix=\"Toss\")\n",
        "    col = \"Toss_\"\n",
        "    df_columns = set(df[col[:-1]])\n",
        "    not_there = list(set(teams)-df_columns)\n",
        "    data = np.zeros((df.shape[0], len(not_there)))\n",
        "    df_add = pd.DataFrame(data=data, columns=[col+i for i in not_there])\n",
        "    df1 = pd.concat([df1, df_add], axis=1)\n",
        "\n",
        "    df2=pd.get_dummies(df.Venue,prefix=\"Venue\")\n",
        "    col = \"Venue_\"\n",
        "    df_columns = set(df[col[:-1]])\n",
        "    not_there = list(set(venue)-df_columns)\n",
        "    data = np.zeros((df.shape[0], len(not_there)))\n",
        "    df_add = pd.DataFrame(data=data, columns=[col+i for i in not_there])\n",
        "    df2 = pd.concat([df2, df_add], axis=1)\n",
        "\n",
        "    df3=pd.get_dummies(df.Batting_Team, prefix=\"Batting_Team\")\n",
        "    col = \"Batting_Team_\"\n",
        "    df_columns = set(df[col[:-1]])\n",
        "    not_there = list(set(teams)-df_columns)\n",
        "    data = np.zeros((df.shape[0], len(not_there)))\n",
        "    df_add = pd.DataFrame(data=data, columns=[col+i for i in not_there])\n",
        "    df3 = pd.concat([df3, df_add], axis=1)\n",
        "\n",
        "    df4=pd.get_dummies(df.Bowling_Team, prefix=\"Bowling_Team\")\n",
        "    col = \"Bowling_Team_\"\n",
        "    df_columns = set(df[col[:-1]])\n",
        "    not_there = list(set(teams)-df_columns)\n",
        "    data = np.zeros((df.shape[0], len(not_there)))\n",
        "    df_add = pd.DataFrame(data=data, columns=[col+i for i in not_there])\n",
        "    df4 = pd.concat([df4, df_add], axis=1)\n",
        "\n",
        "    df5=pd.get_dummies(df.Striker, prefix=\"Striker\")\n",
        "    df5_columns = set(df[\"Striker\"])\n",
        "    never_striker= list(set(players)-df5_columns)\n",
        "    data = np.zeros((df.shape[0], len(never_striker)))\n",
        "    df5_add = pd.DataFrame(data=data, columns=[\"Striker_\"+i for i in never_striker])\n",
        "    df5 = pd.concat([df5, df5_add], axis=1)\n",
        "\n",
        "    df6=pd.get_dummies(df.Non_Striker, prefix=\"Non_Striker\")\n",
        "    df6_columns = set(df[\"Non_Striker\"])\n",
        "    never_non_striker= list(set(players)-df6_columns)\n",
        "    data = np.zeros((df.shape[0], len(never_non_striker)))\n",
        "    df6_add = pd.DataFrame(data=data, columns=[\"Non_Striker_\"+i for i in never_non_striker])\n",
        "    df6 = pd.concat([df6, df6_add], axis=1)\n",
        "\n",
        "    df7=pd.get_dummies(df.Bowler, prefix=\"Bowler\")\n",
        "    df7_columns = set(df[\"Bowler\"])\n",
        "    never_bowler= list(set(players)-df7_columns)\n",
        "    data = np.zeros((df.shape[0], len(never_bowler)))\n",
        "    df7_add = pd.DataFrame(data=data, columns=[\"Bowler_\"+i for i in never_bowler])\n",
        "    df7 = pd.concat([df7, df7_add], axis=1)\n",
        "\n",
        "    df_one_hot=df.copy(deep=True)\n",
        "    df_one_hot=pd.concat([df,df1,df2,df3,df4,df5,df6,df7], axis=1)\n",
        "    df_result=pd.DataFrame(df_one_hot[\"Result\"])\n",
        "    df_one_hot=df_one_hot.drop(columns=[\"Toss\",\"Venue\",\"Batting_Team\",\"Bowling_Team\",\"Striker\",\"Non_Striker\",\"Bowler\",\"Result\"])\n",
        "    return df_one_hot, df_result"
      ]
    },
    {
      "cell_type": "code",
      "execution_count": 4,
      "metadata": {},
      "outputs": [],
      "source": [
        "def get_cont_ids(df):\n",
        "    prev = None\n",
        "    start = 0\n",
        "    cont_ids = []\n",
        "    for ind, row in df.iterrows():\n",
        "        curr = [[row['Toss'], row['Venue'], row['Batting_Team'], row['Bowling_Team']]]\n",
        "        if curr != prev and prev!=None:\n",
        "            cont_ids.append([start, ind])\n",
        "            start = ind\n",
        "        prev = curr\n",
        "    cont_ids.append([start, df.shape[0]])\n",
        "    return cont_ids\n",
        "\n",
        "def get_df_split(df):\n",
        "    df_list = []\n",
        "    for start, end in get_cont_ids(df):\n",
        "        df_list.append(df[start:end].reset_index(drop=True))\n",
        "    return df_list"
      ]
    },
    {
      "cell_type": "code",
      "execution_count": 5,
      "metadata": {},
      "outputs": [],
      "source": [
        "class DataGenerator(tf.keras.utils.Sequence):\n",
        "    def __init__(self,\n",
        "            df: pd.DataFrame,\n",
        "            window: int = 6,\n",
        "            batch_size: int = 64,\n",
        "            shuffle: bool = True,\n",
        "            validate: bool = False\n",
        "            ):\n",
        "        self.df = df\n",
        "        self.window = window\n",
        "        self.batch_size = batch_size\n",
        "        self.inp_cols = None\n",
        "        self.out_cols = None\n",
        "        self.validate = validate\n",
        "        self.batches = self.__fill_batches()\n",
        "        self.len_dataset = len(self.batches)\n",
        "        self.shuffle = shuffle\n",
        "        self.on_epoch_end()\n",
        "\n",
        "\n",
        "\n",
        "    def __shuffle(self):\n",
        "        for key in self.batches:\n",
        "            random.shuffle(self.batches[key])\n",
        "\n",
        "\n",
        "    def __fill_getitem_batches(self):\n",
        "        self.getitem_batches = []\n",
        "        for key in self.batches:\n",
        "            curr_size_list = self.batches[key]\n",
        "            num_items = math.ceil(len(curr_size_list)/self.batch_size)\n",
        "            for i in range(1, num_items + 1):\n",
        "                temp = curr_size_list[(i-1)*self.batch_size: i*self.batch_size]\n",
        "                inp_batch = np.array([x[0] for x in temp])\n",
        "                out_batch = np.array([x[1] for x in temp])\n",
        "                self.getitem_batches.append((inp_batch, out_batch))\n",
        "        if self.shuffle:\n",
        "            random.shuffle(self.getitem_batches)\n",
        "\n",
        "\n",
        "    def __fill_batches(self):\n",
        "        df_list = get_df_split(self.df)\n",
        "        if self.validate:\n",
        "            one_hot_lis = [get_onehot(df) for df in df_list[math.floor(0.80*len(df_list)):]]\n",
        "        else:\n",
        "            one_hot_lis = [get_onehot(df) for df in df_list[:math.floor(0.80*len(df_list))]]\n",
        "        one_hot_lis = [(inp.reindex(sorted(inp.columns), axis=1), out) for inp, out in one_hot_lis]\n",
        "        batches = {}\n",
        "        for i in range(1, self.window + 1):\n",
        "            batches[i] = []\n",
        "        for inp, out in one_hot_lis:\n",
        "            inp_numpy, out_numpy = inp.values, out.values\n",
        "            for end in range(inp.shape[0]):\n",
        "                start = max(end - self.window + 1, 0)\n",
        "                size = end - start + 1\n",
        "                batches[size].append((inp_numpy[start: end + 1], out_numpy[end]))\n",
        "        self.inp_cols = inp.columns.to_list()\n",
        "        self.out_cols = out.columns.to_list()\n",
        "        return batches\n",
        "\n",
        "\n",
        "    def __len__(self):\n",
        "        return len(self.getitem_batches)\n",
        "\n",
        "\n",
        "    def __getitem__(self, index):\n",
        "        x, y = self.getitem_batches[index]\n",
        "        return x, np.reshape(y, (-1, ))\n",
        "\n",
        "\n",
        "    def on_epoch_end(self):\n",
        "        if self.shuffle:\n",
        "            self.__shuffle()\n",
        "        self.__fill_getitem_batches()"
      ]
    },
    {
      "cell_type": "code",
      "execution_count": 6,
      "metadata": {
        "id": "B0i5CvjbNz9I"
      },
      "outputs": [],
      "source": [
        "model_inn_1= tf.keras.Sequential([\n",
        "  tf.keras.layers.SimpleRNN(512, return_sequences=True, input_shape=(None, 1572)),\n",
        "  tf.keras.layers.Dropout(0.2),\n",
        "  tf.keras.layers.SimpleRNN(256, return_sequences=True),\n",
        "  tf.keras.layers.Dropout(0.2),\n",
        "  tf.keras.layers.SimpleRNN(128, return_sequences=False),\n",
        "  tf.keras.layers.Dropout(0.5),\n",
        "  tf.keras.layers.Dense(57, activation='softmax')\n",
        "])\n",
        "model_inn_2= tf.keras.Sequential([\n",
        "  tf.keras.layers.SimpleRNN(512, return_sequences=True, input_shape=(None, 1573)),\n",
        "  tf.keras.layers.Dropout(0.2),\n",
        "  tf.keras.layers.SimpleRNN(256, return_sequences=True),\n",
        "  tf.keras.layers.Dropout(0.2),\n",
        "  tf.keras.layers.SimpleRNN(128, return_sequences=False),\n",
        "  tf.keras.layers.Dropout(0.5),\n",
        "  tf.keras.layers.Dense(57, activation='softmax')\n",
        "])"
      ]
    },
    {
      "cell_type": "code",
      "execution_count": 7,
      "metadata": {},
      "outputs": [
        {
          "name": "stdout",
          "output_type": "stream",
          "text": [
            "Model: \"sequential_1\"\n",
            "_________________________________________________________________\n",
            " Layer (type)                Output Shape              Param #   \n",
            "=================================================================\n",
            " simple_rnn_3 (SimpleRNN)    (None, None, 512)         1068032   \n",
            "                                                                 \n",
            " dropout_3 (Dropout)         (None, None, 512)         0         \n",
            "                                                                 \n",
            " simple_rnn_4 (SimpleRNN)    (None, None, 256)         196864    \n",
            "                                                                 \n",
            " dropout_4 (Dropout)         (None, None, 256)         0         \n",
            "                                                                 \n",
            " simple_rnn_5 (SimpleRNN)    (None, 128)               49280     \n",
            "                                                                 \n",
            " dropout_5 (Dropout)         (None, 128)               0         \n",
            "                                                                 \n",
            " dense_1 (Dense)             (None, 57)                7353      \n",
            "                                                                 \n",
            "=================================================================\n",
            "Total params: 1,321,529\n",
            "Trainable params: 1,321,529\n",
            "Non-trainable params: 0\n",
            "_________________________________________________________________\n"
          ]
        }
      ],
      "source": [
        "model_inn_2.summary()"
      ]
    },
    {
      "cell_type": "code",
      "execution_count": 8,
      "metadata": {},
      "outputs": [],
      "source": [
        "BF = pd.read_csv(\"Data/Batting_First.csv\")\n",
        "bf_train_gen = DataGenerator(BF)\n",
        "bf_test_gen = DataGenerator(BF, validate=True)"
      ]
    },
    {
      "cell_type": "code",
      "execution_count": 9,
      "metadata": {},
      "outputs": [
        {
          "name": "stdout",
          "output_type": "stream",
          "text": [
            "(64, 6, 1572) (64,)\n"
          ]
        }
      ],
      "source": [
        "x, y = bf_train_gen[0]\n",
        "print(x.shape, y.shape)"
      ]
    },
    {
      "cell_type": "code",
      "execution_count": 11,
      "metadata": {},
      "outputs": [
        {
          "name": "stdout",
          "output_type": "stream",
          "text": [
            "Epoch 1/15\n",
            "955/956 [============================>.] - ETA: 0s - loss: 1.7468 - accuracy: 0.4183"
          ]
        },
        {
          "ename": "KeyboardInterrupt",
          "evalue": "",
          "output_type": "error",
          "traceback": [
            "\u001b[1;31m---------------------------------------------------------------------------\u001b[0m",
            "\u001b[1;31mKeyboardInterrupt\u001b[0m                         Traceback (most recent call last)",
            "\u001b[1;32mc:\\Users\\aravi\\OneDrive\\Aravind Important\\Upheaval\\IPL-Simulator\\iplsim\\Train.ipynb Cell 10'\u001b[0m in \u001b[0;36m<cell line: 5>\u001b[1;34m()\u001b[0m\n\u001b[0;32m      <a href='vscode-notebook-cell:/c%3A/Users/aravi/OneDrive/Aravind%20Important/Upheaval/IPL-Simulator/iplsim/Train.ipynb#ch0000010?line=0'>1</a>\u001b[0m model_inn_1\u001b[39m.\u001b[39mcompile(\n\u001b[0;32m      <a href='vscode-notebook-cell:/c%3A/Users/aravi/OneDrive/Aravind%20Important/Upheaval/IPL-Simulator/iplsim/Train.ipynb#ch0000010?line=1'>2</a>\u001b[0m               loss\u001b[39m=\u001b[39mtf\u001b[39m.\u001b[39mkeras\u001b[39m.\u001b[39mlosses\u001b[39m.\u001b[39mSparseCategoricalCrossentropy(),\n\u001b[0;32m      <a href='vscode-notebook-cell:/c%3A/Users/aravi/OneDrive/Aravind%20Important/Upheaval/IPL-Simulator/iplsim/Train.ipynb#ch0000010?line=2'>3</a>\u001b[0m               metrics\u001b[39m=\u001b[39m[\u001b[39m'\u001b[39m\u001b[39maccuracy\u001b[39m\u001b[39m'\u001b[39m],\n\u001b[0;32m      <a href='vscode-notebook-cell:/c%3A/Users/aravi/OneDrive/Aravind%20Important/Upheaval/IPL-Simulator/iplsim/Train.ipynb#ch0000010?line=3'>4</a>\u001b[0m               optimizer\u001b[39m=\u001b[39mtf\u001b[39m.\u001b[39mkeras\u001b[39m.\u001b[39moptimizers\u001b[39m.\u001b[39mAdam())\n\u001b[1;32m----> <a href='vscode-notebook-cell:/c%3A/Users/aravi/OneDrive/Aravind%20Important/Upheaval/IPL-Simulator/iplsim/Train.ipynb#ch0000010?line=4'>5</a>\u001b[0m model_inn_1\u001b[39m.\u001b[39;49mfit(bf_train_gen,\n\u001b[0;32m      <a href='vscode-notebook-cell:/c%3A/Users/aravi/OneDrive/Aravind%20Important/Upheaval/IPL-Simulator/iplsim/Train.ipynb#ch0000010?line=5'>6</a>\u001b[0m                 validation_data\u001b[39m=\u001b[39;49mbf_test_gen,\n\u001b[0;32m      <a href='vscode-notebook-cell:/c%3A/Users/aravi/OneDrive/Aravind%20Important/Upheaval/IPL-Simulator/iplsim/Train.ipynb#ch0000010?line=6'>7</a>\u001b[0m                 epochs\u001b[39m=\u001b[39;49m\u001b[39m15\u001b[39;49m,\n\u001b[0;32m      <a href='vscode-notebook-cell:/c%3A/Users/aravi/OneDrive/Aravind%20Important/Upheaval/IPL-Simulator/iplsim/Train.ipynb#ch0000010?line=7'>8</a>\u001b[0m                 )\n",
            "File \u001b[1;32m~\\miniconda3\\envs\\me\\lib\\site-packages\\keras\\utils\\traceback_utils.py:64\u001b[0m, in \u001b[0;36mfilter_traceback.<locals>.error_handler\u001b[1;34m(*args, **kwargs)\u001b[0m\n\u001b[0;32m     <a href='file:///c%3A/Users/aravi/miniconda3/envs/me/lib/site-packages/keras/utils/traceback_utils.py?line=61'>62</a>\u001b[0m filtered_tb \u001b[39m=\u001b[39m \u001b[39mNone\u001b[39;00m\n\u001b[0;32m     <a href='file:///c%3A/Users/aravi/miniconda3/envs/me/lib/site-packages/keras/utils/traceback_utils.py?line=62'>63</a>\u001b[0m \u001b[39mtry\u001b[39;00m:\n\u001b[1;32m---> <a href='file:///c%3A/Users/aravi/miniconda3/envs/me/lib/site-packages/keras/utils/traceback_utils.py?line=63'>64</a>\u001b[0m   \u001b[39mreturn\u001b[39;00m fn(\u001b[39m*\u001b[39;49margs, \u001b[39m*\u001b[39;49m\u001b[39m*\u001b[39;49mkwargs)\n\u001b[0;32m     <a href='file:///c%3A/Users/aravi/miniconda3/envs/me/lib/site-packages/keras/utils/traceback_utils.py?line=64'>65</a>\u001b[0m \u001b[39mexcept\u001b[39;00m \u001b[39mException\u001b[39;00m \u001b[39mas\u001b[39;00m e:  \u001b[39m# pylint: disable=broad-except\u001b[39;00m\n\u001b[0;32m     <a href='file:///c%3A/Users/aravi/miniconda3/envs/me/lib/site-packages/keras/utils/traceback_utils.py?line=65'>66</a>\u001b[0m   filtered_tb \u001b[39m=\u001b[39m _process_traceback_frames(e\u001b[39m.\u001b[39m__traceback__)\n",
            "File \u001b[1;32m~\\miniconda3\\envs\\me\\lib\\site-packages\\keras\\engine\\training.py:1420\u001b[0m, in \u001b[0;36mModel.fit\u001b[1;34m(self, x, y, batch_size, epochs, verbose, callbacks, validation_split, validation_data, shuffle, class_weight, sample_weight, initial_epoch, steps_per_epoch, validation_steps, validation_batch_size, validation_freq, max_queue_size, workers, use_multiprocessing)\u001b[0m\n\u001b[0;32m   <a href='file:///c%3A/Users/aravi/miniconda3/envs/me/lib/site-packages/keras/engine/training.py?line=1405'>1406</a>\u001b[0m \u001b[39mif\u001b[39;00m \u001b[39mgetattr\u001b[39m(\u001b[39mself\u001b[39m, \u001b[39m'\u001b[39m\u001b[39m_eval_data_handler\u001b[39m\u001b[39m'\u001b[39m, \u001b[39mNone\u001b[39;00m) \u001b[39mis\u001b[39;00m \u001b[39mNone\u001b[39;00m:\n\u001b[0;32m   <a href='file:///c%3A/Users/aravi/miniconda3/envs/me/lib/site-packages/keras/engine/training.py?line=1406'>1407</a>\u001b[0m   \u001b[39mself\u001b[39m\u001b[39m.\u001b[39m_eval_data_handler \u001b[39m=\u001b[39m data_adapter\u001b[39m.\u001b[39mget_data_handler(\n\u001b[0;32m   <a href='file:///c%3A/Users/aravi/miniconda3/envs/me/lib/site-packages/keras/engine/training.py?line=1407'>1408</a>\u001b[0m       x\u001b[39m=\u001b[39mval_x,\n\u001b[0;32m   <a href='file:///c%3A/Users/aravi/miniconda3/envs/me/lib/site-packages/keras/engine/training.py?line=1408'>1409</a>\u001b[0m       y\u001b[39m=\u001b[39mval_y,\n\u001b[1;32m   (...)\u001b[0m\n\u001b[0;32m   <a href='file:///c%3A/Users/aravi/miniconda3/envs/me/lib/site-packages/keras/engine/training.py?line=1417'>1418</a>\u001b[0m       model\u001b[39m=\u001b[39m\u001b[39mself\u001b[39m,\n\u001b[0;32m   <a href='file:///c%3A/Users/aravi/miniconda3/envs/me/lib/site-packages/keras/engine/training.py?line=1418'>1419</a>\u001b[0m       steps_per_execution\u001b[39m=\u001b[39m\u001b[39mself\u001b[39m\u001b[39m.\u001b[39m_steps_per_execution)\n\u001b[1;32m-> <a href='file:///c%3A/Users/aravi/miniconda3/envs/me/lib/site-packages/keras/engine/training.py?line=1419'>1420</a>\u001b[0m val_logs \u001b[39m=\u001b[39m \u001b[39mself\u001b[39;49m\u001b[39m.\u001b[39;49mevaluate(\n\u001b[0;32m   <a href='file:///c%3A/Users/aravi/miniconda3/envs/me/lib/site-packages/keras/engine/training.py?line=1420'>1421</a>\u001b[0m     x\u001b[39m=\u001b[39;49mval_x,\n\u001b[0;32m   <a href='file:///c%3A/Users/aravi/miniconda3/envs/me/lib/site-packages/keras/engine/training.py?line=1421'>1422</a>\u001b[0m     y\u001b[39m=\u001b[39;49mval_y,\n\u001b[0;32m   <a href='file:///c%3A/Users/aravi/miniconda3/envs/me/lib/site-packages/keras/engine/training.py?line=1422'>1423</a>\u001b[0m     sample_weight\u001b[39m=\u001b[39;49mval_sample_weight,\n\u001b[0;32m   <a href='file:///c%3A/Users/aravi/miniconda3/envs/me/lib/site-packages/keras/engine/training.py?line=1423'>1424</a>\u001b[0m     batch_size\u001b[39m=\u001b[39;49mvalidation_batch_size \u001b[39mor\u001b[39;49;00m batch_size,\n\u001b[0;32m   <a href='file:///c%3A/Users/aravi/miniconda3/envs/me/lib/site-packages/keras/engine/training.py?line=1424'>1425</a>\u001b[0m     steps\u001b[39m=\u001b[39;49mvalidation_steps,\n\u001b[0;32m   <a href='file:///c%3A/Users/aravi/miniconda3/envs/me/lib/site-packages/keras/engine/training.py?line=1425'>1426</a>\u001b[0m     callbacks\u001b[39m=\u001b[39;49mcallbacks,\n\u001b[0;32m   <a href='file:///c%3A/Users/aravi/miniconda3/envs/me/lib/site-packages/keras/engine/training.py?line=1426'>1427</a>\u001b[0m     max_queue_size\u001b[39m=\u001b[39;49mmax_queue_size,\n\u001b[0;32m   <a href='file:///c%3A/Users/aravi/miniconda3/envs/me/lib/site-packages/keras/engine/training.py?line=1427'>1428</a>\u001b[0m     workers\u001b[39m=\u001b[39;49mworkers,\n\u001b[0;32m   <a href='file:///c%3A/Users/aravi/miniconda3/envs/me/lib/site-packages/keras/engine/training.py?line=1428'>1429</a>\u001b[0m     use_multiprocessing\u001b[39m=\u001b[39;49muse_multiprocessing,\n\u001b[0;32m   <a href='file:///c%3A/Users/aravi/miniconda3/envs/me/lib/site-packages/keras/engine/training.py?line=1429'>1430</a>\u001b[0m     return_dict\u001b[39m=\u001b[39;49m\u001b[39mTrue\u001b[39;49;00m,\n\u001b[0;32m   <a href='file:///c%3A/Users/aravi/miniconda3/envs/me/lib/site-packages/keras/engine/training.py?line=1430'>1431</a>\u001b[0m     _use_cached_eval_dataset\u001b[39m=\u001b[39;49m\u001b[39mTrue\u001b[39;49;00m)\n\u001b[0;32m   <a href='file:///c%3A/Users/aravi/miniconda3/envs/me/lib/site-packages/keras/engine/training.py?line=1431'>1432</a>\u001b[0m val_logs \u001b[39m=\u001b[39m {\u001b[39m'\u001b[39m\u001b[39mval_\u001b[39m\u001b[39m'\u001b[39m \u001b[39m+\u001b[39m name: val \u001b[39mfor\u001b[39;00m name, val \u001b[39min\u001b[39;00m val_logs\u001b[39m.\u001b[39mitems()}\n\u001b[0;32m   <a href='file:///c%3A/Users/aravi/miniconda3/envs/me/lib/site-packages/keras/engine/training.py?line=1432'>1433</a>\u001b[0m epoch_logs\u001b[39m.\u001b[39mupdate(val_logs)\n",
            "File \u001b[1;32m~\\miniconda3\\envs\\me\\lib\\site-packages\\keras\\utils\\traceback_utils.py:64\u001b[0m, in \u001b[0;36mfilter_traceback.<locals>.error_handler\u001b[1;34m(*args, **kwargs)\u001b[0m\n\u001b[0;32m     <a href='file:///c%3A/Users/aravi/miniconda3/envs/me/lib/site-packages/keras/utils/traceback_utils.py?line=61'>62</a>\u001b[0m filtered_tb \u001b[39m=\u001b[39m \u001b[39mNone\u001b[39;00m\n\u001b[0;32m     <a href='file:///c%3A/Users/aravi/miniconda3/envs/me/lib/site-packages/keras/utils/traceback_utils.py?line=62'>63</a>\u001b[0m \u001b[39mtry\u001b[39;00m:\n\u001b[1;32m---> <a href='file:///c%3A/Users/aravi/miniconda3/envs/me/lib/site-packages/keras/utils/traceback_utils.py?line=63'>64</a>\u001b[0m   \u001b[39mreturn\u001b[39;00m fn(\u001b[39m*\u001b[39;49margs, \u001b[39m*\u001b[39;49m\u001b[39m*\u001b[39;49mkwargs)\n\u001b[0;32m     <a href='file:///c%3A/Users/aravi/miniconda3/envs/me/lib/site-packages/keras/utils/traceback_utils.py?line=64'>65</a>\u001b[0m \u001b[39mexcept\u001b[39;00m \u001b[39mException\u001b[39;00m \u001b[39mas\u001b[39;00m e:  \u001b[39m# pylint: disable=broad-except\u001b[39;00m\n\u001b[0;32m     <a href='file:///c%3A/Users/aravi/miniconda3/envs/me/lib/site-packages/keras/utils/traceback_utils.py?line=65'>66</a>\u001b[0m   filtered_tb \u001b[39m=\u001b[39m _process_traceback_frames(e\u001b[39m.\u001b[39m__traceback__)\n",
            "File \u001b[1;32m~\\miniconda3\\envs\\me\\lib\\site-packages\\keras\\engine\\training.py:1716\u001b[0m, in \u001b[0;36mModel.evaluate\u001b[1;34m(self, x, y, batch_size, verbose, sample_weight, steps, callbacks, max_queue_size, workers, use_multiprocessing, return_dict, **kwargs)\u001b[0m\n\u001b[0;32m   <a href='file:///c%3A/Users/aravi/miniconda3/envs/me/lib/site-packages/keras/engine/training.py?line=1713'>1714</a>\u001b[0m \u001b[39mwith\u001b[39;00m tf\u001b[39m.\u001b[39mprofiler\u001b[39m.\u001b[39mexperimental\u001b[39m.\u001b[39mTrace(\u001b[39m'\u001b[39m\u001b[39mtest\u001b[39m\u001b[39m'\u001b[39m, step_num\u001b[39m=\u001b[39mstep, _r\u001b[39m=\u001b[39m\u001b[39m1\u001b[39m):\n\u001b[0;32m   <a href='file:///c%3A/Users/aravi/miniconda3/envs/me/lib/site-packages/keras/engine/training.py?line=1714'>1715</a>\u001b[0m   callbacks\u001b[39m.\u001b[39mon_test_batch_begin(step)\n\u001b[1;32m-> <a href='file:///c%3A/Users/aravi/miniconda3/envs/me/lib/site-packages/keras/engine/training.py?line=1715'>1716</a>\u001b[0m   tmp_logs \u001b[39m=\u001b[39m \u001b[39mself\u001b[39;49m\u001b[39m.\u001b[39;49mtest_function(iterator)\n\u001b[0;32m   <a href='file:///c%3A/Users/aravi/miniconda3/envs/me/lib/site-packages/keras/engine/training.py?line=1716'>1717</a>\u001b[0m   \u001b[39mif\u001b[39;00m data_handler\u001b[39m.\u001b[39mshould_sync:\n\u001b[0;32m   <a href='file:///c%3A/Users/aravi/miniconda3/envs/me/lib/site-packages/keras/engine/training.py?line=1717'>1718</a>\u001b[0m     context\u001b[39m.\u001b[39masync_wait()\n",
            "File \u001b[1;32m~\\miniconda3\\envs\\me\\lib\\site-packages\\tensorflow\\python\\util\\traceback_utils.py:150\u001b[0m, in \u001b[0;36mfilter_traceback.<locals>.error_handler\u001b[1;34m(*args, **kwargs)\u001b[0m\n\u001b[0;32m    <a href='file:///c%3A/Users/aravi/miniconda3/envs/me/lib/site-packages/tensorflow/python/util/traceback_utils.py?line=147'>148</a>\u001b[0m filtered_tb \u001b[39m=\u001b[39m \u001b[39mNone\u001b[39;00m\n\u001b[0;32m    <a href='file:///c%3A/Users/aravi/miniconda3/envs/me/lib/site-packages/tensorflow/python/util/traceback_utils.py?line=148'>149</a>\u001b[0m \u001b[39mtry\u001b[39;00m:\n\u001b[1;32m--> <a href='file:///c%3A/Users/aravi/miniconda3/envs/me/lib/site-packages/tensorflow/python/util/traceback_utils.py?line=149'>150</a>\u001b[0m   \u001b[39mreturn\u001b[39;00m fn(\u001b[39m*\u001b[39;49margs, \u001b[39m*\u001b[39;49m\u001b[39m*\u001b[39;49mkwargs)\n\u001b[0;32m    <a href='file:///c%3A/Users/aravi/miniconda3/envs/me/lib/site-packages/tensorflow/python/util/traceback_utils.py?line=150'>151</a>\u001b[0m \u001b[39mexcept\u001b[39;00m \u001b[39mException\u001b[39;00m \u001b[39mas\u001b[39;00m e:\n\u001b[0;32m    <a href='file:///c%3A/Users/aravi/miniconda3/envs/me/lib/site-packages/tensorflow/python/util/traceback_utils.py?line=151'>152</a>\u001b[0m   filtered_tb \u001b[39m=\u001b[39m _process_traceback_frames(e\u001b[39m.\u001b[39m__traceback__)\n",
            "File \u001b[1;32m~\\miniconda3\\envs\\me\\lib\\site-packages\\tensorflow\\python\\eager\\def_function.py:915\u001b[0m, in \u001b[0;36mFunction.__call__\u001b[1;34m(self, *args, **kwds)\u001b[0m\n\u001b[0;32m    <a href='file:///c%3A/Users/aravi/miniconda3/envs/me/lib/site-packages/tensorflow/python/eager/def_function.py?line=911'>912</a>\u001b[0m compiler \u001b[39m=\u001b[39m \u001b[39m\"\u001b[39m\u001b[39mxla\u001b[39m\u001b[39m\"\u001b[39m \u001b[39mif\u001b[39;00m \u001b[39mself\u001b[39m\u001b[39m.\u001b[39m_jit_compile \u001b[39melse\u001b[39;00m \u001b[39m\"\u001b[39m\u001b[39mnonXla\u001b[39m\u001b[39m\"\u001b[39m\n\u001b[0;32m    <a href='file:///c%3A/Users/aravi/miniconda3/envs/me/lib/site-packages/tensorflow/python/eager/def_function.py?line=913'>914</a>\u001b[0m \u001b[39mwith\u001b[39;00m OptionalXlaContext(\u001b[39mself\u001b[39m\u001b[39m.\u001b[39m_jit_compile):\n\u001b[1;32m--> <a href='file:///c%3A/Users/aravi/miniconda3/envs/me/lib/site-packages/tensorflow/python/eager/def_function.py?line=914'>915</a>\u001b[0m   result \u001b[39m=\u001b[39m \u001b[39mself\u001b[39;49m\u001b[39m.\u001b[39;49m_call(\u001b[39m*\u001b[39;49margs, \u001b[39m*\u001b[39;49m\u001b[39m*\u001b[39;49mkwds)\n\u001b[0;32m    <a href='file:///c%3A/Users/aravi/miniconda3/envs/me/lib/site-packages/tensorflow/python/eager/def_function.py?line=916'>917</a>\u001b[0m new_tracing_count \u001b[39m=\u001b[39m \u001b[39mself\u001b[39m\u001b[39m.\u001b[39mexperimental_get_tracing_count()\n\u001b[0;32m    <a href='file:///c%3A/Users/aravi/miniconda3/envs/me/lib/site-packages/tensorflow/python/eager/def_function.py?line=917'>918</a>\u001b[0m without_tracing \u001b[39m=\u001b[39m (tracing_count \u001b[39m==\u001b[39m new_tracing_count)\n",
            "File \u001b[1;32m~\\miniconda3\\envs\\me\\lib\\site-packages\\tensorflow\\python\\eager\\def_function.py:954\u001b[0m, in \u001b[0;36mFunction._call\u001b[1;34m(self, *args, **kwds)\u001b[0m\n\u001b[0;32m    <a href='file:///c%3A/Users/aravi/miniconda3/envs/me/lib/site-packages/tensorflow/python/eager/def_function.py?line=950'>951</a>\u001b[0m \u001b[39mself\u001b[39m\u001b[39m.\u001b[39m_lock\u001b[39m.\u001b[39mrelease()\n\u001b[0;32m    <a href='file:///c%3A/Users/aravi/miniconda3/envs/me/lib/site-packages/tensorflow/python/eager/def_function.py?line=951'>952</a>\u001b[0m \u001b[39m# In this case we have not created variables on the first call. So we can\u001b[39;00m\n\u001b[0;32m    <a href='file:///c%3A/Users/aravi/miniconda3/envs/me/lib/site-packages/tensorflow/python/eager/def_function.py?line=952'>953</a>\u001b[0m \u001b[39m# run the first trace but we should fail if variables are created.\u001b[39;00m\n\u001b[1;32m--> <a href='file:///c%3A/Users/aravi/miniconda3/envs/me/lib/site-packages/tensorflow/python/eager/def_function.py?line=953'>954</a>\u001b[0m results \u001b[39m=\u001b[39m \u001b[39mself\u001b[39;49m\u001b[39m.\u001b[39;49m_stateful_fn(\u001b[39m*\u001b[39;49margs, \u001b[39m*\u001b[39;49m\u001b[39m*\u001b[39;49mkwds)\n\u001b[0;32m    <a href='file:///c%3A/Users/aravi/miniconda3/envs/me/lib/site-packages/tensorflow/python/eager/def_function.py?line=954'>955</a>\u001b[0m \u001b[39mif\u001b[39;00m \u001b[39mself\u001b[39m\u001b[39m.\u001b[39m_created_variables \u001b[39mand\u001b[39;00m \u001b[39mnot\u001b[39;00m ALLOW_DYNAMIC_VARIABLE_CREATION:\n\u001b[0;32m    <a href='file:///c%3A/Users/aravi/miniconda3/envs/me/lib/site-packages/tensorflow/python/eager/def_function.py?line=955'>956</a>\u001b[0m   \u001b[39mraise\u001b[39;00m \u001b[39mValueError\u001b[39;00m(\u001b[39m\"\u001b[39m\u001b[39mCreating variables on a non-first call to a function\u001b[39m\u001b[39m\"\u001b[39m\n\u001b[0;32m    <a href='file:///c%3A/Users/aravi/miniconda3/envs/me/lib/site-packages/tensorflow/python/eager/def_function.py?line=956'>957</a>\u001b[0m                    \u001b[39m\"\u001b[39m\u001b[39m decorated with tf.function.\u001b[39m\u001b[39m\"\u001b[39m)\n",
            "File \u001b[1;32m~\\miniconda3\\envs\\me\\lib\\site-packages\\tensorflow\\python\\eager\\function.py:2956\u001b[0m, in \u001b[0;36mFunction.__call__\u001b[1;34m(self, *args, **kwargs)\u001b[0m\n\u001b[0;32m   <a href='file:///c%3A/Users/aravi/miniconda3/envs/me/lib/site-packages/tensorflow/python/eager/function.py?line=2952'>2953</a>\u001b[0m \u001b[39mwith\u001b[39;00m \u001b[39mself\u001b[39m\u001b[39m.\u001b[39m_lock:\n\u001b[0;32m   <a href='file:///c%3A/Users/aravi/miniconda3/envs/me/lib/site-packages/tensorflow/python/eager/function.py?line=2953'>2954</a>\u001b[0m   (graph_function,\n\u001b[0;32m   <a href='file:///c%3A/Users/aravi/miniconda3/envs/me/lib/site-packages/tensorflow/python/eager/function.py?line=2954'>2955</a>\u001b[0m    filtered_flat_args) \u001b[39m=\u001b[39m \u001b[39mself\u001b[39m\u001b[39m.\u001b[39m_maybe_define_function(args, kwargs)\n\u001b[1;32m-> <a href='file:///c%3A/Users/aravi/miniconda3/envs/me/lib/site-packages/tensorflow/python/eager/function.py?line=2955'>2956</a>\u001b[0m \u001b[39mreturn\u001b[39;00m graph_function\u001b[39m.\u001b[39;49m_call_flat(\n\u001b[0;32m   <a href='file:///c%3A/Users/aravi/miniconda3/envs/me/lib/site-packages/tensorflow/python/eager/function.py?line=2956'>2957</a>\u001b[0m     filtered_flat_args, captured_inputs\u001b[39m=\u001b[39;49mgraph_function\u001b[39m.\u001b[39;49mcaptured_inputs)\n",
            "File \u001b[1;32m~\\miniconda3\\envs\\me\\lib\\site-packages\\tensorflow\\python\\eager\\function.py:1853\u001b[0m, in \u001b[0;36mConcreteFunction._call_flat\u001b[1;34m(self, args, captured_inputs, cancellation_manager)\u001b[0m\n\u001b[0;32m   <a href='file:///c%3A/Users/aravi/miniconda3/envs/me/lib/site-packages/tensorflow/python/eager/function.py?line=1848'>1849</a>\u001b[0m possible_gradient_type \u001b[39m=\u001b[39m gradients_util\u001b[39m.\u001b[39mPossibleTapeGradientTypes(args)\n\u001b[0;32m   <a href='file:///c%3A/Users/aravi/miniconda3/envs/me/lib/site-packages/tensorflow/python/eager/function.py?line=1849'>1850</a>\u001b[0m \u001b[39mif\u001b[39;00m (possible_gradient_type \u001b[39m==\u001b[39m gradients_util\u001b[39m.\u001b[39mPOSSIBLE_GRADIENT_TYPES_NONE\n\u001b[0;32m   <a href='file:///c%3A/Users/aravi/miniconda3/envs/me/lib/site-packages/tensorflow/python/eager/function.py?line=1850'>1851</a>\u001b[0m     \u001b[39mand\u001b[39;00m executing_eagerly):\n\u001b[0;32m   <a href='file:///c%3A/Users/aravi/miniconda3/envs/me/lib/site-packages/tensorflow/python/eager/function.py?line=1851'>1852</a>\u001b[0m   \u001b[39m# No tape is watching; skip to running the function.\u001b[39;00m\n\u001b[1;32m-> <a href='file:///c%3A/Users/aravi/miniconda3/envs/me/lib/site-packages/tensorflow/python/eager/function.py?line=1852'>1853</a>\u001b[0m   \u001b[39mreturn\u001b[39;00m \u001b[39mself\u001b[39m\u001b[39m.\u001b[39m_build_call_outputs(\u001b[39mself\u001b[39;49m\u001b[39m.\u001b[39;49m_inference_function\u001b[39m.\u001b[39;49mcall(\n\u001b[0;32m   <a href='file:///c%3A/Users/aravi/miniconda3/envs/me/lib/site-packages/tensorflow/python/eager/function.py?line=1853'>1854</a>\u001b[0m       ctx, args, cancellation_manager\u001b[39m=\u001b[39;49mcancellation_manager))\n\u001b[0;32m   <a href='file:///c%3A/Users/aravi/miniconda3/envs/me/lib/site-packages/tensorflow/python/eager/function.py?line=1854'>1855</a>\u001b[0m forward_backward \u001b[39m=\u001b[39m \u001b[39mself\u001b[39m\u001b[39m.\u001b[39m_select_forward_and_backward_functions(\n\u001b[0;32m   <a href='file:///c%3A/Users/aravi/miniconda3/envs/me/lib/site-packages/tensorflow/python/eager/function.py?line=1855'>1856</a>\u001b[0m     args,\n\u001b[0;32m   <a href='file:///c%3A/Users/aravi/miniconda3/envs/me/lib/site-packages/tensorflow/python/eager/function.py?line=1856'>1857</a>\u001b[0m     possible_gradient_type,\n\u001b[0;32m   <a href='file:///c%3A/Users/aravi/miniconda3/envs/me/lib/site-packages/tensorflow/python/eager/function.py?line=1857'>1858</a>\u001b[0m     executing_eagerly)\n\u001b[0;32m   <a href='file:///c%3A/Users/aravi/miniconda3/envs/me/lib/site-packages/tensorflow/python/eager/function.py?line=1858'>1859</a>\u001b[0m forward_function, args_with_tangents \u001b[39m=\u001b[39m forward_backward\u001b[39m.\u001b[39mforward()\n",
            "File \u001b[1;32m~\\miniconda3\\envs\\me\\lib\\site-packages\\tensorflow\\python\\eager\\function.py:499\u001b[0m, in \u001b[0;36m_EagerDefinedFunction.call\u001b[1;34m(self, ctx, args, cancellation_manager)\u001b[0m\n\u001b[0;32m    <a href='file:///c%3A/Users/aravi/miniconda3/envs/me/lib/site-packages/tensorflow/python/eager/function.py?line=496'>497</a>\u001b[0m \u001b[39mwith\u001b[39;00m _InterpolateFunctionError(\u001b[39mself\u001b[39m):\n\u001b[0;32m    <a href='file:///c%3A/Users/aravi/miniconda3/envs/me/lib/site-packages/tensorflow/python/eager/function.py?line=497'>498</a>\u001b[0m   \u001b[39mif\u001b[39;00m cancellation_manager \u001b[39mis\u001b[39;00m \u001b[39mNone\u001b[39;00m:\n\u001b[1;32m--> <a href='file:///c%3A/Users/aravi/miniconda3/envs/me/lib/site-packages/tensorflow/python/eager/function.py?line=498'>499</a>\u001b[0m     outputs \u001b[39m=\u001b[39m execute\u001b[39m.\u001b[39;49mexecute(\n\u001b[0;32m    <a href='file:///c%3A/Users/aravi/miniconda3/envs/me/lib/site-packages/tensorflow/python/eager/function.py?line=499'>500</a>\u001b[0m         \u001b[39mstr\u001b[39;49m(\u001b[39mself\u001b[39;49m\u001b[39m.\u001b[39;49msignature\u001b[39m.\u001b[39;49mname),\n\u001b[0;32m    <a href='file:///c%3A/Users/aravi/miniconda3/envs/me/lib/site-packages/tensorflow/python/eager/function.py?line=500'>501</a>\u001b[0m         num_outputs\u001b[39m=\u001b[39;49m\u001b[39mself\u001b[39;49m\u001b[39m.\u001b[39;49m_num_outputs,\n\u001b[0;32m    <a href='file:///c%3A/Users/aravi/miniconda3/envs/me/lib/site-packages/tensorflow/python/eager/function.py?line=501'>502</a>\u001b[0m         inputs\u001b[39m=\u001b[39;49margs,\n\u001b[0;32m    <a href='file:///c%3A/Users/aravi/miniconda3/envs/me/lib/site-packages/tensorflow/python/eager/function.py?line=502'>503</a>\u001b[0m         attrs\u001b[39m=\u001b[39;49mattrs,\n\u001b[0;32m    <a href='file:///c%3A/Users/aravi/miniconda3/envs/me/lib/site-packages/tensorflow/python/eager/function.py?line=503'>504</a>\u001b[0m         ctx\u001b[39m=\u001b[39;49mctx)\n\u001b[0;32m    <a href='file:///c%3A/Users/aravi/miniconda3/envs/me/lib/site-packages/tensorflow/python/eager/function.py?line=504'>505</a>\u001b[0m   \u001b[39melse\u001b[39;00m:\n\u001b[0;32m    <a href='file:///c%3A/Users/aravi/miniconda3/envs/me/lib/site-packages/tensorflow/python/eager/function.py?line=505'>506</a>\u001b[0m     outputs \u001b[39m=\u001b[39m execute\u001b[39m.\u001b[39mexecute_with_cancellation(\n\u001b[0;32m    <a href='file:///c%3A/Users/aravi/miniconda3/envs/me/lib/site-packages/tensorflow/python/eager/function.py?line=506'>507</a>\u001b[0m         \u001b[39mstr\u001b[39m(\u001b[39mself\u001b[39m\u001b[39m.\u001b[39msignature\u001b[39m.\u001b[39mname),\n\u001b[0;32m    <a href='file:///c%3A/Users/aravi/miniconda3/envs/me/lib/site-packages/tensorflow/python/eager/function.py?line=507'>508</a>\u001b[0m         num_outputs\u001b[39m=\u001b[39m\u001b[39mself\u001b[39m\u001b[39m.\u001b[39m_num_outputs,\n\u001b[1;32m   (...)\u001b[0m\n\u001b[0;32m    <a href='file:///c%3A/Users/aravi/miniconda3/envs/me/lib/site-packages/tensorflow/python/eager/function.py?line=510'>511</a>\u001b[0m         ctx\u001b[39m=\u001b[39mctx,\n\u001b[0;32m    <a href='file:///c%3A/Users/aravi/miniconda3/envs/me/lib/site-packages/tensorflow/python/eager/function.py?line=511'>512</a>\u001b[0m         cancellation_manager\u001b[39m=\u001b[39mcancellation_manager)\n",
            "File \u001b[1;32m~\\miniconda3\\envs\\me\\lib\\site-packages\\tensorflow\\python\\eager\\execute.py:54\u001b[0m, in \u001b[0;36mquick_execute\u001b[1;34m(op_name, num_outputs, inputs, attrs, ctx, name)\u001b[0m\n\u001b[0;32m     <a href='file:///c%3A/Users/aravi/miniconda3/envs/me/lib/site-packages/tensorflow/python/eager/execute.py?line=51'>52</a>\u001b[0m \u001b[39mtry\u001b[39;00m:\n\u001b[0;32m     <a href='file:///c%3A/Users/aravi/miniconda3/envs/me/lib/site-packages/tensorflow/python/eager/execute.py?line=52'>53</a>\u001b[0m   ctx\u001b[39m.\u001b[39mensure_initialized()\n\u001b[1;32m---> <a href='file:///c%3A/Users/aravi/miniconda3/envs/me/lib/site-packages/tensorflow/python/eager/execute.py?line=53'>54</a>\u001b[0m   tensors \u001b[39m=\u001b[39m pywrap_tfe\u001b[39m.\u001b[39;49mTFE_Py_Execute(ctx\u001b[39m.\u001b[39;49m_handle, device_name, op_name,\n\u001b[0;32m     <a href='file:///c%3A/Users/aravi/miniconda3/envs/me/lib/site-packages/tensorflow/python/eager/execute.py?line=54'>55</a>\u001b[0m                                       inputs, attrs, num_outputs)\n\u001b[0;32m     <a href='file:///c%3A/Users/aravi/miniconda3/envs/me/lib/site-packages/tensorflow/python/eager/execute.py?line=55'>56</a>\u001b[0m \u001b[39mexcept\u001b[39;00m core\u001b[39m.\u001b[39m_NotOkStatusException \u001b[39mas\u001b[39;00m e:\n\u001b[0;32m     <a href='file:///c%3A/Users/aravi/miniconda3/envs/me/lib/site-packages/tensorflow/python/eager/execute.py?line=56'>57</a>\u001b[0m   \u001b[39mif\u001b[39;00m name \u001b[39mis\u001b[39;00m \u001b[39mnot\u001b[39;00m \u001b[39mNone\u001b[39;00m:\n",
            "\u001b[1;31mKeyboardInterrupt\u001b[0m: "
          ]
        }
      ],
      "source": [
        "model_inn_1.compile(\n",
        "              loss=tf.keras.losses.SparseCategoricalCrossentropy(),\n",
        "              metrics=['accuracy'],\n",
        "              optimizer=tf.keras.optimizers.Adam())\n",
        "model_inn_1.fit(bf_train_gen,\n",
        "                validation_data=bf_test_gen,\n",
        "                epochs=20,\n",
        "                )"
      ]
    },
    {
      "cell_type": "code",
      "execution_count": 13,
      "metadata": {},
      "outputs": [],
      "source": [
        "model_inn_1.save('Models/Inn1_SimpleRNN_10.h5')"
      ]
    },
    {
      "cell_type": "code",
      "execution_count": 14,
      "metadata": {},
      "outputs": [],
      "source": [
        "del bf_train_gen, bf_test_gen\n",
        "# BS = pd.read_csv(\"Data/Chasing.csv\")\n",
        "# bs_train_gen = DataGenerator(BS)\n",
        "# bs_test_gen = DataGenerator(BS, validate=True)"
      ]
    },
    {
      "cell_type": "code",
      "execution_count": 25,
      "metadata": {},
      "outputs": [
        {
          "name": "stdout",
          "output_type": "stream",
          "text": [
            "Epoch 1/20\n",
            "895/895 [==============================] - 54s 59ms/step - loss: 1.9031 - accuracy: 0.3709 - val_loss: 1.7459 - val_accuracy: 0.4100\n",
            "Epoch 2/20\n",
            "895/895 [==============================] - 39s 43ms/step - loss: 1.7651 - accuracy: 0.4057 - val_loss: 1.7466 - val_accuracy: 0.4088\n",
            "Epoch 3/20\n",
            "895/895 [==============================] - 40s 45ms/step - loss: 1.7520 - accuracy: 0.4073 - val_loss: 1.7466 - val_accuracy: 0.4110\n",
            "Epoch 4/20\n",
            "895/895 [==============================] - 44s 49ms/step - loss: 1.7483 - accuracy: 0.4087 - val_loss: 1.7469 - val_accuracy: 0.4122\n",
            "Epoch 5/20\n",
            "895/895 [==============================] - 37s 41ms/step - loss: 1.7459 - accuracy: 0.4088 - val_loss: 1.7415 - val_accuracy: 0.4110\n",
            "Epoch 6/20\n",
            "895/895 [==============================] - 39s 44ms/step - loss: 1.7458 - accuracy: 0.4096 - val_loss: 1.7485 - val_accuracy: 0.4100\n",
            "Epoch 7/20\n",
            "895/895 [==============================] - 37s 41ms/step - loss: 1.7440 - accuracy: 0.4078 - val_loss: 1.7437 - val_accuracy: 0.4093\n",
            "Epoch 8/20\n",
            "895/895 [==============================] - 42s 47ms/step - loss: 1.7429 - accuracy: 0.4083 - val_loss: 1.7559 - val_accuracy: 0.3988\n",
            "Epoch 9/20\n",
            "895/895 [==============================] - 41s 46ms/step - loss: 1.7427 - accuracy: 0.4068 - val_loss: 1.7448 - val_accuracy: 0.4119\n",
            "Epoch 10/20\n",
            "895/895 [==============================] - 35s 39ms/step - loss: 1.7416 - accuracy: 0.4085 - val_loss: 1.7443 - val_accuracy: 0.4112\n",
            "Epoch 11/20\n",
            "895/895 [==============================] - 36s 41ms/step - loss: 1.7407 - accuracy: 0.4092 - val_loss: 1.7439 - val_accuracy: 0.4115\n",
            "Epoch 12/20\n",
            "895/895 [==============================] - 38s 42ms/step - loss: 1.7428 - accuracy: 0.4058 - val_loss: 1.7449 - val_accuracy: 0.4118\n",
            "Epoch 13/20\n",
            "895/895 [==============================] - 36s 41ms/step - loss: 1.7418 - accuracy: 0.4095 - val_loss: 1.7467 - val_accuracy: 0.4106\n",
            "Epoch 14/20\n",
            "895/895 [==============================] - 37s 41ms/step - loss: 1.7400 - accuracy: 0.4094 - val_loss: 1.7450 - val_accuracy: 0.4061\n",
            "Epoch 15/20\n",
            "895/895 [==============================] - 35s 39ms/step - loss: 1.7395 - accuracy: 0.4103 - val_loss: 1.7532 - val_accuracy: 0.4114\n",
            "Epoch 16/20\n",
            "895/895 [==============================] - 36s 40ms/step - loss: 1.7386 - accuracy: 0.4098 - val_loss: 1.7510 - val_accuracy: 0.4113\n",
            "Epoch 17/20\n",
            "895/895 [==============================] - 36s 40ms/step - loss: 1.7388 - accuracy: 0.4108 - val_loss: 1.7486 - val_accuracy: 0.4096\n",
            "Epoch 18/20\n",
            "895/895 [==============================] - 38s 42ms/step - loss: 1.7396 - accuracy: 0.4081 - val_loss: 1.7457 - val_accuracy: 0.4124\n",
            "Epoch 19/20\n",
            "895/895 [==============================] - 38s 42ms/step - loss: 1.7387 - accuracy: 0.4095 - val_loss: 1.7428 - val_accuracy: 0.4123\n",
            "Epoch 20/20\n",
            "895/895 [==============================] - 38s 42ms/step - loss: 1.7379 - accuracy: 0.4110 - val_loss: 1.7493 - val_accuracy: 0.3999\n"
          ]
        },
        {
          "data": {
            "text/plain": [
              "<keras.callbacks.History at 0x192d07e17c0>"
            ]
          },
          "execution_count": 25,
          "metadata": {},
          "output_type": "execute_result"
        }
      ],
      "source": [
        "model_inn_2.compile(\n",
        "              loss=tf.keras.losses.SparseCategoricalCrossentropy(),\n",
        "              metrics=['accuracy'],\n",
        "              optimizer=tf.keras.optimizers.Adam())\n",
        "model_inn_2.fit(bs_train_gen,\n",
        "                validation_data=bs_test_gen,\n",
        "                epochs=20,\n",
        "                )"
      ]
    },
    {
      "cell_type": "code",
      "execution_count": 26,
      "metadata": {},
      "outputs": [],
      "source": [
        "model_inn_2.save('Models/Inn2_SimpleRNN_10.h5')"
      ]
    },
    {
      "cell_type": "code",
      "execution_count": 7,
      "metadata": {},
      "outputs": [],
      "source": [
        "model_inn_1 = tf.keras.models.load_model('Models/Inn1_SimpleRNN_10.h5')\n",
        "model_inn_2 = tf.keras.models.load_model('Models/Inn2_SimpleRNN_10.h5')"
      ]
    }
  ],
  "metadata": {
    "accelerator": "GPU",
    "colab": {
      "collapsed_sections": [],
      "name": "IPL_Test_Simulator.ipynb",
      "provenance": []
    },
    "interpreter": {
      "hash": "617e2090b34b21d2056b5327d757b72c007bf58af971eb9fd82adb30549d6c62"
    },
    "kernelspec": {
      "display_name": "Python 3.8.8 64-bit ('TensorFlow': conda)",
      "language": "python",
      "name": "python3"
    },
    "language_info": {
      "codemirror_mode": {
        "name": "ipython",
        "version": 3
      },
      "file_extension": ".py",
      "mimetype": "text/x-python",
      "name": "python",
      "nbconvert_exporter": "python",
      "pygments_lexer": "ipython3",
      "version": "3.8.12"
    }
  },
  "nbformat": 4,
  "nbformat_minor": 0
}
