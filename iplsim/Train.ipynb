{
  "cells": [
    {
      "cell_type": "code",
      "execution_count": 9,
      "metadata": {
        "id": "Ubn0aDXMpTeG"
      },
      "outputs": [],
      "source": [
        "#importing libraries\n",
        "import pandas as pd\n",
        "import numpy as np\n",
        "import tensorflow as tf\n",
        "import random\n",
        "import livelossplot\n",
        "import math\n",
        "import pickle"
      ]
    },
    {
      "cell_type": "code",
      "execution_count": 2,
      "metadata": {},
      "outputs": [],
      "source": [
        "with open ('Data/Players', 'rb') as fp:\n",
        "    players = pickle.load(fp)\n",
        "with open ('Data/Venue', 'rb') as fp:\n",
        "    venue = pickle.load(fp)\n",
        "with open ('Data/Teams', 'rb') as fp:\n",
        "    teams = pickle.load(fp)\n",
        "with open ('Data/BF_Cols', 'rb') as fp:\n",
        "    BF_Cols = pickle.load(fp)\n",
        "with open ('Data/BS_Cols', 'rb') as fp:\n",
        "    BS_Cols = pickle.load(fp)"
      ]
    },
    {
      "cell_type": "code",
      "execution_count": 3,
      "metadata": {},
      "outputs": [],
      "source": [
        "def get_onehot(df):\n",
        "    df1=pd.get_dummies(df.Toss, prefix=\"Toss\")\n",
        "    col = \"Toss_\"\n",
        "    df_columns = set(df[col[:-1]])\n",
        "    not_there = list(set(teams)-df_columns)\n",
        "    data = np.zeros((df.shape[0], len(not_there)))\n",
        "    df_add = pd.DataFrame(data=data, columns=[col+i for i in not_there])\n",
        "    df1 = pd.concat([df1, df_add], axis=1)\n",
        "\n",
        "    df2=pd.get_dummies(df.Venue,prefix=\"Venue\")\n",
        "    col = \"Venue_\"\n",
        "    df_columns = set(df[col[:-1]])\n",
        "    not_there = list(set(venue)-df_columns)\n",
        "    data = np.zeros((df.shape[0], len(not_there)))\n",
        "    df_add = pd.DataFrame(data=data, columns=[col+i for i in not_there])\n",
        "    df2 = pd.concat([df2, df_add], axis=1)\n",
        "\n",
        "    df3=pd.get_dummies(df.Batting_Team, prefix=\"Batting_Team\")\n",
        "    col = \"Batting_Team_\"\n",
        "    df_columns = set(df[col[:-1]])\n",
        "    not_there = list(set(teams)-df_columns)\n",
        "    data = np.zeros((df.shape[0], len(not_there)))\n",
        "    df_add = pd.DataFrame(data=data, columns=[col+i for i in not_there])\n",
        "    df3 = pd.concat([df3, df_add], axis=1)\n",
        "\n",
        "    df4=pd.get_dummies(df.Bowling_Team, prefix=\"Bowling_Team\")\n",
        "    col = \"Bowling_Team_\"\n",
        "    df_columns = set(df[col[:-1]])\n",
        "    not_there = list(set(teams)-df_columns)\n",
        "    data = np.zeros((df.shape[0], len(not_there)))\n",
        "    df_add = pd.DataFrame(data=data, columns=[col+i for i in not_there])\n",
        "    df4 = pd.concat([df4, df_add], axis=1)\n",
        "\n",
        "    df5=pd.get_dummies(df.Striker, prefix=\"Striker\")\n",
        "    df5_columns = set(df[\"Striker\"])\n",
        "    never_striker= list(set(players)-df5_columns)\n",
        "    data = np.zeros((df.shape[0], len(never_striker)))\n",
        "    df5_add = pd.DataFrame(data=data, columns=[\"Striker_\"+i for i in never_striker])\n",
        "    df5 = pd.concat([df5, df5_add], axis=1)\n",
        "\n",
        "    df6=pd.get_dummies(df.Non_Striker, prefix=\"Non_Striker\")\n",
        "    df6_columns = set(df[\"Non_Striker\"])\n",
        "    never_non_striker= list(set(players)-df6_columns)\n",
        "    data = np.zeros((df.shape[0], len(never_non_striker)))\n",
        "    df6_add = pd.DataFrame(data=data, columns=[\"Non_Striker_\"+i for i in never_non_striker])\n",
        "    df6 = pd.concat([df6, df6_add], axis=1)\n",
        "\n",
        "    df7=pd.get_dummies(df.Bowler, prefix=\"Bowler\")\n",
        "    df7_columns = set(df[\"Bowler\"])\n",
        "    never_bowler= list(set(players)-df7_columns)\n",
        "    data = np.zeros((df.shape[0], len(never_bowler)))\n",
        "    df7_add = pd.DataFrame(data=data, columns=[\"Bowler_\"+i for i in never_bowler])\n",
        "    df7 = pd.concat([df7, df7_add], axis=1)\n",
        "\n",
        "    df_one_hot=df.copy(deep=True)\n",
        "    df_one_hot=pd.concat([df,df1,df2,df3,df4,df5,df6,df7], axis=1)\n",
        "    df_result=pd.DataFrame(df_one_hot[\"Result\"])\n",
        "    df_one_hot=df_one_hot.drop(columns=[\"Toss\",\"Venue\",\"Batting_Team\",\"Bowling_Team\",\"Striker\",\"Non_Striker\",\"Bowler\",\"Result\"])\n",
        "    return df_one_hot, df_result"
      ]
    },
    {
      "cell_type": "code",
      "execution_count": 4,
      "metadata": {},
      "outputs": [],
      "source": [
        "def get_cont_ids(df):\n",
        "    prev = None\n",
        "    start = 0\n",
        "    cont_ids = []\n",
        "    for ind, row in df.iterrows():\n",
        "        curr = [[row['Toss'], row['Venue'], row['Batting_Team'], row['Bowling_Team']]]\n",
        "        if curr != prev and prev!=None:\n",
        "            cont_ids.append([start, ind])\n",
        "            start = ind\n",
        "        prev = curr\n",
        "    cont_ids.append([start, df.shape[0]])\n",
        "    return cont_ids\n",
        "\n",
        "def get_df_split(df):\n",
        "    df_list = []\n",
        "    for start, end in get_cont_ids(df):\n",
        "        df_list.append(df[start:end].reset_index(drop=True))\n",
        "    return df_list"
      ]
    },
    {
      "cell_type": "code",
      "execution_count": 5,
      "metadata": {},
      "outputs": [],
      "source": [
        "class DataGenerator(tf.keras.utils.Sequence):\n",
        "    def __init__(self,\n",
        "            df: pd.DataFrame,\n",
        "            shuffle: bool = True,\n",
        "            validate: bool = False\n",
        "            ):\n",
        "        self.df = df\n",
        "        self.inp_cols = None\n",
        "        self.out_cols = None\n",
        "        self.validate = validate\n",
        "        self.batches = self.__fill_batches()\n",
        "        self.len_dataset = len(self.batches)\n",
        "        self.shuffle = shuffle\n",
        "\n",
        "\n",
        "    def __shuffle(self):\n",
        "        random.shuffle(self.batches)\n",
        "\n",
        "\n",
        "    def __fill_batches(self):\n",
        "        df_list = get_df_split(self.df)\n",
        "        if self.validate:\n",
        "            one_hot_lis = [get_onehot(df) for df in df_list[:math.floor(0.80*len(df_list))]]\n",
        "        else:\n",
        "            one_hot_lis = [get_onehot(df) for df in df_list[math.floor(0.80*len(df_list)):]]\n",
        "        one_hot_lis = [(inp.reindex(sorted(inp.columns), axis=1), out) for inp, out in one_hot_lis]\n",
        "        batches = []\n",
        "        for inp, out in one_hot_lis:\n",
        "            batches.append((inp.values, out.values))\n",
        "        self.inp_cols = inp.columns.to_list()\n",
        "        self.out_cols = out.columns.to_list()\n",
        "        return batches\n",
        "\n",
        "    def __len__(self):\n",
        "        return self.len_dataset\n",
        "\n",
        "\n",
        "    def __getitem__(self, index):\n",
        "        x, y = self.batches[index]\n",
        "        return np.expand_dims(x, axis=0), np.reshape(y, (1, -1))\n",
        "\n",
        "    def on_epoch_end(self):\n",
        "        if self.shuffle:\n",
        "            self.__shuffle()"
      ]
    },
    {
      "cell_type": "code",
      "execution_count": 11,
      "metadata": {
        "id": "B0i5CvjbNz9I"
      },
      "outputs": [],
      "source": [
        "model_inn_1= tf.keras.Sequential([\n",
        "  tf.keras.layers.SimpleRNN(512, return_sequences=True, input_shape=(None, 1572)),\n",
        "  tf.keras.layers.Dropout(0.2),\n",
        "  tf.keras.layers.SimpleRNN(256, return_sequences=True),\n",
        "  tf.keras.layers.Dropout(0.2),\n",
        "  tf.keras.layers.SimpleRNN(128, return_sequences=True),\n",
        "  tf.keras.layers.Dropout(0.5),\n",
        "  tf.keras.layers.Dense(57, activation='softmax')\n",
        "])\n",
        "model_inn_2= tf.keras.Sequential([\n",
        "  tf.keras.layers.SimpleRNN(512, return_sequences=True, input_shape=(None, 1573)),\n",
        "  tf.keras.layers.Dropout(0.2),\n",
        "  tf.keras.layers.SimpleRNN(256, return_sequences=True),\n",
        "  tf.keras.layers.Dropout(0.2),\n",
        "  tf.keras.layers.SimpleRNN(128, return_sequences=True),\n",
        "  tf.keras.layers.Dropout(0.5),\n",
        "  tf.keras.layers.Dense(57, activation='softmax')\n",
        "])"
      ]
    },
    {
      "cell_type": "code",
      "execution_count": 10,
      "metadata": {},
      "outputs": [],
      "source": [
        "BF = pd.read_csv(\"Data/Batting_First.csv\")\n",
        "bf_train_gen = DataGenerator(BF)\n",
        "bf_test_gen = DataGenerator(BF, validate=True)\n",
        "BS = pd.read_csv(\"Data/Chasing.csv\")\n",
        "bs_train_gen = DataGenerator(BS)\n",
        "bs_test_gen = DataGenerator(BS, validate=True)"
      ]
    },
    {
      "cell_type": "code",
      "execution_count": 12,
      "metadata": {},
      "outputs": [
        {
          "name": "stdout",
          "output_type": "stream",
          "text": [
            "Epoch 1/10\n",
            "124/124 [==============================] - 73s 569ms/step - loss: 2.1683 - accuracy: 0.3283 - val_loss: 1.7528 - val_accuracy: 0.4249\n",
            "Epoch 2/10\n",
            "124/124 [==============================] - 88s 716ms/step - loss: 1.9625 - accuracy: 0.3530 - val_loss: 1.7378 - val_accuracy: 0.4209\n",
            "Epoch 3/10\n",
            "124/124 [==============================] - 91s 732ms/step - loss: 1.8882 - accuracy: 0.3700 - val_loss: 1.7391 - val_accuracy: 0.4209\n",
            "Epoch 4/10\n",
            "124/124 [==============================] - 97s 783ms/step - loss: 1.8456 - accuracy: 0.3848 - val_loss: 1.7483 - val_accuracy: 0.4253\n",
            "Epoch 5/10\n",
            "124/124 [==============================] - 95s 769ms/step - loss: 1.7995 - accuracy: 0.4046 - val_loss: 1.7335 - val_accuracy: 0.4256\n",
            "Epoch 6/10\n",
            "124/124 [==============================] - 95s 768ms/step - loss: 1.7794 - accuracy: 0.4068 - val_loss: 1.7435 - val_accuracy: 0.4252\n",
            "Epoch 7/10\n",
            "124/124 [==============================] - 102s 829ms/step - loss: 1.7656 - accuracy: 0.4138 - val_loss: 1.7405 - val_accuracy: 0.4237\n",
            "Epoch 8/10\n",
            "124/124 [==============================] - 101s 817ms/step - loss: 1.7604 - accuracy: 0.4136 - val_loss: 1.7268 - val_accuracy: 0.4207\n",
            "Epoch 9/10\n",
            "124/124 [==============================] - 101s 816ms/step - loss: 1.7484 - accuracy: 0.4108 - val_loss: 1.7273 - val_accuracy: 0.4208\n",
            "Epoch 10/10\n",
            "124/124 [==============================] - 100s 805ms/step - loss: 1.7514 - accuracy: 0.4140 - val_loss: 1.7259 - val_accuracy: 0.4268\n"
          ]
        },
        {
          "data": {
            "text/plain": [
              "<keras.callbacks.History at 0x11b1c73c1f0>"
            ]
          },
          "execution_count": 12,
          "metadata": {},
          "output_type": "execute_result"
        }
      ],
      "source": [
        "model_inn_1.compile(\n",
        "              loss=tf.keras.losses.SparseCategoricalCrossentropy(),\n",
        "              metrics=['accuracy'],\n",
        "              optimizer=tf.keras.optimizers.Adam())\n",
        "model_inn_1.fit(bf_train_gen,\n",
        "                validation_data=bf_test_gen,\n",
        "                epochs=10,\n",
        "                )"
      ]
    },
    {
      "cell_type": "code",
      "execution_count": 13,
      "metadata": {},
      "outputs": [
        {
          "name": "stdout",
          "output_type": "stream",
          "text": [
            "Epoch 1/10\n",
            "124/124 [==============================] - 89s 717ms/step - loss: 1.7450 - accuracy: 0.4169 - val_loss: 1.7383 - val_accuracy: 0.4255\n",
            "Epoch 2/10\n",
            "124/124 [==============================] - 110s 886ms/step - loss: 1.7400 - accuracy: 0.4154 - val_loss: 1.7270 - val_accuracy: 0.4245\n",
            "Epoch 3/10\n",
            "124/124 [==============================] - 108s 873ms/step - loss: 1.7383 - accuracy: 0.4136 - val_loss: 1.7291 - val_accuracy: 0.4219\n",
            "Epoch 4/10\n",
            "124/124 [==============================] - 106s 861ms/step - loss: 1.7550 - accuracy: 0.4149 - val_loss: 1.7235 - val_accuracy: 0.4256\n",
            "Epoch 5/10\n",
            "124/124 [==============================] - 109s 879ms/step - loss: 1.7327 - accuracy: 0.4190 - val_loss: 1.7196 - val_accuracy: 0.4232\n",
            "Epoch 6/10\n",
            "124/124 [==============================] - 105s 849ms/step - loss: 1.7389 - accuracy: 0.4176 - val_loss: 1.7267 - val_accuracy: 0.4212\n",
            "Epoch 7/10\n",
            "124/124 [==============================] - 113s 913ms/step - loss: 1.7364 - accuracy: 0.4141 - val_loss: 1.7254 - val_accuracy: 0.4218\n",
            "Epoch 8/10\n",
            "124/124 [==============================] - 110s 894ms/step - loss: 1.7361 - accuracy: 0.4133 - val_loss: 1.7198 - val_accuracy: 0.4264\n",
            "Epoch 9/10\n",
            "124/124 [==============================] - 114s 916ms/step - loss: 1.7317 - accuracy: 0.4200 - val_loss: 1.7219 - val_accuracy: 0.4245\n",
            "Epoch 10/10\n",
            "124/124 [==============================] - 121s 976ms/step - loss: 1.7340 - accuracy: 0.4165 - val_loss: 1.7215 - val_accuracy: 0.4163\n"
          ]
        },
        {
          "data": {
            "text/plain": [
              "<keras.callbacks.History at 0x11b35dee640>"
            ]
          },
          "execution_count": 13,
          "metadata": {},
          "output_type": "execute_result"
        }
      ],
      "source": [
        "model_inn_1.fit(bf_train_gen,\n",
        "                validation_data=bf_test_gen,\n",
        "                epochs=10,\n",
        "                )"
      ]
    },
    {
      "cell_type": "code",
      "execution_count": 14,
      "metadata": {},
      "outputs": [],
      "source": [
        "model_inn_1.save('Models/Inn1_SimpleRNN_10.h5')"
      ]
    },
    {
      "cell_type": "code",
      "execution_count": 15,
      "metadata": {},
      "outputs": [
        {
          "name": "stdout",
          "output_type": "stream",
          "text": [
            "Epoch 1/20\n",
            "124/124 [==============================] - 90s 719ms/step - loss: 2.1270 - accuracy: 0.3292 - val_loss: 1.7522 - val_accuracy: 0.4132\n",
            "Epoch 2/20\n",
            "124/124 [==============================] - 107s 865ms/step - loss: 1.9523 - accuracy: 0.3473 - val_loss: 1.7572 - val_accuracy: 0.4103\n",
            "Epoch 3/20\n",
            "124/124 [==============================] - 103s 836ms/step - loss: 1.8900 - accuracy: 0.3609 - val_loss: 1.7598 - val_accuracy: 0.3661\n",
            "Epoch 4/20\n",
            "124/124 [==============================] - 108s 872ms/step - loss: 1.8368 - accuracy: 0.3840 - val_loss: 1.7597 - val_accuracy: 0.4061\n",
            "Epoch 5/20\n",
            "124/124 [==============================] - 114s 924ms/step - loss: 1.8114 - accuracy: 0.3907 - val_loss: 1.7411 - val_accuracy: 0.4139\n",
            "Epoch 6/20\n",
            "124/124 [==============================] - 107s 869ms/step - loss: 1.7941 - accuracy: 0.3961 - val_loss: 1.7427 - val_accuracy: 0.4009\n",
            "Epoch 7/20\n",
            "124/124 [==============================] - 105s 848ms/step - loss: 1.7818 - accuracy: 0.4008 - val_loss: 1.7330 - val_accuracy: 0.4122\n",
            "Epoch 8/20\n",
            "124/124 [==============================] - 105s 849ms/step - loss: 1.7748 - accuracy: 0.4021 - val_loss: 1.7424 - val_accuracy: 0.4162\n",
            "Epoch 9/20\n",
            "124/124 [==============================] - 106s 857ms/step - loss: 1.7676 - accuracy: 0.4043 - val_loss: 1.7384 - val_accuracy: 0.4161\n",
            "Epoch 10/20\n",
            "124/124 [==============================] - 125s 1s/step - loss: 1.7653 - accuracy: 0.4059 - val_loss: 1.7351 - val_accuracy: 0.4134\n",
            "Epoch 11/20\n",
            "124/124 [==============================] - 112s 904ms/step - loss: 1.7633 - accuracy: 0.4020 - val_loss: 1.7297 - val_accuracy: 0.4150\n",
            "Epoch 12/20\n",
            "124/124 [==============================] - 106s 854ms/step - loss: 1.7582 - accuracy: 0.4069 - val_loss: 1.7316 - val_accuracy: 0.3956\n",
            "Epoch 13/20\n",
            "124/124 [==============================] - 109s 881ms/step - loss: 1.7553 - accuracy: 0.4031 - val_loss: 1.7308 - val_accuracy: 0.4128\n",
            "Epoch 14/20\n",
            "124/124 [==============================] - 105s 851ms/step - loss: 1.7593 - accuracy: 0.4036 - val_loss: 1.7346 - val_accuracy: 0.4127\n",
            "Epoch 15/20\n",
            "124/124 [==============================] - 127s 1s/step - loss: 1.7582 - accuracy: 0.4044 - val_loss: 1.7310 - val_accuracy: 0.4159\n",
            "Epoch 16/20\n",
            "124/124 [==============================] - 118s 950ms/step - loss: 1.7580 - accuracy: 0.4063 - val_loss: 1.7508 - val_accuracy: 0.4033\n",
            "Epoch 17/20\n",
            "124/124 [==============================] - 112s 903ms/step - loss: 1.7547 - accuracy: 0.4057 - val_loss: 1.7347 - val_accuracy: 0.4067\n",
            "Epoch 18/20\n",
            "124/124 [==============================] - 116s 940ms/step - loss: 1.7537 - accuracy: 0.4046 - val_loss: 1.7302 - val_accuracy: 0.4164\n",
            "Epoch 19/20\n",
            "124/124 [==============================] - 116s 938ms/step - loss: 1.7541 - accuracy: 0.4052 - val_loss: 1.7262 - val_accuracy: 0.4130\n",
            "Epoch 20/20\n",
            "124/124 [==============================] - 110s 894ms/step - loss: 1.7521 - accuracy: 0.4078 - val_loss: 1.7254 - val_accuracy: 0.4154\n"
          ]
        },
        {
          "data": {
            "text/plain": [
              "<keras.callbacks.History at 0x11a00663fd0>"
            ]
          },
          "execution_count": 15,
          "metadata": {},
          "output_type": "execute_result"
        }
      ],
      "source": [
        "model_inn_2.compile(\n",
        "              loss=tf.keras.losses.SparseCategoricalCrossentropy(),\n",
        "              metrics=['accuracy'],\n",
        "              optimizer=tf.keras.optimizers.Adam())\n",
        "model_inn_2.fit(bs_train_gen,\n",
        "                validation_data=bs_test_gen,\n",
        "                epochs=20,\n",
        "                )"
      ]
    },
    {
      "cell_type": "code",
      "execution_count": 18,
      "metadata": {},
      "outputs": [],
      "source": [
        "model_inn_2.save('Models/Inn2_SimpleRNN_10.h5')"
      ]
    },
    {
      "cell_type": "code",
      "execution_count": 7,
      "metadata": {},
      "outputs": [],
      "source": [
        "model_inn_1 = keras.models.load_model('Models/Inn1_SimpleRNN_10.h5')\n",
        "model_inn_2 = keras.models.load_model('Models/Inn2_SimpleRNN_10.h5')"
      ]
    }
  ],
  "metadata": {
    "accelerator": "GPU",
    "colab": {
      "collapsed_sections": [],
      "name": "IPL_Test_Simulator.ipynb",
      "provenance": []
    },
    "interpreter": {
      "hash": "617e2090b34b21d2056b5327d757b72c007bf58af971eb9fd82adb30549d6c62"
    },
    "kernelspec": {
      "display_name": "Python 3.8.8 64-bit ('TensorFlow': conda)",
      "language": "python",
      "name": "python3"
    },
    "language_info": {
      "codemirror_mode": {
        "name": "ipython",
        "version": 3
      },
      "file_extension": ".py",
      "mimetype": "text/x-python",
      "name": "python",
      "nbconvert_exporter": "python",
      "pygments_lexer": "ipython3",
      "version": "3.8.12"
    }
  },
  "nbformat": 4,
  "nbformat_minor": 0
}
