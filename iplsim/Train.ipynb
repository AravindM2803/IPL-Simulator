{
  "cells": [
    {
      "cell_type": "code",
      "execution_count": 1,
      "metadata": {
        "id": "Ubn0aDXMpTeG"
      },
      "outputs": [],
      "source": [
        "#importing libraries\n",
        "import pandas as pd\n",
        "import numpy as np\n",
        "import tensorflow as tf\n",
        "import random\n",
        "from livelossplot import PlotLossesKeras\n",
        "import matplotlib.pyplot as plt\n",
        "import math\n",
        "import pickle\n",
        "from Utils.validation_callback import AdditionalValidationSets"
      ]
    },
    {
      "cell_type": "code",
      "execution_count": 2,
      "metadata": {},
      "outputs": [],
      "source": [
        "with open ('Data/Players', 'rb') as fp:\n",
        "    players = pickle.load(fp)\n",
        "with open ('Data/Venue', 'rb') as fp:\n",
        "    venue = pickle.load(fp)\n",
        "with open ('Data/Teams', 'rb') as fp:\n",
        "    teams = pickle.load(fp)\n",
        "# with open ('Data/BF_Cols', 'rb') as fp:\n",
        "#     BF_Cols = pickle.load(fp)\n",
        "# with open ('Data/BS_Cols', 'rb') as fp:\n",
        "#     BS_Cols = pickle.load(fp)"
      ]
    },
    {
      "cell_type": "code",
      "execution_count": 3,
      "metadata": {},
      "outputs": [],
      "source": [
        "def get_onehot(df):\n",
        "    # df1=pd.get_dummies(df.Toss, prefix=\"Toss\")\n",
        "    # col = \"Toss_\"\n",
        "    # df_columns = set(df[col[:-1]])\n",
        "    # not_there = list(set(teams)-df_columns)\n",
        "    # data = np.zeros((df.shape[0], len(not_there)))\n",
        "    # df_add = pd.DataFrame(data=data, columns=[col+i for i in not_there])\n",
        "    # df1 = pd.concat([df1, df_add], axis=1)\n",
        "\n",
        "    df2=pd.get_dummies(df.Venue,prefix=\"Venue\")\n",
        "    col = \"Venue_\"\n",
        "    df_columns = set(df[col[:-1]])\n",
        "    not_there = list(set(venue)-df_columns)\n",
        "    data = np.zeros((df.shape[0], len(not_there)))\n",
        "    df_add = pd.DataFrame(data=data, columns=[col+i for i in not_there])\n",
        "    df2 = pd.concat([df2, df_add], axis=1)\n",
        "\n",
        "    df3=pd.get_dummies(df.Batting_Team, prefix=\"Batting_Team\")\n",
        "    col = \"Batting_Team_\"\n",
        "    df_columns = set(df[col[:-1]])\n",
        "    not_there = list(set(teams)-df_columns)\n",
        "    data = np.zeros((df.shape[0], len(not_there)))\n",
        "    df_add = pd.DataFrame(data=data, columns=[col+i for i in not_there])\n",
        "    df3 = pd.concat([df3, df_add], axis=1)\n",
        "\n",
        "    df4=pd.get_dummies(df.Bowling_Team, prefix=\"Bowling_Team\")\n",
        "    col = \"Bowling_Team_\"\n",
        "    df_columns = set(df[col[:-1]])\n",
        "    not_there = list(set(teams)-df_columns)\n",
        "    data = np.zeros((df.shape[0], len(not_there)))\n",
        "    df_add = pd.DataFrame(data=data, columns=[col+i for i in not_there])\n",
        "    df4 = pd.concat([df4, df_add], axis=1)\n",
        "\n",
        "    df5=pd.get_dummies(df.Striker, prefix=\"Striker\")\n",
        "    df5_columns = set(df[\"Striker\"])\n",
        "    never_striker= list(set(players)-df5_columns)\n",
        "    data = np.zeros((df.shape[0], len(never_striker)))\n",
        "    df5_add = pd.DataFrame(data=data, columns=[\"Striker_\"+i for i in never_striker])\n",
        "    df5 = pd.concat([df5, df5_add], axis=1)\n",
        "\n",
        "    df6=pd.get_dummies(df.Non_Striker, prefix=\"Non_Striker\")\n",
        "    df6_columns = set(df[\"Non_Striker\"])\n",
        "    never_non_striker= list(set(players)-df6_columns)\n",
        "    data = np.zeros((df.shape[0], len(never_non_striker)))\n",
        "    df6_add = pd.DataFrame(data=data, columns=[\"Non_Striker_\"+i for i in never_non_striker])\n",
        "    df6 = pd.concat([df6, df6_add], axis=1)\n",
        "\n",
        "    df7=pd.get_dummies(df.Bowler, prefix=\"Bowler\")\n",
        "    df7_columns = set(df[\"Bowler\"])\n",
        "    never_bowler= list(set(players)-df7_columns)\n",
        "    data = np.zeros((df.shape[0], len(never_bowler)))\n",
        "    df7_add = pd.DataFrame(data=data, columns=[\"Bowler_\"+i for i in never_bowler])\n",
        "    df7 = pd.concat([df7, df7_add], axis=1)\n",
        "\n",
        "    df_one_hot=df.copy(deep=True)\n",
        "    # df_one_hot=pd.concat([df,df1,df2,df3,df4,df5,df6,df7], axis=1)\n",
        "    df_one_hot=pd.concat([df,df2,df3,df4,df5,df6,df7], axis=1)\n",
        "    df_result=pd.DataFrame(df_one_hot[\"Result\"])\n",
        "    # df_one_hot=df_one_hot.drop(columns=[\"Toss\",\"Venue\",\"Batting_Team\",\"Bowling_Team\",\"Striker\",\"Non_Striker\",\"Bowler\",\"Result\"])\n",
        "    df_one_hot=df_one_hot.drop(columns=[\"Venue\",\"Batting_Team\",\"Bowling_Team\",\"Striker\",\"Non_Striker\",\"Bowler\",\"Result\"])\n",
        "    return df_one_hot, df_result"
      ]
    },
    {
      "cell_type": "code",
      "execution_count": 4,
      "metadata": {},
      "outputs": [],
      "source": [
        "def get_cont_ids(df):\n",
        "    prev = None\n",
        "    start = 0\n",
        "    cont_ids = []\n",
        "    for ind, row in df.iterrows():\n",
        "        # curr = [[row['Toss'], row['Venue'], row['Batting_Team'], row['Bowling_Team']]]\n",
        "        curr = [[row['Venue'], row['Batting_Team'], row['Bowling_Team']]]\n",
        "        if curr != prev and prev!=None:\n",
        "            cont_ids.append([start, ind])\n",
        "            start = ind\n",
        "        prev = curr\n",
        "    cont_ids.append([start, df.shape[0]])\n",
        "    return cont_ids\n",
        "\n",
        "def get_df_split(df):\n",
        "    df_list = []\n",
        "    for start, end in get_cont_ids(df):\n",
        "        df_list.append(df[start:end].reset_index(drop=True))\n",
        "    return df_list"
      ]
    },
    {
      "cell_type": "code",
      "execution_count": 5,
      "metadata": {},
      "outputs": [],
      "source": [
        "class DataGenerator(tf.keras.utils.Sequence):\n",
        "    def __init__(self,\n",
        "            df: pd.DataFrame,\n",
        "            window: int = 6,\n",
        "            batch_size: int = 64,\n",
        "            shuffle: bool = True,\n",
        "            validate: bool = False,\n",
        "            overs_start: int = None,\n",
        "            overs_end: int = None,\n",
        "            ):\n",
        "        self.df = df\n",
        "        self.overs_start = overs_start\n",
        "        self.overs_end = overs_end\n",
        "        self.window = window\n",
        "        self.batch_size = batch_size\n",
        "        self.inp_cols = None\n",
        "        self.out_cols = None\n",
        "        self.validate = validate\n",
        "        self.batches = self.__fill_batches()\n",
        "        self.len_dataset = len(self.batches)\n",
        "        self.shuffle = shuffle\n",
        "        self.on_epoch_end()\n",
        "\n",
        "\n",
        "    def __shuffle(self):\n",
        "        for key in self.batches:\n",
        "            random.shuffle(self.batches[key])\n",
        "\n",
        "\n",
        "    def __fill_getitem_batches(self):\n",
        "        self.getitem_batches = []\n",
        "        for key in self.batches:\n",
        "            curr_size_list = self.batches[key]\n",
        "            num_items = math.ceil(len(curr_size_list)/self.batch_size)\n",
        "            for i in range(1, num_items + 1):\n",
        "                temp = curr_size_list[(i-1)*self.batch_size: i*self.batch_size]\n",
        "                inp_batch = np.array([x[0] for x in temp])\n",
        "                out_batch = np.array([x[1] for x in temp])\n",
        "                self.getitem_batches.append((inp_batch, out_batch))\n",
        "        if self.shuffle:\n",
        "            random.shuffle(self.getitem_batches)\n",
        "\n",
        "\n",
        "    def __fill_batches(self):\n",
        "        df_list = get_df_split(self.df)\n",
        "        if self.validate:\n",
        "            if self.overs_start is not None and self.overs_end is not None:\n",
        "                # filter_1 = [df[df[\"Overs\"] <= self.overs_end] for df in df_list[math.floor(0.80*len(df_list)):]]\n",
        "                # filter_2 = [df[df[\"Overs\"] >= self.overs_start] for df in filter_1]\n",
        "                one_hot_lis = [get_onehot(df[np.logical_and(df[\"Overs\"] <= self.overs_end,\n",
        "                                   df[\"Overs\"] >= self.overs_start)].reset_index(drop=True)) for df in df_list[math.floor(0.80*len(df_list)):]]\n",
        "            else:\n",
        "                one_hot_lis = [get_onehot(df) for df in df_list[math.floor(0.80*len(df_list)):]]\n",
        "        else:\n",
        "            one_hot_lis = [get_onehot(df) for df in df_list[:math.floor(0.80*len(df_list))]]\n",
        "        one_hot_lis = [(inp.reindex(sorted(inp.columns), axis=1), out) for inp, out in one_hot_lis]\n",
        "        batches = {}\n",
        "        for i in range(1, self.window + 1):\n",
        "            batches[i] = []\n",
        "        for inp, out in one_hot_lis:\n",
        "            inp_numpy, out_numpy = inp.values, out.values\n",
        "            for end in range(inp.shape[0]):\n",
        "                start = max(end - self.window + 1, 0)\n",
        "                size = end - start + 1\n",
        "                batches[size].append((inp_numpy[start: end + 1], out_numpy[end]))\n",
        "        self.inp_cols = inp.columns.to_list()\n",
        "        self.out_cols = out.columns.to_list()\n",
        "        return batches\n",
        "\n",
        "\n",
        "    def __len__(self):\n",
        "        return len(self.getitem_batches)\n",
        "\n",
        "\n",
        "    def __getitem__(self, index):\n",
        "        x, y = self.getitem_batches[index]\n",
        "        return x, np.reshape(y, (-1, ))\n",
        "\n",
        "\n",
        "    def on_epoch_end(self):\n",
        "        if self.shuffle:\n",
        "            self.__shuffle()\n",
        "        self.__fill_getitem_batches()"
      ]
    },
    {
      "cell_type": "code",
      "execution_count": 6,
      "metadata": {},
      "outputs": [],
      "source": [
        "def create_validation_sets(df, start_ends, window_size=6, batch_size=64):\n",
        "    validation_sets = []\n",
        "    for (start, end) in start_ends:\n",
        "        validation_sets.append(\n",
        "            (DataGenerator(df, window_size, batch_size,\n",
        "                          validate=True,\n",
        "                          overs_start=start,\n",
        "                          overs_end=end), f\"Overs: {start}-{end}\"))\n",
        "    return validation_sets"
      ]
    },
    {
      "cell_type": "markdown",
      "metadata": {},
      "source": [
        "## Batting First"
      ]
    },
    {
      "cell_type": "code",
      "execution_count": 7,
      "metadata": {},
      "outputs": [
        {
          "name": "stdout",
          "output_type": "stream",
          "text": [
            "Index(['Venue', 'Batting_Team', 'Bowling_Team', 'Current_Score', 'Wickets',\n",
            "       'Overs', 'Balls', 'Striker', 'Non_Striker', 'Bowler', 'Free_Hit',\n",
            "       'Result'],\n",
            "      dtype='object')\n"
          ]
        }
      ],
      "source": [
        "BF = pd.read_csv(\"Data/Batting_First.csv\")\n",
        "BF_clean = BF.drop(columns=[\"Toss\", \"Striker_Runs\", \"Striker_Balls\", \"Non_Striker_Runs\", \"Non_Striker_Balls\",\n",
        "                            \"Bowler_Runs\", \"Bowler_Runs\", \"Bowler_Overs\", \"Bowler_Balls\", \"Bowler_Wickets\"])\n",
        "print(BF_clean.columns)\n"
      ]
    },
    {
      "cell_type": "code",
      "execution_count": 8,
      "metadata": {},
      "outputs": [],
      "source": [
        "# BF = pd.read_csv(\"Data/Batting_First.csv\")\n",
        "window_size = 12\n",
        "batch_size = 8\n",
        "bf_train_gen = DataGenerator(BF_clean, window_size, batch_size)\n",
        "bf_test_gen = DataGenerator(BF_clean, window_size, batch_size, validate=True)\n",
        "validation_sets = create_validation_sets(BF_clean, ((1, 5), (6, 10), (11, 15), (16, 20)),\n",
        "                                         window_size=window_size,\n",
        "                                         batch_size=batch_size)"
      ]
    },
    {
      "cell_type": "code",
      "execution_count": 9,
      "metadata": {},
      "outputs": [],
      "source": [
        "# with open('Data\\BF_Cols.pkl', 'wb') as f:\n",
        "#     pickle.dump(bf_train_gen.inp_cols, f)"
      ]
    },
    {
      "cell_type": "code",
      "execution_count": 11,
      "metadata": {
        "id": "B0i5CvjbNz9I"
      },
      "outputs": [
        {
          "name": "stdout",
          "output_type": "stream",
          "text": [
            "Model: \"sequential\"\n",
            "_________________________________________________________________\n",
            " Layer (type)                Output Shape              Param #   \n",
            "=================================================================\n",
            " lstm (LSTM)                 (None, None, 512)         4227072   \n",
            "                                                                 \n",
            " dropout (Dropout)           (None, None, 512)         0         \n",
            "                                                                 \n",
            " lstm_1 (LSTM)               (None, None, 256)         787456    \n",
            "                                                                 \n",
            " dropout_1 (Dropout)         (None, None, 256)         0         \n",
            "                                                                 \n",
            " lstm_2 (LSTM)               (None, 64)                82176     \n",
            "                                                                 \n",
            " dropout_2 (Dropout)         (None, 64)                0         \n",
            "                                                                 \n",
            " dense (Dense)               (None, 57)                3705      \n",
            "                                                                 \n",
            "=================================================================\n",
            "Total params: 5,100,409\n",
            "Trainable params: 5,100,409\n",
            "Non-trainable params: 0\n",
            "_________________________________________________________________\n"
          ]
        }
      ],
      "source": [
        "model_inn_1 = tf.keras.Sequential([\n",
        "  tf.keras.layers.LSTM(512, return_sequences=True, input_shape=(None, bf_test_gen[0][0].shape[-1])),\n",
        "  tf.keras.layers.Dropout(0.2),\n",
        "  tf.keras.layers.LSTM(256, return_sequences=True),\n",
        "  tf.keras.layers.Dropout(0.2),\n",
        "  tf.keras.layers.LSTM(64, return_sequences=False),\n",
        "  tf.keras.layers.Dropout(0.2),\n",
        "  tf.keras.layers.Dense(57, activation='softmax')\n",
        "])\n",
        "model_inn_1.summary()"
      ]
    },
    {
      "cell_type": "code",
      "execution_count": 10,
      "metadata": {},
      "outputs": [],
      "source": [
        "model_inn_1 = tf.keras.models.load_model('Models\\\\Inn1_SimpleRNN_10.h5')"
      ]
    },
    {
      "cell_type": "code",
      "execution_count": 11,
      "metadata": {},
      "outputs": [
        {
          "name": "stdout",
          "output_type": "stream",
          "text": [
            "Epoch 1/10\n",
            "488/488 [==============================] - 17s 34ms/step - loss: 1.6556 - accuracy: 0.4344\n",
            "487/487 [==============================] - 18s 37ms/step - loss: 1.6711 - accuracy: 0.4086\n",
            "478/478 [==============================] - 21s 43ms/step - loss: 1.6834 - accuracy: 0.4327\n",
            "481/481 [==============================] - 53s 110ms/step - loss: 2.0496 - accuracy: 0.3772\n",
            "7638/7638 [==============================] - 796s 104ms/step - loss: 1.7580 - accuracy: 0.4161 - val_loss: 1.7633 - val_accuracy: 0.4140\n",
            "Epoch 2/10\n",
            "488/488 [==============================] - 15s 31ms/step - loss: 1.6497 - accuracy: 0.4325\n",
            "487/487 [==============================] - 20s 41ms/step - loss: 1.6762 - accuracy: 0.3795\n",
            "478/478 [==============================] - 21s 44ms/step - loss: 1.6873 - accuracy: 0.4223\n",
            "481/481 [==============================] - 21s 44ms/step - loss: 2.0017 - accuracy: 0.3655\n",
            "7638/7638 [==============================] - 730s 96ms/step - loss: 1.7561 - accuracy: 0.4142 - val_loss: 1.7523 - val_accuracy: 0.4002\n",
            "Epoch 3/10\n",
            "488/488 [==============================] - 9s 18ms/step - loss: 1.6564 - accuracy: 0.4232\n",
            "487/487 [==============================] - 8s 16ms/step - loss: 1.6507 - accuracy: 0.4203\n",
            "478/478 [==============================] - 16s 32ms/step - loss: 1.6701 - accuracy: 0.4372\n",
            "481/481 [==============================] - 22s 46ms/step - loss: 1.9995 - accuracy: 0.3753\n",
            "7638/7638 [==============================] - 695s 91ms/step - loss: 1.7546 - accuracy: 0.4165 - val_loss: 1.7435 - val_accuracy: 0.4138\n",
            "Epoch 4/10\n",
            "488/488 [==============================] - 8s 17ms/step - loss: 1.6677 - accuracy: 0.4198\n",
            "487/487 [==============================] - 13s 26ms/step - loss: 1.6541 - accuracy: 0.4177\n",
            "478/478 [==============================] - 14s 29ms/step - loss: 1.6766 - accuracy: 0.4367\n",
            "481/481 [==============================] - 10s 21ms/step - loss: 2.0093 - accuracy: 0.3753\n",
            "7638/7638 [==============================] - 651s 85ms/step - loss: 1.7528 - accuracy: 0.4185 - val_loss: 1.7516 - val_accuracy: 0.4123\n",
            "Epoch 5/10\n",
            "488/488 [==============================] - 5s 9ms/step - loss: 1.6531 - accuracy: 0.4245\n",
            "487/487 [==============================] - 6s 13ms/step - loss: 1.6492 - accuracy: 0.4237\n",
            "478/478 [==============================] - 6s 13ms/step - loss: 1.6729 - accuracy: 0.4380\n",
            "481/481 [==============================] - 12s 24ms/step - loss: 1.9912 - accuracy: 0.3753\n",
            "7638/7638 [==============================] - 572s 75ms/step - loss: 1.7509 - accuracy: 0.4195 - val_loss: 1.7409 - val_accuracy: 0.4156\n",
            "Epoch 6/10\n",
            "488/488 [==============================] - 10s 20ms/step - loss: 1.6512 - accuracy: 0.4250\n",
            "487/487 [==============================] - 14s 28ms/step - loss: 1.6467 - accuracy: 0.4190\n",
            "478/478 [==============================] - 7s 14ms/step - loss: 1.6648 - accuracy: 0.4393\n",
            "481/481 [==============================] - 4s 8ms/step - loss: 2.0036 - accuracy: 0.3751\n",
            "7638/7638 [==============================] - 568s 74ms/step - loss: 1.7501 - accuracy: 0.4188 - val_loss: 1.7409 - val_accuracy: 0.4148\n",
            "Epoch 7/10\n",
            "488/488 [==============================] - 7s 13ms/step - loss: 1.6484 - accuracy: 0.4255\n",
            "487/487 [==============================] - 5s 11ms/step - loss: 1.6608 - accuracy: 0.4229\n",
            "478/478 [==============================] - 5s 11ms/step - loss: 1.6770 - accuracy: 0.4364\n",
            "481/481 [==============================] - 5s 10ms/step - loss: 2.0067 - accuracy: 0.3753\n",
            "7638/7638 [==============================] - 468s 61ms/step - loss: 1.7518 - accuracy: 0.4208 - val_loss: 1.7474 - val_accuracy: 0.4152\n",
            "Epoch 8/10\n",
            "488/488 [==============================] - 5s 10ms/step - loss: 1.6529 - accuracy: 0.4276\n",
            "487/487 [==============================] - 6s 12ms/step - loss: 1.6500 - accuracy: 0.4242\n",
            "478/478 [==============================] - 6s 13ms/step - loss: 1.6715 - accuracy: 0.4385\n",
            "481/481 [==============================] - 7s 13ms/step - loss: 1.9990 - accuracy: 0.3753\n",
            "7638/7638 [==============================] - 1460s 191ms/step - loss: 1.7523 - accuracy: 0.4183 - val_loss: 1.7427 - val_accuracy: 0.4157\n",
            "Epoch 9/10\n",
            "488/488 [==============================] - 4s 9ms/step - loss: 1.6476 - accuracy: 0.4258\n",
            "487/487 [==============================] - 5s 10ms/step - loss: 1.6574 - accuracy: 0.4226\n",
            "478/478 [==============================] - 6s 13ms/step - loss: 1.6705 - accuracy: 0.4377\n",
            "481/481 [==============================] - 5s 10ms/step - loss: 2.0036 - accuracy: 0.3753\n",
            "7638/7638 [==============================] - 443s 58ms/step - loss: 1.7521 - accuracy: 0.4179 - val_loss: 1.7442 - val_accuracy: 0.4155\n",
            "Epoch 10/10\n",
            "488/488 [==============================] - 6s 11ms/step - loss: 1.6584 - accuracy: 0.4248\n",
            "487/487 [==============================] - 6s 12ms/step - loss: 1.6574 - accuracy: 0.4276\n",
            "478/478 [==============================] - 6s 11ms/step - loss: 1.6767 - accuracy: 0.4385\n",
            "481/481 [==============================] - 7s 14ms/step - loss: 2.0033 - accuracy: 0.3753\n",
            "7638/7638 [==============================] - 466s 61ms/step - loss: 1.7518 - accuracy: 0.4180 - val_loss: 1.7481 - val_accuracy: 0.4166\n"
          ]
        }
      ],
      "source": [
        "start = 0\n",
        "epochs = 10\n",
        "validation_callback = AdditionalValidationSets(validation_sets)\n",
        "model_inn_1.compile(\n",
        "              loss=tf.keras.losses.SparseCategoricalCrossentropy(),\n",
        "              metrics=['accuracy'],\n",
        "              optimizer=tf.keras.optimizers.Adam())\n",
        "history = model_inn_1.fit(bf_train_gen,\n",
        "                validation_data=bf_test_gen,\n",
        "                epochs=epochs,\n",
        "                callbacks=[AdditionalValidationSets(validation_sets)] # , PlotLossesKeras()]\n",
        "                )"
      ]
    },
    {
      "cell_type": "code",
      "execution_count": 12,
      "metadata": {},
      "outputs": [
        {
          "data": {
            "image/png": "[encoded data removed]",
            "text/plain": [
              "<Figure size 432x288 with 1 Axes>"
            ]
          },
          "metadata": {
            "needs_background": "light"
          },
          "output_type": "display_data"
        },
        {
          "data": {
            "image/png": "[encoded data removed]",
            "text/plain": [
              "<Figure size 432x288 with 1 Axes>"
            ]
          },
          "metadata": {
            "needs_background": "light"
          },
          "output_type": "display_data"
        }
      ],
      "source": [
        "history_val_callback = history.history\n",
        "for key in sorted([i for i in history_val_callback if i.split(\"_\")[0]!=\"val\"]):\n",
        "    plt.plot(history_val_callback[key])\n",
        "    plt.plot(history_val_callback[\"val_\"+key])\n",
        "    plt.xlabel('epoch')\n",
        "    plt.ylabel(key)\n",
        "    plt.title(key)\n",
        "    plt.show()"
      ]
    },
    {
      "cell_type": "code",
      "execution_count": 13,
      "metadata": {},
      "outputs": [],
      "source": [
        "model_inn_1.save('Models/Inn1_RNN_10to20.h5')"
      ]
    },
    {
      "cell_type": "markdown",
      "metadata": {},
      "source": [
        "## Chasing"
      ]
    },
    {
      "cell_type": "code",
      "execution_count": 7,
      "metadata": {},
      "outputs": [
        {
          "name": "stdout",
          "output_type": "stream",
          "text": [
            "Index(['Venue', 'Batting_Team', 'Bowling_Team', 'Current_Score', 'Wickets',\n",
            "       'Overs', 'Balls', 'Striker', 'Non_Striker', 'Bowler', 'Free_Hit',\n",
            "       'Target', 'Result'],\n",
            "      dtype='object')\n"
          ]
        }
      ],
      "source": [
        "# del bf_train_gen, bf_test_gen\n",
        "BS = pd.read_csv(\"Data/Chasing.csv\")\n",
        "BS_clean = BS.drop(columns=[\"Toss\", \"Striker_Runs\", \"Striker_Balls\", \"Non_Striker_Runs\", \"Non_Striker_Balls\",\n",
        "                            \"Bowler_Runs\", \"Bowler_Runs\", \"Bowler_Overs\", \"Bowler_Balls\", \"Bowler_Wickets\"])\n",
        "print(BS_clean.columns)"
      ]
    },
    {
      "cell_type": "code",
      "execution_count": 8,
      "metadata": {},
      "outputs": [],
      "source": [
        "# BF = pd.read_csv(\"Data/Batting_First.csv\")\n",
        "window_size = 12\n",
        "batch_size = 8\n",
        "bs_train_gen = DataGenerator(BS_clean, window_size, batch_size)\n",
        "bs_test_gen = DataGenerator(BS_clean, window_size, batch_size, validate=True)\n",
        "validation_sets = create_validation_sets(BS_clean, ((1, 5), (6, 10), (11, 15), (16, 20)),\n",
        "                                         window_size=window_size,\n",
        "                                         batch_size=batch_size)"
      ]
    },
    {
      "cell_type": "code",
      "execution_count": 11,
      "metadata": {},
      "outputs": [
        {
          "name": "stdout",
          "output_type": "stream",
          "text": [
            "Model: \"sequential_1\"\n",
            "_________________________________________________________________\n",
            " Layer (type)                Output Shape              Param #   \n",
            "=================================================================\n",
            " dense_1 (Dense)             (None, None, 512)         795136    \n",
            "                                                                 \n",
            " dropout_3 (Dropout)         (None, None, 512)         0         \n",
            "                                                                 \n",
            " simple_rnn_3 (SimpleRNN)    (None, None, 256)         196864    \n",
            "                                                                 \n",
            " dropout_4 (Dropout)         (None, None, 256)         0         \n",
            "                                                                 \n",
            " simple_rnn_4 (SimpleRNN)    (None, None, 64)          20544     \n",
            "                                                                 \n",
            " dropout_5 (Dropout)         (None, None, 64)          0         \n",
            "                                                                 \n",
            " simple_rnn_5 (SimpleRNN)    (None, 57)                6954      \n",
            "                                                                 \n",
            "=================================================================\n",
            "Total params: 1,019,498\n",
            "Trainable params: 1,019,498\n",
            "Non-trainable params: 0\n",
            "_________________________________________________________________\n"
          ]
        }
      ],
      "source": [
        "model_inn_2= tf.keras.Sequential([\n",
        "  # tf.keras.layers.SimpleRNN(512, return_sequences=True, input_shape=(None, bs_test_gen[0][0].shape[-1])),\n",
        "  tf.keras.layers.Dense(512, input_shape=(None, bs_test_gen[0][0].shape[-1])),\n",
        "  tf.keras.layers.Dropout(0.2),\n",
        "  tf.keras.layers.SimpleRNN(256, return_sequences=True),\n",
        "  tf.keras.layers.Dropout(0.2),\n",
        "  tf.keras.layers.SimpleRNN(64, return_sequences=True),\n",
        "  tf.keras.layers.Dropout(0.2),\n",
        "  tf.keras.layers.SimpleRNN(57, return_sequences=False, activation=\"softmax\"),\n",
        "])\n",
        "model_inn_2.summary()"
      ]
    },
    {
      "cell_type": "code",
      "execution_count": 12,
      "metadata": {},
      "outputs": [
        {
          "name": "stdout",
          "output_type": "stream",
          "text": [
            "Epoch 1/10\n",
            "487/487 [==============================] - 17s 34ms/step - loss: 1.6989 - accuracy: 0.4037\n",
            "484/484 [==============================] - 7s 15ms/step - loss: 1.6703 - accuracy: 0.3629\n",
            "458/458 [==============================] - 6s 13ms/step - loss: 1.7099 - accuracy: 0.4315\n",
            "367/367 [==============================] - 6s 15ms/step - loss: 2.0453 - accuracy: 0.3682\n",
            "7151/7151 [==============================] - 616s 86ms/step - loss: 1.7962 - accuracy: 0.3593 - val_loss: 1.7642 - val_accuracy: 0.3925\n",
            "Epoch 2/10\n",
            "487/487 [==============================] - 9s 19ms/step - loss: 1.6914 - accuracy: 0.4027\n",
            "484/484 [==============================] - 12s 24ms/step - loss: 1.6669 - accuracy: 0.4258\n",
            "458/458 [==============================] - 10s 22ms/step - loss: 1.7099 - accuracy: 0.4307\n",
            "367/367 [==============================] - 14s 37ms/step - loss: 2.0531 - accuracy: 0.3585\n",
            "7151/7151 [==============================] - 703s 98ms/step - loss: 1.7544 - accuracy: 0.3985 - val_loss: 1.7634 - val_accuracy: 0.4092\n",
            "Epoch 3/10\n",
            "487/487 [==============================] - 13s 27ms/step - loss: 1.6944 - accuracy: 0.4032\n",
            "484/484 [==============================] - 20s 42ms/step - loss: 1.6723 - accuracy: 0.4130\n",
            "458/458 [==============================] - 23s 50ms/step - loss: 1.7088 - accuracy: 0.4343\n",
            "367/367 [==============================] - 16s 43ms/step - loss: 1.9859 - accuracy: 0.3686\n",
            "7151/7151 [==============================] - 882s 123ms/step - loss: 1.7523 - accuracy: 0.3969 - val_loss: 1.7515 - val_accuracy: 0.4063\n",
            "Epoch 4/10\n",
            "487/487 [==============================] - 12s 24ms/step - loss: 1.6944 - accuracy: 0.3861\n",
            "484/484 [==============================] - 25s 51ms/step - loss: 1.6706 - accuracy: 0.4295\n",
            "458/458 [==============================] - 19s 40ms/step - loss: 1.7184 - accuracy: 0.4354\n",
            "367/367 [==============================] - 4s 12ms/step - loss: 2.0372 - accuracy: 0.3682\n",
            "7151/7151 [==============================] - 843s 118ms/step - loss: 1.7506 - accuracy: 0.3991 - val_loss: 1.7641 - val_accuracy: 0.4050\n",
            "Epoch 5/10\n",
            "487/487 [==============================] - 11s 23ms/step - loss: 1.7067 - accuracy: 0.4048\n",
            "484/484 [==============================] - 12s 25ms/step - loss: 1.6660 - accuracy: 0.4276\n",
            "458/458 [==============================] - 26s 57ms/step - loss: 1.6985 - accuracy: 0.4356\n",
            "367/367 [==============================] - 20s 54ms/step - loss: 2.0328 - accuracy: 0.3679\n",
            "7151/7151 [==============================] - 849s 119ms/step - loss: 1.7515 - accuracy: 0.3955 - val_loss: 1.7599 - val_accuracy: 0.4111\n",
            "Epoch 6/10\n",
            "487/487 [==============================] - 16s 33ms/step - loss: 1.6990 - accuracy: 0.4030\n",
            "484/484 [==============================] - 8s 17ms/step - loss: 1.6829 - accuracy: 0.3060\n",
            "458/458 [==============================] - 7s 16ms/step - loss: 1.7275 - accuracy: 0.3559\n",
            "367/367 [==============================] - 6s 17ms/step - loss: 2.0548 - accuracy: 0.3610\n",
            "7151/7151 [==============================] - 880s 123ms/step - loss: 1.7468 - accuracy: 0.4031 - val_loss: 1.7737 - val_accuracy: 0.3570\n",
            "Epoch 7/10\n",
            "487/487 [==============================] - 8s 16ms/step - loss: 1.6974 - accuracy: 0.4022\n",
            "484/484 [==============================] - 12s 25ms/step - loss: 1.6825 - accuracy: 0.3991\n",
            "458/458 [==============================] - 10s 22ms/step - loss: 1.7088 - accuracy: 0.4354\n",
            "367/367 [==============================] - 8s 22ms/step - loss: 2.0050 - accuracy: 0.3682\n",
            "7151/7151 [==============================] - 708s 99ms/step - loss: 1.7458 - accuracy: 0.4012 - val_loss: 1.7583 - val_accuracy: 0.4026\n",
            "Epoch 8/10\n",
            "487/487 [==============================] - 22s 45ms/step - loss: 1.7096 - accuracy: 0.4019\n",
            "484/484 [==============================] - 29s 58ms/step - loss: 1.6642 - accuracy: 0.4305\n",
            "458/458 [==============================] - 17s 36ms/step - loss: 1.6983 - accuracy: 0.4348\n",
            "367/367 [==============================] - 4s 12ms/step - loss: 2.0079 - accuracy: 0.3679\n",
            "7151/7151 [==============================] - 889s 124ms/step - loss: 1.7457 - accuracy: 0.4023 - val_loss: 1.7556 - val_accuracy: 0.4102\n",
            "Epoch 9/10\n",
            "487/487 [==============================] - 18s 36ms/step - loss: 1.6903 - accuracy: 0.4024\n",
            "484/484 [==============================] - 9s 18ms/step - loss: 1.6628 - accuracy: 0.4211\n",
            "458/458 [==============================] - 13s 27ms/step - loss: 1.7018 - accuracy: 0.4345\n",
            "367/367 [==============================] - 18s 50ms/step - loss: 2.0016 - accuracy: 0.3682\n",
            "7151/7151 [==============================] - 950s 133ms/step - loss: 1.7465 - accuracy: 0.4015 - val_loss: 1.7493 - val_accuracy: 0.4084\n",
            "Epoch 10/10\n",
            "487/487 [==============================] - 17s 35ms/step - loss: 1.6995 - accuracy: 0.4030\n",
            "484/484 [==============================] - 8s 16ms/step - loss: 1.6611 - accuracy: 0.4206\n",
            "458/458 [==============================] - 5s 12ms/step - loss: 1.6956 - accuracy: 0.4310\n",
            "367/367 [==============================] - 5s 13ms/step - loss: 2.0113 - accuracy: 0.3585\n",
            "7151/7151 [==============================] - 938s 131ms/step - loss: 1.7449 - accuracy: 0.4027 - val_loss: 1.7513 - val_accuracy: 0.4084\n"
          ]
        }
      ],
      "source": [
        "start = 0\n",
        "epochs = 10\n",
        "validation_callback = AdditionalValidationSets(validation_sets)\n",
        "model_inn_2.compile(\n",
        "              loss=tf.keras.losses.SparseCategoricalCrossentropy(),\n",
        "              metrics=['accuracy'],\n",
        "              optimizer=tf.keras.optimizers.Adam())\n",
        "history = model_inn_2.fit(bs_train_gen,\n",
        "                validation_data=bs_test_gen,\n",
        "                epochs=epochs,\n",
        "                callbacks=[AdditionalValidationSets(validation_sets)] # , PlotLossesKeras()]\n",
        "                )"
      ]
    },
    {
      "cell_type": "code",
      "execution_count": null,
      "metadata": {},
      "outputs": [],
      "source": [
        "history_val_callback = history.history\n",
        "for key in sorted([i for i in history_val_callback if i.split(\"_\")[0]!=\"val\"]):\n",
        "    plt.plot(history_val_callback[key])\n",
        "    plt.plot(history_val_callback[\"val_\"+key])\n",
        "    plt.xlabel('epoch')\n",
        "    plt.ylabel(key)\n",
        "    plt.title(key)\n",
        "    plt.show()"
      ]
    },
    {
      "cell_type": "code",
      "execution_count": 13,
      "metadata": {},
      "outputs": [],
      "source": [
        "model_inn_2.save('Models/Inn2_SimpleRNN_10.h5')"
      ]
    },
    {
      "cell_type": "markdown",
      "metadata": {},
      "source": [
        "## Visualization"
      ]
    },
    {
      "cell_type": "code",
      "execution_count": 53,
      "metadata": {},
      "outputs": [],
      "source": [
        "import re\n",
        "cont = 0\n",
        "with open(\"Progress\\\\inn2-SimpleRNN-ep0to10.txt\") as fp:\n",
        "    txt_file = fp.read()\n",
        "pat = re.compile(r\"Epoch \\d+/\\d+\\n\"\n",
        "                 r\".*?loss: (\\d+\\.?\\d*) - accuracy: (\\d+\\.?\\d*)\\n\"\n",
        "                 r\".*?loss: (\\d+\\.?\\d*) - accuracy: (\\d+\\.?\\d*)\\n\"\n",
        "                 r\".*?loss: (\\d+\\.?\\d*) - accuracy: (\\d+\\.?\\d*)\\n\"\n",
        "                 r\".*?loss: (\\d+\\.?\\d*) - accuracy: (\\d+\\.?\\d*)\\n\"\n",
        "                 r\".*?loss: (\\d+\\.?\\d*) - accuracy: (\\d+\\.?\\d*) - val_loss: (\\d+\\.?\\d*) - val_accuracy: (\\d+\\.?\\d*)\"\n",
        "                 )\n",
        "matches = re.findall(pat, txt_file)\n",
        "if not cont:\n",
        "    history = {\"val_loss_1to5\": [],\n",
        "            \"val_accuracy_1to5\": [],\n",
        "            \"val_loss_6to10\": [],\n",
        "            \"val_accuracy_6to10\": [],\n",
        "            \"val_loss_11to15\": [],\n",
        "            \"val_accuracy_11to15\": [],\n",
        "            \"val_loss_16to20\": [],\n",
        "            \"val_accuracy_16to20\": [],\n",
        "            \"train_loss\": [],\n",
        "            \"train_accuracy\": [],\n",
        "            \"val_loss\": [],\n",
        "            \"val_accuracy\": [],\n",
        "            }\n",
        "val_overs = ((1, 5), (6, 10), (11, 15), (16, 20))\n",
        "for ep in matches:\n",
        "    for ind, (start, end) in enumerate(val_overs):\n",
        "        history[f\"val_loss_{start}to{end}\"].append(float(ep[ind*2]))\n",
        "        history[f\"val_accuracy_{start}to{end}\"].append(float(ep[ind*2 + 1]))\n",
        "    history[f\"train_loss\"].append(float(ep[8]))\n",
        "    history[f\"train_accuracy\"].append(float(ep[9]))\n",
        "    history[f\"val_loss\"].append(float(ep[10]))\n",
        "    history[f\"val_accuracy\"].append(float(ep[11]))"
      ]
    },
    {
      "cell_type": "code",
      "execution_count": 54,
      "metadata": {},
      "outputs": [
        {
          "data": {
            "image/png": "[encoded data removed]",
            "text/plain": [
              "<Figure size 432x288 with 1 Axes>"
            ]
          },
          "metadata": {
            "needs_background": "light"
          },
          "output_type": "display_data"
        },
        {
          "data": {
            "image/png": "[encoded data removed]",
            "text/plain": [
              "<Figure size 432x288 with 1 Axes>"
            ]
          },
          "metadata": {
            "needs_background": "light"
          },
          "output_type": "display_data"
        },
        {
          "data": {
            "image/png": "[encoded data removed]",
            "text/plain": [
              "<Figure size 432x288 with 1 Axes>"
            ]
          },
          "metadata": {
            "needs_background": "light"
          },
          "output_type": "display_data"
        },
        {
          "data": {
            "image/png": "[encoded data removed]",
            "text/plain": [
              "<Figure size 432x288 with 1 Axes>"
            ]
          },
          "metadata": {
            "needs_background": "light"
          },
          "output_type": "display_data"
        }
      ],
      "source": [
        "for (start, end) in val_overs:\n",
        "    plt.plot(history[f\"val_loss_{start}to{end}\"], label=f\"Ep{start}to{end}\")\n",
        "plt.legend()\n",
        "plt.xlabel('Epoch')\n",
        "plt.ylabel(\"Loss\")\n",
        "plt.title(\"Val Loss\")\n",
        "plt.show()\n",
        "\n",
        "for (start, end) in val_overs:\n",
        "    plt.plot(history[f\"val_accuracy_{start}to{end}\"], label=f\"Ep{start}to{end}\")\n",
        "plt.legend()\n",
        "plt.xlabel('Epoch')\n",
        "plt.ylabel(\"Accuracy\")\n",
        "plt.title(\"Val Accuracy\")\n",
        "plt.show()\n",
        "\n",
        "plt.plot(history[\"train_loss\"], label=\"Training\")\n",
        "plt.plot(history[\"val_loss\"], label=\"Validation\")\n",
        "plt.legend()\n",
        "plt.xlabel('Epoch')\n",
        "plt.ylabel(\"Loss\")\n",
        "plt.title(\"Loss\")\n",
        "plt.show()\n",
        "\n",
        "plt.plot(history[\"train_accuracy\"], label=\"Training\")\n",
        "plt.plot(history[\"val_accuracy\"], label=\"Validation\")\n",
        "plt.legend()\n",
        "plt.xlabel('Epoch')\n",
        "plt.ylabel(\"Accuracy\")\n",
        "plt.title(\"Accuracy\")\n",
        "plt.show()"
      ]
    },
    {
      "cell_type": "code",
      "execution_count": null,
      "metadata": {},
      "outputs": [],
      "source": []
    }
  ],
  "metadata": {
    "accelerator": "GPU",
    "colab": {
      "collapsed_sections": [],
      "name": "IPL_Test_Simulator.ipynb",
      "provenance": []
    },
    "interpreter": {
      "hash": "617e2090b34b21d2056b5327d757b72c007bf58af971eb9fd82adb30549d6c62"
    },
    "kernelspec": {
      "display_name": "Python 3.8.8 64-bit ('TensorFlow': conda)",
      "language": "python",
      "name": "python3"
    },
    "language_info": {
      "codemirror_mode": {
        "name": "ipython",
        "version": 3
      },
      "file_extension": ".py",
      "mimetype": "text/x-python",
      "name": "python",
      "nbconvert_exporter": "python",
      "pygments_lexer": "ipython3",
      "version": "3.8.13"
    }
  },
  "nbformat": 4,
  "nbformat_minor": 0
}
